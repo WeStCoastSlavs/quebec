{
 "cells": [
  {
   "cell_type": "code",
   "execution_count": 1,
   "metadata": {
    "collapsed": true
   },
   "outputs": [],
   "source": [
    "import numpy as np\n",
    "import pandas as pd\n",
    "from collections import Counter\n",
    "import math\n",
    "import matplotlib.pyplot as plt"
   ]
  },
  {
   "cell_type": "code",
   "execution_count": 2,
   "metadata": {
    "collapsed": false
   },
   "outputs": [
    {
     "data": {
      "text/html": [
       "<div>\n",
       "<table border=\"1\" class=\"dataframe\">\n",
       "  <thead>\n",
       "    <tr style=\"text-align: right;\">\n",
       "      <th></th>\n",
       "      <th>user</th>\n",
       "      <th>date</th>\n",
       "      <th>hashtag</th>\n",
       "    </tr>\n",
       "  </thead>\n",
       "  <tbody>\n",
       "    <tr>\n",
       "      <th>0</th>\n",
       "      <td>webcom09</td>\n",
       "      <td>2008-11-11</td>\n",
       "      <td>#webcom08</td>\n",
       "    </tr>\n",
       "    <tr>\n",
       "      <th>1</th>\n",
       "      <td>kirsn</td>\n",
       "      <td>2008-11-11</td>\n",
       "      <td>#cassandra</td>\n",
       "    </tr>\n",
       "    <tr>\n",
       "      <th>2</th>\n",
       "      <td>mediahatch</td>\n",
       "      <td>2008-11-11</td>\n",
       "      <td>#pubcon</td>\n",
       "    </tr>\n",
       "    <tr>\n",
       "      <th>3</th>\n",
       "      <td>Give_Respect</td>\n",
       "      <td>2008-11-11</td>\n",
       "      <td>#107</td>\n",
       "    </tr>\n",
       "    <tr>\n",
       "      <th>4</th>\n",
       "      <td>Nathan_Safran</td>\n",
       "      <td>2008-11-11</td>\n",
       "      <td>#2</td>\n",
       "    </tr>\n",
       "  </tbody>\n",
       "</table>\n",
       "</div>"
      ],
      "text/plain": [
       "            user        date     hashtag\n",
       "0       webcom09  2008-11-11   #webcom08\n",
       "1          kirsn  2008-11-11  #cassandra\n",
       "2     mediahatch  2008-11-11     #pubcon\n",
       "3   Give_Respect  2008-11-11        #107\n",
       "4  Nathan_Safran  2008-11-11          #2"
      ]
     },
     "execution_count": 2,
     "metadata": {},
     "output_type": "execute_result"
    }
   ],
   "source": [
    "data = pd.read_table(\"onlyhash.data\",names=[\"user\",\"date\",\"hashtag\"])\n",
    "data.head()"
   ]
  },
  {
   "cell_type": "code",
   "execution_count": 3,
   "metadata": {
    "collapsed": false
   },
   "outputs": [
    {
     "data": {
      "text/plain": [
       "(926507, 3)"
      ]
     },
     "execution_count": 3,
     "metadata": {},
     "output_type": "execute_result"
    }
   ],
   "source": [
    "data.shape"
   ]
  },
  {
   "cell_type": "code",
   "execution_count": 4,
   "metadata": {
    "collapsed": false
   },
   "outputs": [
    {
     "data": {
      "text/html": [
       "<div>\n",
       "<table border=\"1\" class=\"dataframe\">\n",
       "  <thead>\n",
       "    <tr style=\"text-align: right;\">\n",
       "      <th></th>\n",
       "      <th>user</th>\n",
       "      <th>date</th>\n",
       "      <th>hashtag</th>\n",
       "      <th>hashtag_list</th>\n",
       "    </tr>\n",
       "  </thead>\n",
       "  <tbody>\n",
       "    <tr>\n",
       "      <th>0</th>\n",
       "      <td>webcom09</td>\n",
       "      <td>2008-11-11</td>\n",
       "      <td>#webcom08</td>\n",
       "      <td>[#webcom08]</td>\n",
       "    </tr>\n",
       "    <tr>\n",
       "      <th>1</th>\n",
       "      <td>kirsn</td>\n",
       "      <td>2008-11-11</td>\n",
       "      <td>#cassandra</td>\n",
       "      <td>[#cassandra]</td>\n",
       "    </tr>\n",
       "    <tr>\n",
       "      <th>2</th>\n",
       "      <td>mediahatch</td>\n",
       "      <td>2008-11-11</td>\n",
       "      <td>#pubcon</td>\n",
       "      <td>[#pubcon]</td>\n",
       "    </tr>\n",
       "    <tr>\n",
       "      <th>3</th>\n",
       "      <td>Give_Respect</td>\n",
       "      <td>2008-11-11</td>\n",
       "      <td>#107</td>\n",
       "      <td>[#107]</td>\n",
       "    </tr>\n",
       "    <tr>\n",
       "      <th>4</th>\n",
       "      <td>Nathan_Safran</td>\n",
       "      <td>2008-11-11</td>\n",
       "      <td>#2</td>\n",
       "      <td>[#2]</td>\n",
       "    </tr>\n",
       "  </tbody>\n",
       "</table>\n",
       "</div>"
      ],
      "text/plain": [
       "            user        date     hashtag  hashtag_list\n",
       "0       webcom09  2008-11-11   #webcom08   [#webcom08]\n",
       "1          kirsn  2008-11-11  #cassandra  [#cassandra]\n",
       "2     mediahatch  2008-11-11     #pubcon     [#pubcon]\n",
       "3   Give_Respect  2008-11-11        #107        [#107]\n",
       "4  Nathan_Safran  2008-11-11          #2          [#2]"
      ]
     },
     "execution_count": 4,
     "metadata": {},
     "output_type": "execute_result"
    }
   ],
   "source": [
    "data[\"hashtag_list\"] = data.hashtag.apply(lambda x: x.split(\" \"))\n",
    "# data = data.head(10)\n",
    "data.head(5)"
   ]
  },
  {
   "cell_type": "code",
   "execution_count": 5,
   "metadata": {
    "collapsed": false
   },
   "outputs": [
    {
     "name": "stdout",
     "output_type": "stream",
     "text": [
      "17517\n",
      "7637\n"
     ]
    }
   ],
   "source": [
    "x = data[data[\"date\"] == '2009-10-12']\n",
    "print(len(x))\n",
    "print(len(x.user.unique()))"
   ]
  },
  {
   "cell_type": "code",
   "execution_count": 6,
   "metadata": {
    "collapsed": false
   },
   "outputs": [
    {
     "data": {
      "text/plain": [
       "array([['#webcom08'], ['#cassandra'], ['#pubcon'], ..., ['#jobsearch'],\n",
       "       ['#animation', '#toystory3', '#toystory'], ['#yshuttle']], dtype=object)"
      ]
     },
     "execution_count": 6,
     "metadata": {},
     "output_type": "execute_result"
    }
   ],
   "source": [
    "data.hashtag_list.values"
   ]
  },
  {
   "cell_type": "code",
   "execution_count": 7,
   "metadata": {
    "collapsed": false
   },
   "outputs": [
    {
     "data": {
      "text/plain": [
       "(926507, 4)"
      ]
     },
     "execution_count": 7,
     "metadata": {},
     "output_type": "execute_result"
    }
   ],
   "source": [
    "data.shape"
   ]
  },
  {
   "cell_type": "code",
   "execution_count": 8,
   "metadata": {
    "collapsed": false
   },
   "outputs": [
    {
     "data": {
      "text/plain": [
       "14.273937358455685"
      ]
     },
     "execution_count": 8,
     "metadata": {},
     "output_type": "execute_result"
    }
   ],
   "source": [
    "data.user.value_counts().mean()"
   ]
  },
  {
   "cell_type": "code",
   "execution_count": 9,
   "metadata": {
    "collapsed": false
   },
   "outputs": [],
   "source": [
    "users = data.user.unique()\n",
    "#print(len(users))\n",
    "index = [i for i in range(1, len(users)+1)]\n",
    "\n",
    "dates = data.date.unique()\n",
    "index2 = [i for i in range(1, len(dates)+1)]"
   ]
  },
  {
   "cell_type": "code",
   "execution_count": 10,
   "metadata": {
    "collapsed": false
   },
   "outputs": [],
   "source": [
    "df = pd.DataFrame(users, index=index, columns=['user'])\n",
    "df = df.head(1000)"
   ]
  },
  {
   "cell_type": "code",
   "execution_count": 11,
   "metadata": {
    "collapsed": false
   },
   "outputs": [],
   "source": [
    "data1 = data[data[\"user\"] == \"GetFreelanceJob\"]\n",
    "vals = data1[\"hashtag_list\"].values\n",
    "list_has = [val for sublist in vals for val in sublist]\n",
    "#list_has"
   ]
  },
  {
   "cell_type": "code",
   "execution_count": 12,
   "metadata": {
    "collapsed": false
   },
   "outputs": [],
   "source": [
    "def get_hash(user_name, dataframe):\n",
    "    dataframe = dataframe[dataframe[\"user\"] == user_name]\n",
    "    hashtag_list = dataframe[\"hashtag_list\"].values\n",
    "    list_hash = [val for sublist in hashtag_list for val in sublist]\n",
    "    return list_hash"
   ]
  },
  {
   "cell_type": "code",
   "execution_count": 13,
   "metadata": {
    "collapsed": false
   },
   "outputs": [],
   "source": [
    "df[\"hashtags\"] = df.user.apply(lambda x: get_hash(x, data))"
   ]
  },
  {
   "cell_type": "code",
   "execution_count": 14,
   "metadata": {
    "collapsed": false
   },
   "outputs": [
    {
     "data": {
      "text/html": [
       "<div>\n",
       "<table border=\"1\" class=\"dataframe\">\n",
       "  <thead>\n",
       "    <tr style=\"text-align: right;\">\n",
       "      <th></th>\n",
       "      <th>user</th>\n",
       "      <th>hashtags</th>\n",
       "    </tr>\n",
       "  </thead>\n",
       "  <tbody>\n",
       "    <tr>\n",
       "      <th>1</th>\n",
       "      <td>webcom09</td>\n",
       "      <td>[#webcom08, #webcom08, #webcom08., #webcom08.,...</td>\n",
       "    </tr>\n",
       "    <tr>\n",
       "      <th>2</th>\n",
       "      <td>kirsn</td>\n",
       "      <td>[#cassandra, #BlackAlbum, #twitgin, #ubuntu, #...</td>\n",
       "    </tr>\n",
       "    <tr>\n",
       "      <th>3</th>\n",
       "      <td>mediahatch</td>\n",
       "      <td>[#pubcon, #pubcon, #pubcon, #pubcon, #pubcon, ...</td>\n",
       "    </tr>\n",
       "    <tr>\n",
       "      <th>4</th>\n",
       "      <td>Give_Respect</td>\n",
       "      <td>[#107, #108, #109, #110, #111, #112, #113, #11...</td>\n",
       "    </tr>\n",
       "    <tr>\n",
       "      <th>5</th>\n",
       "      <td>Nathan_Safran</td>\n",
       "      <td>[#2, #forrester]</td>\n",
       "    </tr>\n",
       "  </tbody>\n",
       "</table>\n",
       "</div>"
      ],
      "text/plain": [
       "            user                                           hashtags\n",
       "1       webcom09  [#webcom08, #webcom08, #webcom08., #webcom08.,...\n",
       "2          kirsn  [#cassandra, #BlackAlbum, #twitgin, #ubuntu, #...\n",
       "3     mediahatch  [#pubcon, #pubcon, #pubcon, #pubcon, #pubcon, ...\n",
       "4   Give_Respect  [#107, #108, #109, #110, #111, #112, #113, #11...\n",
       "5  Nathan_Safran                                   [#2, #forrester]"
      ]
     },
     "execution_count": 14,
     "metadata": {},
     "output_type": "execute_result"
    }
   ],
   "source": [
    "df.head()"
   ]
  },
  {
   "cell_type": "code",
   "execution_count": 15,
   "metadata": {
    "collapsed": false
   },
   "outputs": [],
   "source": [
    "# df.hashtags.values[0]"
   ]
  },
  {
   "cell_type": "code",
   "execution_count": 16,
   "metadata": {
    "collapsed": true
   },
   "outputs": [],
   "source": [
    "def entropy(counter_list):\n",
    "#     log2 = lambda x: math.log(x,2)\n",
    "    c = Counter(counter_list)\n",
    "    ent = 0.0\n",
    "    for k,v in c.items():\n",
    "        p = float(v)/len(counter_list)\n",
    "        ent = ent - p*math.log2(p)\n",
    "    return ent"
   ]
  },
  {
   "cell_type": "code",
   "execution_count": 17,
   "metadata": {
    "collapsed": false
   },
   "outputs": [],
   "source": [
    "df[\"user_entropy\"] = df.hashtags.apply(lambda x: entropy(x))"
   ]
  },
  {
   "cell_type": "code",
   "execution_count": 18,
   "metadata": {
    "collapsed": false
   },
   "outputs": [
    {
     "data": {
      "text/html": [
       "<div>\n",
       "<table border=\"1\" class=\"dataframe\">\n",
       "  <thead>\n",
       "    <tr style=\"text-align: right;\">\n",
       "      <th></th>\n",
       "      <th>user</th>\n",
       "      <th>hashtags</th>\n",
       "      <th>user_entropy</th>\n",
       "    </tr>\n",
       "  </thead>\n",
       "  <tbody>\n",
       "    <tr>\n",
       "      <th>1</th>\n",
       "      <td>webcom09</td>\n",
       "      <td>[#webcom08, #webcom08, #webcom08., #webcom08.,...</td>\n",
       "      <td>2.473682</td>\n",
       "    </tr>\n",
       "    <tr>\n",
       "      <th>2</th>\n",
       "      <td>kirsn</td>\n",
       "      <td>[#cassandra, #BlackAlbum, #twitgin, #ubuntu, #...</td>\n",
       "      <td>3.947703</td>\n",
       "    </tr>\n",
       "    <tr>\n",
       "      <th>3</th>\n",
       "      <td>mediahatch</td>\n",
       "      <td>[#pubcon, #pubcon, #pubcon, #pubcon, #pubcon, ...</td>\n",
       "      <td>1.148835</td>\n",
       "    </tr>\n",
       "    <tr>\n",
       "      <th>4</th>\n",
       "      <td>Give_Respect</td>\n",
       "      <td>[#107, #108, #109, #110, #111, #112, #113, #11...</td>\n",
       "      <td>3.467720</td>\n",
       "    </tr>\n",
       "    <tr>\n",
       "      <th>5</th>\n",
       "      <td>Nathan_Safran</td>\n",
       "      <td>[#2, #forrester]</td>\n",
       "      <td>1.000000</td>\n",
       "    </tr>\n",
       "  </tbody>\n",
       "</table>\n",
       "</div>"
      ],
      "text/plain": [
       "            user                                           hashtags  \\\n",
       "1       webcom09  [#webcom08, #webcom08, #webcom08., #webcom08.,...   \n",
       "2          kirsn  [#cassandra, #BlackAlbum, #twitgin, #ubuntu, #...   \n",
       "3     mediahatch  [#pubcon, #pubcon, #pubcon, #pubcon, #pubcon, ...   \n",
       "4   Give_Respect  [#107, #108, #109, #110, #111, #112, #113, #11...   \n",
       "5  Nathan_Safran                                   [#2, #forrester]   \n",
       "\n",
       "   user_entropy  \n",
       "1      2.473682  \n",
       "2      3.947703  \n",
       "3      1.148835  \n",
       "4      3.467720  \n",
       "5      1.000000  "
      ]
     },
     "execution_count": 18,
     "metadata": {},
     "output_type": "execute_result"
    }
   ],
   "source": [
    "df.head()"
   ]
  },
  {
   "cell_type": "code",
   "execution_count": 19,
   "metadata": {
    "collapsed": false
   },
   "outputs": [
    {
     "data": {
      "text/plain": [
       "2.05291473112788"
      ]
     },
     "execution_count": 19,
     "metadata": {},
     "output_type": "execute_result"
    }
   ],
   "source": [
    "df.user_entropy.mean()"
   ]
  },
  {
   "cell_type": "code",
   "execution_count": 20,
   "metadata": {
    "collapsed": true
   },
   "outputs": [],
   "source": [
    "# for bri \n",
    "# calc_sys_for_one_date(date):\n",
    "#    return sys ent\n",
    "# put it in an array "
   ]
  },
  {
   "cell_type": "code",
   "execution_count": 21,
   "metadata": {
    "collapsed": true
   },
   "outputs": [],
   "source": [
    "data[\"entropy\"] = data.hashtag_list.apply(lambda x: entropy(x))"
   ]
  },
  {
   "cell_type": "code",
   "execution_count": 22,
   "metadata": {
    "collapsed": false
   },
   "outputs": [
    {
     "data": {
      "text/html": [
       "<div>\n",
       "<table border=\"1\" class=\"dataframe\">\n",
       "  <thead>\n",
       "    <tr style=\"text-align: right;\">\n",
       "      <th></th>\n",
       "      <th>user</th>\n",
       "      <th>date</th>\n",
       "      <th>hashtag</th>\n",
       "      <th>hashtag_list</th>\n",
       "      <th>entropy</th>\n",
       "    </tr>\n",
       "  </thead>\n",
       "  <tbody>\n",
       "    <tr>\n",
       "      <th>0</th>\n",
       "      <td>webcom09</td>\n",
       "      <td>2008-11-11</td>\n",
       "      <td>#webcom08</td>\n",
       "      <td>[#webcom08]</td>\n",
       "      <td>0.0</td>\n",
       "    </tr>\n",
       "    <tr>\n",
       "      <th>1</th>\n",
       "      <td>kirsn</td>\n",
       "      <td>2008-11-11</td>\n",
       "      <td>#cassandra</td>\n",
       "      <td>[#cassandra]</td>\n",
       "      <td>0.0</td>\n",
       "    </tr>\n",
       "    <tr>\n",
       "      <th>2</th>\n",
       "      <td>mediahatch</td>\n",
       "      <td>2008-11-11</td>\n",
       "      <td>#pubcon</td>\n",
       "      <td>[#pubcon]</td>\n",
       "      <td>0.0</td>\n",
       "    </tr>\n",
       "    <tr>\n",
       "      <th>3</th>\n",
       "      <td>Give_Respect</td>\n",
       "      <td>2008-11-11</td>\n",
       "      <td>#107</td>\n",
       "      <td>[#107]</td>\n",
       "      <td>0.0</td>\n",
       "    </tr>\n",
       "    <tr>\n",
       "      <th>4</th>\n",
       "      <td>Nathan_Safran</td>\n",
       "      <td>2008-11-11</td>\n",
       "      <td>#2</td>\n",
       "      <td>[#2]</td>\n",
       "      <td>0.0</td>\n",
       "    </tr>\n",
       "  </tbody>\n",
       "</table>\n",
       "</div>"
      ],
      "text/plain": [
       "            user        date     hashtag  hashtag_list  entropy\n",
       "0       webcom09  2008-11-11   #webcom08   [#webcom08]      0.0\n",
       "1          kirsn  2008-11-11  #cassandra  [#cassandra]      0.0\n",
       "2     mediahatch  2008-11-11     #pubcon     [#pubcon]      0.0\n",
       "3   Give_Respect  2008-11-11        #107        [#107]      0.0\n",
       "4  Nathan_Safran  2008-11-11          #2          [#2]      0.0"
      ]
     },
     "execution_count": 22,
     "metadata": {},
     "output_type": "execute_result"
    }
   ],
   "source": [
    "data.head()"
   ]
  },
  {
   "cell_type": "code",
   "execution_count": 23,
   "metadata": {
    "collapsed": false
   },
   "outputs": [
    {
     "data": {
      "text/html": [
       "<div>\n",
       "<table border=\"1\" class=\"dataframe\">\n",
       "  <thead>\n",
       "    <tr style=\"text-align: right;\">\n",
       "      <th></th>\n",
       "      <th>entropy</th>\n",
       "    </tr>\n",
       "  </thead>\n",
       "  <tbody>\n",
       "    <tr>\n",
       "      <th>count</th>\n",
       "      <td>387.000000</td>\n",
       "    </tr>\n",
       "    <tr>\n",
       "      <th>mean</th>\n",
       "      <td>0.246706</td>\n",
       "    </tr>\n",
       "    <tr>\n",
       "      <th>std</th>\n",
       "      <td>0.183740</td>\n",
       "    </tr>\n",
       "    <tr>\n",
       "      <th>min</th>\n",
       "      <td>0.000000</td>\n",
       "    </tr>\n",
       "    <tr>\n",
       "      <th>25%</th>\n",
       "      <td>0.108384</td>\n",
       "    </tr>\n",
       "    <tr>\n",
       "      <th>50%</th>\n",
       "      <td>0.284510</td>\n",
       "    </tr>\n",
       "    <tr>\n",
       "      <th>75%</th>\n",
       "      <td>0.338709</td>\n",
       "    </tr>\n",
       "    <tr>\n",
       "      <th>max</th>\n",
       "      <td>1.584963</td>\n",
       "    </tr>\n",
       "  </tbody>\n",
       "</table>\n",
       "</div>"
      ],
      "text/plain": [
       "          entropy\n",
       "count  387.000000\n",
       "mean     0.246706\n",
       "std      0.183740\n",
       "min      0.000000\n",
       "25%      0.108384\n",
       "50%      0.284510\n",
       "75%      0.338709\n",
       "max      1.584963"
      ]
     },
     "execution_count": 23,
     "metadata": {},
     "output_type": "execute_result"
    }
   ],
   "source": [
    "grp = data.groupby([\"date\"]).entropy.mean()\n",
    "user_entropy_by_day = grp.to_frame()\n",
    "user_entropy_by_day.describe()"
   ]
  },
  {
   "cell_type": "code",
   "execution_count": 24,
   "metadata": {
    "collapsed": false
   },
   "outputs": [
    {
     "data": {
      "text/html": [
       "<div>\n",
       "<table border=\"1\" class=\"dataframe\">\n",
       "  <thead>\n",
       "    <tr style=\"text-align: right;\">\n",
       "      <th></th>\n",
       "      <th>entropy</th>\n",
       "    </tr>\n",
       "    <tr>\n",
       "      <th>date</th>\n",
       "      <th></th>\n",
       "    </tr>\n",
       "  </thead>\n",
       "  <tbody>\n",
       "    <tr>\n",
       "      <th>2007-04-03</th>\n",
       "      <td>0.0</td>\n",
       "    </tr>\n",
       "    <tr>\n",
       "      <th>2007-04-13</th>\n",
       "      <td>0.0</td>\n",
       "    </tr>\n",
       "    <tr>\n",
       "      <th>2007-06-26</th>\n",
       "      <td>0.0</td>\n",
       "    </tr>\n",
       "    <tr>\n",
       "      <th>2007-07-14</th>\n",
       "      <td>1.0</td>\n",
       "    </tr>\n",
       "    <tr>\n",
       "      <th>2007-07-25</th>\n",
       "      <td>0.0</td>\n",
       "    </tr>\n",
       "  </tbody>\n",
       "</table>\n",
       "</div>"
      ],
      "text/plain": [
       "            entropy\n",
       "date               \n",
       "2007-04-03      0.0\n",
       "2007-04-13      0.0\n",
       "2007-06-26      0.0\n",
       "2007-07-14      1.0\n",
       "2007-07-25      0.0"
      ]
     },
     "execution_count": 24,
     "metadata": {},
     "output_type": "execute_result"
    }
   ],
   "source": [
    "user_entropy_by_day.head()"
   ]
  },
  {
   "cell_type": "code",
   "execution_count": 25,
   "metadata": {
    "collapsed": false
   },
   "outputs": [
    {
     "data": {
      "text/html": [
       "<div>\n",
       "<table border=\"1\" class=\"dataframe\">\n",
       "  <thead>\n",
       "    <tr style=\"text-align: right;\">\n",
       "      <th></th>\n",
       "      <th>user</th>\n",
       "      <th>hashtags</th>\n",
       "      <th>user_entropy</th>\n",
       "    </tr>\n",
       "  </thead>\n",
       "  <tbody>\n",
       "    <tr>\n",
       "      <th>1</th>\n",
       "      <td>webcom09</td>\n",
       "      <td>[#webcom08, #webcom08, #webcom08., #webcom08.,...</td>\n",
       "      <td>2.473682</td>\n",
       "    </tr>\n",
       "    <tr>\n",
       "      <th>2</th>\n",
       "      <td>kirsn</td>\n",
       "      <td>[#cassandra, #BlackAlbum, #twitgin, #ubuntu, #...</td>\n",
       "      <td>3.947703</td>\n",
       "    </tr>\n",
       "    <tr>\n",
       "      <th>3</th>\n",
       "      <td>mediahatch</td>\n",
       "      <td>[#pubcon, #pubcon, #pubcon, #pubcon, #pubcon, ...</td>\n",
       "      <td>1.148835</td>\n",
       "    </tr>\n",
       "    <tr>\n",
       "      <th>4</th>\n",
       "      <td>Give_Respect</td>\n",
       "      <td>[#107, #108, #109, #110, #111, #112, #113, #11...</td>\n",
       "      <td>3.467720</td>\n",
       "    </tr>\n",
       "    <tr>\n",
       "      <th>5</th>\n",
       "      <td>Nathan_Safran</td>\n",
       "      <td>[#2, #forrester]</td>\n",
       "      <td>1.000000</td>\n",
       "    </tr>\n",
       "  </tbody>\n",
       "</table>\n",
       "</div>"
      ],
      "text/plain": [
       "            user                                           hashtags  \\\n",
       "1       webcom09  [#webcom08, #webcom08, #webcom08., #webcom08.,...   \n",
       "2          kirsn  [#cassandra, #BlackAlbum, #twitgin, #ubuntu, #...   \n",
       "3     mediahatch  [#pubcon, #pubcon, #pubcon, #pubcon, #pubcon, ...   \n",
       "4   Give_Respect  [#107, #108, #109, #110, #111, #112, #113, #11...   \n",
       "5  Nathan_Safran                                   [#2, #forrester]   \n",
       "\n",
       "   user_entropy  \n",
       "1      2.473682  \n",
       "2      3.947703  \n",
       "3      1.148835  \n",
       "4      3.467720  \n",
       "5      1.000000  "
      ]
     },
     "execution_count": 25,
     "metadata": {},
     "output_type": "execute_result"
    }
   ],
   "source": [
    "df.head()"
   ]
  },
  {
   "cell_type": "code",
   "execution_count": 26,
   "metadata": {
    "collapsed": false
   },
   "outputs": [],
   "source": [
    "df2 = pd.DataFrame(dates, index=index2, columns=['date'])"
   ]
  },
  {
   "cell_type": "code",
   "execution_count": 27,
   "metadata": {
    "collapsed": false
   },
   "outputs": [
    {
     "data": {
      "text/html": [
       "<div>\n",
       "<table border=\"1\" class=\"dataframe\">\n",
       "  <thead>\n",
       "    <tr style=\"text-align: right;\">\n",
       "      <th></th>\n",
       "      <th>date</th>\n",
       "    </tr>\n",
       "  </thead>\n",
       "  <tbody>\n",
       "    <tr>\n",
       "      <th>1</th>\n",
       "      <td>2008-11-11</td>\n",
       "    </tr>\n",
       "    <tr>\n",
       "      <th>2</th>\n",
       "      <td>2008-11-12</td>\n",
       "    </tr>\n",
       "    <tr>\n",
       "      <th>3</th>\n",
       "      <td>2008-11-13</td>\n",
       "    </tr>\n",
       "    <tr>\n",
       "      <th>4</th>\n",
       "      <td>2008-11-14</td>\n",
       "    </tr>\n",
       "    <tr>\n",
       "      <th>5</th>\n",
       "      <td>2008-11-15</td>\n",
       "    </tr>\n",
       "  </tbody>\n",
       "</table>\n",
       "</div>"
      ],
      "text/plain": [
       "         date\n",
       "1  2008-11-11\n",
       "2  2008-11-12\n",
       "3  2008-11-13\n",
       "4  2008-11-14\n",
       "5  2008-11-15"
      ]
     },
     "execution_count": 27,
     "metadata": {},
     "output_type": "execute_result"
    }
   ],
   "source": [
    "df2.head()"
   ]
  },
  {
   "cell_type": "code",
   "execution_count": 28,
   "metadata": {
    "collapsed": true
   },
   "outputs": [],
   "source": [
    "def get_hash_date(date, dataframe):\n",
    "    dataframe = dataframe[dataframe[\"date\"] == date]\n",
    "    hashtag_list = dataframe[\"hashtag_list\"].values\n",
    "    list_hash = [val for sublist in hashtag_list for val in sublist]\n",
    "    return list_hash"
   ]
  },
  {
   "cell_type": "code",
   "execution_count": 29,
   "metadata": {
    "collapsed": true
   },
   "outputs": [],
   "source": [
    "df2[\"hashtags\"] = df2.date.apply(lambda x: get_hash_date(x, data))"
   ]
  },
  {
   "cell_type": "code",
   "execution_count": 30,
   "metadata": {
    "collapsed": false
   },
   "outputs": [
    {
     "data": {
      "text/html": [
       "<div>\n",
       "<table border=\"1\" class=\"dataframe\">\n",
       "  <thead>\n",
       "    <tr style=\"text-align: right;\">\n",
       "      <th></th>\n",
       "      <th>date</th>\n",
       "      <th>hashtags</th>\n",
       "    </tr>\n",
       "  </thead>\n",
       "  <tbody>\n",
       "    <tr>\n",
       "      <th>1</th>\n",
       "      <td>2008-11-11</td>\n",
       "      <td>[#webcom08, #cassandra, #pubcon, #107, #2, #pu...</td>\n",
       "    </tr>\n",
       "    <tr>\n",
       "      <th>2</th>\n",
       "      <td>2008-11-12</td>\n",
       "      <td>[#gno, #gno, #gno, #gno, #gno, #gno, #gno, #gn...</td>\n",
       "    </tr>\n",
       "    <tr>\n",
       "      <th>3</th>\n",
       "      <td>2008-11-13</td>\n",
       "      <td>[#barcampsydney, #ActiveVC, #22, #1:, #2:, #st...</td>\n",
       "    </tr>\n",
       "    <tr>\n",
       "      <th>4</th>\n",
       "      <td>2008-11-14</td>\n",
       "      <td>[#barcampsydney, #WoW, #barcampsydney4, #start...</td>\n",
       "    </tr>\n",
       "    <tr>\n",
       "      <th>5</th>\n",
       "      <td>2008-11-15</td>\n",
       "      <td>[#bcs4,, #sfgreenfest, #mashupcamp, #bcs4, #bc...</td>\n",
       "    </tr>\n",
       "  </tbody>\n",
       "</table>\n",
       "</div>"
      ],
      "text/plain": [
       "         date                                           hashtags\n",
       "1  2008-11-11  [#webcom08, #cassandra, #pubcon, #107, #2, #pu...\n",
       "2  2008-11-12  [#gno, #gno, #gno, #gno, #gno, #gno, #gno, #gn...\n",
       "3  2008-11-13  [#barcampsydney, #ActiveVC, #22, #1:, #2:, #st...\n",
       "4  2008-11-14  [#barcampsydney, #WoW, #barcampsydney4, #start...\n",
       "5  2008-11-15  [#bcs4,, #sfgreenfest, #mashupcamp, #bcs4, #bc..."
      ]
     },
     "execution_count": 30,
     "metadata": {},
     "output_type": "execute_result"
    }
   ],
   "source": [
    "df2.head()"
   ]
  },
  {
   "cell_type": "code",
   "execution_count": 31,
   "metadata": {
    "collapsed": true
   },
   "outputs": [],
   "source": [
    "df2[\"sys_entropy\"] = df2.hashtags.apply(lambda x: entropy(x))"
   ]
  },
  {
   "cell_type": "code",
   "execution_count": 32,
   "metadata": {
    "collapsed": false
   },
   "outputs": [
    {
     "data": {
      "text/html": [
       "<div>\n",
       "<table border=\"1\" class=\"dataframe\">\n",
       "  <thead>\n",
       "    <tr style=\"text-align: right;\">\n",
       "      <th></th>\n",
       "      <th>sys_entropy</th>\n",
       "    </tr>\n",
       "  </thead>\n",
       "  <tbody>\n",
       "    <tr>\n",
       "      <th>count</th>\n",
       "      <td>387.000000</td>\n",
       "    </tr>\n",
       "    <tr>\n",
       "      <th>mean</th>\n",
       "      <td>7.001573</td>\n",
       "    </tr>\n",
       "    <tr>\n",
       "      <th>std</th>\n",
       "      <td>3.493284</td>\n",
       "    </tr>\n",
       "    <tr>\n",
       "      <th>min</th>\n",
       "      <td>0.000000</td>\n",
       "    </tr>\n",
       "    <tr>\n",
       "      <th>25%</th>\n",
       "      <td>4.483394</td>\n",
       "    </tr>\n",
       "    <tr>\n",
       "      <th>50%</th>\n",
       "      <td>8.215134</td>\n",
       "    </tr>\n",
       "    <tr>\n",
       "      <th>75%</th>\n",
       "      <td>9.757742</td>\n",
       "    </tr>\n",
       "    <tr>\n",
       "      <th>max</th>\n",
       "      <td>11.887364</td>\n",
       "    </tr>\n",
       "  </tbody>\n",
       "</table>\n",
       "</div>"
      ],
      "text/plain": [
       "       sys_entropy\n",
       "count   387.000000\n",
       "mean      7.001573\n",
       "std       3.493284\n",
       "min       0.000000\n",
       "25%       4.483394\n",
       "50%       8.215134\n",
       "75%       9.757742\n",
       "max      11.887364"
      ]
     },
     "execution_count": 32,
     "metadata": {},
     "output_type": "execute_result"
    }
   ],
   "source": [
    "df2.describe()"
   ]
  },
  {
   "cell_type": "code",
   "execution_count": 33,
   "metadata": {
    "collapsed": false
   },
   "outputs": [
    {
     "data": {
      "text/html": [
       "<div>\n",
       "<table border=\"1\" class=\"dataframe\">\n",
       "  <thead>\n",
       "    <tr style=\"text-align: right;\">\n",
       "      <th></th>\n",
       "      <th>entropy</th>\n",
       "    </tr>\n",
       "    <tr>\n",
       "      <th>date</th>\n",
       "      <th></th>\n",
       "    </tr>\n",
       "  </thead>\n",
       "  <tbody>\n",
       "    <tr>\n",
       "      <th>2007-04-03</th>\n",
       "      <td>0.0</td>\n",
       "    </tr>\n",
       "    <tr>\n",
       "      <th>2007-04-13</th>\n",
       "      <td>0.0</td>\n",
       "    </tr>\n",
       "    <tr>\n",
       "      <th>2007-06-26</th>\n",
       "      <td>0.0</td>\n",
       "    </tr>\n",
       "    <tr>\n",
       "      <th>2007-07-14</th>\n",
       "      <td>1.0</td>\n",
       "    </tr>\n",
       "    <tr>\n",
       "      <th>2007-07-25</th>\n",
       "      <td>0.0</td>\n",
       "    </tr>\n",
       "  </tbody>\n",
       "</table>\n",
       "</div>"
      ],
      "text/plain": [
       "            entropy\n",
       "date               \n",
       "2007-04-03      0.0\n",
       "2007-04-13      0.0\n",
       "2007-06-26      0.0\n",
       "2007-07-14      1.0\n",
       "2007-07-25      0.0"
      ]
     },
     "execution_count": 33,
     "metadata": {},
     "output_type": "execute_result"
    }
   ],
   "source": [
    "user_entropy_by_day.head()"
   ]
  },
  {
   "cell_type": "code",
   "execution_count": 34,
   "metadata": {
    "collapsed": false
   },
   "outputs": [
    {
     "data": {
      "text/html": [
       "<div>\n",
       "<table border=\"1\" class=\"dataframe\">\n",
       "  <thead>\n",
       "    <tr style=\"text-align: right;\">\n",
       "      <th></th>\n",
       "      <th>date</th>\n",
       "      <th>hashtags</th>\n",
       "      <th>sys_entropy</th>\n",
       "    </tr>\n",
       "  </thead>\n",
       "  <tbody>\n",
       "    <tr>\n",
       "      <th>1</th>\n",
       "      <td>2008-11-11</td>\n",
       "      <td>[#webcom08, #cassandra, #pubcon, #107, #2, #pu...</td>\n",
       "      <td>2.866248</td>\n",
       "    </tr>\n",
       "    <tr>\n",
       "      <th>2</th>\n",
       "      <td>2008-11-12</td>\n",
       "      <td>[#gno, #gno, #gno, #gno, #gno, #gno, #gno, #gn...</td>\n",
       "      <td>3.050780</td>\n",
       "    </tr>\n",
       "    <tr>\n",
       "      <th>3</th>\n",
       "      <td>2008-11-13</td>\n",
       "      <td>[#barcampsydney, #ActiveVC, #22, #1:, #2:, #st...</td>\n",
       "      <td>3.710738</td>\n",
       "    </tr>\n",
       "    <tr>\n",
       "      <th>4</th>\n",
       "      <td>2008-11-14</td>\n",
       "      <td>[#barcampsydney, #WoW, #barcampsydney4, #start...</td>\n",
       "      <td>4.414994</td>\n",
       "    </tr>\n",
       "    <tr>\n",
       "      <th>5</th>\n",
       "      <td>2008-11-15</td>\n",
       "      <td>[#bcs4,, #sfgreenfest, #mashupcamp, #bcs4, #bc...</td>\n",
       "      <td>2.897271</td>\n",
       "    </tr>\n",
       "  </tbody>\n",
       "</table>\n",
       "</div>"
      ],
      "text/plain": [
       "         date                                           hashtags  sys_entropy\n",
       "1  2008-11-11  [#webcom08, #cassandra, #pubcon, #107, #2, #pu...     2.866248\n",
       "2  2008-11-12  [#gno, #gno, #gno, #gno, #gno, #gno, #gno, #gn...     3.050780\n",
       "3  2008-11-13  [#barcampsydney, #ActiveVC, #22, #1:, #2:, #st...     3.710738\n",
       "4  2008-11-14  [#barcampsydney, #WoW, #barcampsydney4, #start...     4.414994\n",
       "5  2008-11-15  [#bcs4,, #sfgreenfest, #mashupcamp, #bcs4, #bc...     2.897271"
      ]
     },
     "execution_count": 34,
     "metadata": {},
     "output_type": "execute_result"
    }
   ],
   "source": [
    "df2.head()"
   ]
  },
  {
   "cell_type": "code",
   "execution_count": 35,
   "metadata": {
    "collapsed": false
   },
   "outputs": [],
   "source": [
    "user_entropy_by_day['date'] = user_entropy_by_day.index"
   ]
  },
  {
   "cell_type": "code",
   "execution_count": 36,
   "metadata": {
    "collapsed": false
   },
   "outputs": [
    {
     "name": "stdout",
     "output_type": "stream",
     "text": [
      "387\n",
      "387\n"
     ]
    }
   ],
   "source": [
    "print(len(user_entropy_by_day))\n",
    "print(len(df2))"
   ]
  },
  {
   "cell_type": "code",
   "execution_count": 37,
   "metadata": {
    "collapsed": false
   },
   "outputs": [
    {
     "data": {
      "text/plain": [
       "387"
      ]
     },
     "execution_count": 37,
     "metadata": {},
     "output_type": "execute_result"
    }
   ],
   "source": [
    "entropy_df = pd.merge(df2, user_entropy_by_day, on='date', how='outer')\n",
    "len(entropy_df)"
   ]
  },
  {
   "cell_type": "code",
   "execution_count": 38,
   "metadata": {
    "collapsed": false
   },
   "outputs": [
    {
     "data": {
      "text/html": [
       "<div>\n",
       "<table border=\"1\" class=\"dataframe\">\n",
       "  <thead>\n",
       "    <tr style=\"text-align: right;\">\n",
       "      <th></th>\n",
       "      <th>date</th>\n",
       "      <th>hashtags</th>\n",
       "      <th>sys_entropy</th>\n",
       "      <th>entropy</th>\n",
       "    </tr>\n",
       "  </thead>\n",
       "  <tbody>\n",
       "    <tr>\n",
       "      <th>0</th>\n",
       "      <td>2008-11-11</td>\n",
       "      <td>[#webcom08, #cassandra, #pubcon, #107, #2, #pu...</td>\n",
       "      <td>2.866248</td>\n",
       "      <td>0.000000</td>\n",
       "    </tr>\n",
       "    <tr>\n",
       "      <th>1</th>\n",
       "      <td>2008-11-12</td>\n",
       "      <td>[#gno, #gno, #gno, #gno, #gno, #gno, #gno, #gn...</td>\n",
       "      <td>3.050780</td>\n",
       "      <td>0.000000</td>\n",
       "    </tr>\n",
       "    <tr>\n",
       "      <th>2</th>\n",
       "      <td>2008-11-13</td>\n",
       "      <td>[#barcampsydney, #ActiveVC, #22, #1:, #2:, #st...</td>\n",
       "      <td>3.710738</td>\n",
       "      <td>0.000000</td>\n",
       "    </tr>\n",
       "    <tr>\n",
       "      <th>3</th>\n",
       "      <td>2008-11-14</td>\n",
       "      <td>[#barcampsydney, #WoW, #barcampsydney4, #start...</td>\n",
       "      <td>4.414994</td>\n",
       "      <td>0.044027</td>\n",
       "    </tr>\n",
       "    <tr>\n",
       "      <th>4</th>\n",
       "      <td>2008-11-15</td>\n",
       "      <td>[#bcs4,, #sfgreenfest, #mashupcamp, #bcs4, #bc...</td>\n",
       "      <td>2.897271</td>\n",
       "      <td>0.035714</td>\n",
       "    </tr>\n",
       "  </tbody>\n",
       "</table>\n",
       "</div>"
      ],
      "text/plain": [
       "         date                                           hashtags  sys_entropy  \\\n",
       "0  2008-11-11  [#webcom08, #cassandra, #pubcon, #107, #2, #pu...     2.866248   \n",
       "1  2008-11-12  [#gno, #gno, #gno, #gno, #gno, #gno, #gno, #gn...     3.050780   \n",
       "2  2008-11-13  [#barcampsydney, #ActiveVC, #22, #1:, #2:, #st...     3.710738   \n",
       "3  2008-11-14  [#barcampsydney, #WoW, #barcampsydney4, #start...     4.414994   \n",
       "4  2008-11-15  [#bcs4,, #sfgreenfest, #mashupcamp, #bcs4, #bc...     2.897271   \n",
       "\n",
       "    entropy  \n",
       "0  0.000000  \n",
       "1  0.000000  \n",
       "2  0.000000  \n",
       "3  0.044027  \n",
       "4  0.035714  "
      ]
     },
     "execution_count": 38,
     "metadata": {},
     "output_type": "execute_result"
    }
   ],
   "source": [
    "entropy_df.head()"
   ]
  },
  {
   "cell_type": "code",
   "execution_count": 39,
   "metadata": {
    "collapsed": false
   },
   "outputs": [
    {
     "data": {
      "text/html": [
       "<div>\n",
       "<table border=\"1\" class=\"dataframe\">\n",
       "  <thead>\n",
       "    <tr style=\"text-align: right;\">\n",
       "      <th></th>\n",
       "      <th>date</th>\n",
       "      <th>hashtags</th>\n",
       "      <th>sys_entropy</th>\n",
       "      <th>entropy</th>\n",
       "    </tr>\n",
       "  </thead>\n",
       "  <tbody>\n",
       "    <tr>\n",
       "      <th>292</th>\n",
       "      <td>2007-10-03</td>\n",
       "      <td>[#OAuth!!!]</td>\n",
       "      <td>0.0</td>\n",
       "      <td>0.0</td>\n",
       "    </tr>\n",
       "    <tr>\n",
       "      <th>287</th>\n",
       "      <td>2007-10-01</td>\n",
       "      <td>[#1]</td>\n",
       "      <td>0.0</td>\n",
       "      <td>0.0</td>\n",
       "    </tr>\n",
       "    <tr>\n",
       "      <th>289</th>\n",
       "      <td>2007-10-02</td>\n",
       "      <td>[#\\]</td>\n",
       "      <td>0.0</td>\n",
       "      <td>0.0</td>\n",
       "    </tr>\n",
       "    <tr>\n",
       "      <th>294</th>\n",
       "      <td>2007-10-04</td>\n",
       "      <td>[#18:]</td>\n",
       "      <td>0.0</td>\n",
       "      <td>0.0</td>\n",
       "    </tr>\n",
       "    <tr>\n",
       "      <th>295</th>\n",
       "      <td>2007-10-05</td>\n",
       "      <td>[#OAuth]</td>\n",
       "      <td>0.0</td>\n",
       "      <td>0.0</td>\n",
       "    </tr>\n",
       "  </tbody>\n",
       "</table>\n",
       "</div>"
      ],
      "text/plain": [
       "           date     hashtags  sys_entropy  entropy\n",
       "292  2007-10-03  [#OAuth!!!]          0.0      0.0\n",
       "287  2007-10-01         [#1]          0.0      0.0\n",
       "289  2007-10-02         [#\\]          0.0      0.0\n",
       "294  2007-10-04       [#18:]          0.0      0.0\n",
       "295  2007-10-05     [#OAuth]          0.0      0.0"
      ]
     },
     "execution_count": 39,
     "metadata": {},
     "output_type": "execute_result"
    }
   ],
   "source": [
    "ranked = entropy_df.sort_values(by=\"sys_entropy\")\n",
    "ranked.head()"
   ]
  },
  {
   "cell_type": "code",
   "execution_count": 40,
   "metadata": {
    "collapsed": false
   },
   "outputs": [
    {
     "data": {
      "image/png": "[encoded data removed]",
      "text/plain": [
       "<matplotlib.figure.Figure at 0x2a2d9df28d0>"
      ]
     },
     "metadata": {},
     "output_type": "display_data"
    }
   ],
   "source": [
    "import matplotlib.pyplot as plt\n",
    "length=len(ranked)\n",
    "x = [x for x in range(0,length)]\n",
    "plt.title(\"Sorted System Entropy and user Entropy (Average) per day\")\n",
    "plt.xticks(np.arange(0,max(x),40))\n",
    "plt.yticks(range(0,int(max(ranked.sys_entropy)+2)))\n",
    "plt.xlabel(\"Days Rank (based on System Entropy)\")\n",
    "plt.ylabel(\"Entropy\")\n",
    "plt.plot(x,ranked.entropy.values,label='User Entropy',color=\"r\")\n",
    "plt.plot(x,ranked.sys_entropy.values,label='System Entropy',color=\"b\")\n",
    "# plt.legend(loc=2)\n",
    "plt.show()"
   ]
  },
  {
   "cell_type": "markdown",
   "metadata": {},
   "source": [
    "## 2. Measuring inequality"
   ]
  },
  {
   "cell_type": "code",
   "execution_count": 41,
   "metadata": {
    "collapsed": false
   },
   "outputs": [
    {
     "data": {
      "image/png": "[encoded data removed]",
      "text/plain": [
       "<matplotlib.figure.Figure at 0x2a2d9df2d30>"
      ]
     },
     "metadata": {},
     "output_type": "display_data"
    }
   ],
   "source": [
    "from chinese_restaurant import generateChineseRestaurant as chineseRes\n",
    "\n",
    "customers = 1000\n",
    "for i in range(0,5):\n",
    "    tables, ginis = chineseRes(customers)\n",
    "    plt.plot(ginis)\n",
    "plt.show()"
   ]
  },
  {
   "cell_type": "markdown",
   "metadata": {
    "collapsed": true
   },
   "source": [
    "# 3. Herding"
   ]
  },
  {
   "cell_type": "markdown",
   "metadata": {},
   "source": [
    "# Part 1 - First estimations"
   ]
  },
  {
   "cell_type": "code",
   "execution_count": 42,
   "metadata": {
    "collapsed": true
   },
   "outputs": [],
   "source": [
    "estimations = pd.DataFrame({\n",
    "        \"fortress\":[90,250,375],\n",
    "        \"tower\":[250,400,300]\n",
    "    })"
   ]
  },
  {
   "cell_type": "code",
   "execution_count": 43,
   "metadata": {
    "collapsed": false
   },
   "outputs": [
    {
     "name": "stdout",
     "output_type": "stream",
     "text": [
      "mean:  238.33333333333334\n",
      "std:  142.85773809399802\n",
      "var:  20408.333333333332\n"
     ]
    }
   ],
   "source": [
    "print(\"mean: \",estimations.fortress.mean())\n",
    "print(\"std: \",estimations.fortress.std())\n",
    "print(\"var: \",estimations.fortress.std()**2)"
   ]
  },
  {
   "cell_type": "code",
   "execution_count": 44,
   "metadata": {
    "collapsed": false
   },
   "outputs": [],
   "source": [
    "# print(\"mean: \",estimations.tower.mean())\n",
    "# print(\"std: \",estimations.tower.std())\n",
    "# print(\"var: \",estimations.tower.std()**2)"
   ]
  },
  {
   "cell_type": "markdown",
   "metadata": {},
   "source": [
    "# Part 2 - After discussion"
   ]
  },
  {
   "cell_type": "code",
   "execution_count": 45,
   "metadata": {
    "collapsed": true
   },
   "outputs": [],
   "source": [
    "estimations = pd.DataFrame({\n",
    "        \"fortress\":[45,75,350],\n",
    "        \"tower\":[250,200,450],\n",
    "    })"
   ]
  },
  {
   "cell_type": "code",
   "execution_count": 46,
   "metadata": {
    "collapsed": false
   },
   "outputs": [],
   "source": [
    "# print(\"mean: \",estimations.fortress.mean())\n",
    "# print(\"std: \",estimations.fortress.std())\n",
    "# print(\"var: \",estimations.fortress.std()**2)"
   ]
  },
  {
   "cell_type": "code",
   "execution_count": 47,
   "metadata": {
    "collapsed": false
   },
   "outputs": [
    {
     "name": "stdout",
     "output_type": "stream",
     "text": [
      "mean:  300.0\n",
      "std:  132.28756555322954\n",
      "var:  17500.000000000004\n"
     ]
    }
   ],
   "source": [
    "print(\"mean: \",estimations.tower.mean())\n",
    "print(\"std: \",estimations.tower.std())\n",
    "print(\"var: \",estimations.tower.std()**2)"
   ]
  },
  {
   "cell_type": "code",
   "execution_count": null,
   "metadata": {
    "collapsed": true
   },
   "outputs": [],
   "source": []
  }
 ],
 "metadata": {
  "anaconda-cloud": {},
  "kernelspec": {
   "display_name": "Python [conda root]",
   "language": "python",
   "name": "conda-root-py"
  },
  "language_info": {
   "codemirror_mode": {
    "name": "ipython",
    "version": 3
   },
   "file_extension": ".py",
   "mimetype": "text/x-python",
   "name": "python",
   "nbconvert_exporter": "python",
   "pygments_lexer": "ipython3",
   "version": "3.5.2"
  }
 },
 "nbformat": 4,
 "nbformat_minor": 1
}
