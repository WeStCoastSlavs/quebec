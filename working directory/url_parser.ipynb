{
 "cells": [
  {
   "cell_type": "code",
   "execution_count": 35,
   "metadata": {
    "collapsed": true
   },
   "outputs": [],
   "source": [
    "url = \"www.example.com:80/path/to/myfile.html?key1=value1&key2=value2#InTheDocument\""
   ]
  },
  {
   "cell_type": "code",
   "execution_count": 36,
   "metadata": {
    "collapsed": true
   },
   "outputs": [],
   "source": [
    "def get_protocol(url):\n",
    "    if \"://\" not in url:\n",
    "        return \"\"\n",
    "    return url.split(\":\")[0]"
   ]
  },
  {
   "cell_type": "code",
   "execution_count": 37,
   "metadata": {
    "collapsed": true
   },
   "outputs": [],
   "source": [
    "def get_port(url):\n",
    "    if get_protocol(url) != \"\":\n",
    "        if len(url.split(\":\")) > 2:\n",
    "            return url.split(\":\")[2].split(\"/\")[0]\n",
    "        else: \n",
    "            return url.split(\":\")[1].split(\"/\")[0]\n",
    "    elif get_protocol(url) == \"\":\n",
    "        if len(url.split(\":\")) > 1:\n",
    "            return url.split(\":\")[1].split(\"/\")[0]\n",
    "        else:\n",
    "            return \"\""
   ]
  },
  {
   "cell_type": "code",
   "execution_count": 38,
   "metadata": {
    "collapsed": true
   },
   "outputs": [],
   "source": [
    "def get_params(url):\n",
    "    if \"?\" not in url: \n",
    "        return \"\"\n",
    "    splited = url.split(\"?\")[1]\n",
    "    if \"#\" in splited:\n",
    "        splited = splited.split(\"#\")[0]\n",
    "    return splited.split(\"&\")"
   ]
  },
  {
   "cell_type": "code",
   "execution_count": 39,
   "metadata": {
    "collapsed": true
   },
   "outputs": [],
   "source": [
    "def get_fragment(url):\n",
    "    if \"#\" not in url:\n",
    "        return \"\"\n",
    "    else:\n",
    "        return url.split(\"#\")[1]"
   ]
  },
  {
   "cell_type": "code",
   "execution_count": 40,
   "metadata": {
    "collapsed": false
   },
   "outputs": [],
   "source": [
    "def get_domain(url):\n",
    "    if get_port(url) != \"\" and get_protocol(url) != \"\":\n",
    "        return url.split(\":\")[1].strip(\"//\").strip(\"www.\")\n",
    "    elif get_protocol(url) == \"\":\n",
    "        return url.split(\":\")[0].strip(\"www.\")\n",
    "    elif get_port(url) != \"\":\n",
    "         return url.split(\"://\")[1].strip(\"www.\")"
   ]
  },
  {
   "cell_type": "code",
   "execution_count": 41,
   "metadata": {
    "collapsed": true
   },
   "outputs": [],
   "source": [
    "def get_subdomain(domain):\n",
    "    if len(domain.split(\".\")) < 3:\n",
    "        return \"\"\n",
    "    return domain.split(\".\")"
   ]
  },
  {
   "cell_type": "code",
   "execution_count": 42,
   "metadata": {
    "collapsed": false
   },
   "outputs": [],
   "source": [
    "def get_params(url):\n",
    "    if \"?\" not in url: \n",
    "        return \"\"\n",
    "    splited = url.split(\"?\")[1]\n",
    "    if \"#\" in splited:\n",
    "        splited = splited.split(\"#\")[0]\n",
    "    return splited.split(\"&\")"
   ]
  },
  {
   "cell_type": "code",
   "execution_count": 43,
   "metadata": {
    "collapsed": false
   },
   "outputs": [],
   "source": [
    "def get_fragment(url):\n",
    "    if \"#\" not in url:\n",
    "        return \"\"\n",
    "    else:\n",
    "        return url.split(\"#\")[1]"
   ]
  },
  {
   "cell_type": "code",
   "execution_count": 44,
   "metadata": {
    "collapsed": false
   },
   "outputs": [],
   "source": [
    "url = \"http://www.example.com:80/path/to/myfile.html?key1=value1&key2=value2#InTheDocument\"\n",
    "def get_path(url):\n",
    "    x = url\n",
    "    if get_protocol(x) != \"\":\n",
    "        x = x.split(\"://\")[1]\n",
    "        #print(x)\n",
    "    if get_port(x) != \"\":\n",
    "        port = get_port(x)\n",
    "        x = x.split(\":\")[1]\n",
    "        x = x.strip(port)\n",
    "        #print(x)\n",
    "    else:\n",
    "        y = x.split(\"/\")[1:]\n",
    "        x = \"/\"+\"/\".join(y)\n",
    "    if \"#\" in x:\n",
    "        x = x.split(\"#\")[0]\n",
    "    if \"?\" in x:\n",
    "        x = x.split(\"?\")[0]\n",
    "    if \"/\" not in x or len(x) < 2:\n",
    "        x = \"\"\n",
    "    return x"
   ]
  },
  {
   "cell_type": "code",
   "execution_count": 45,
   "metadata": {
    "collapsed": false
   },
   "outputs": [
    {
     "data": {
      "text/plain": [
       "['http://www',\n",
       " 'example',\n",
       " 'com:80/path/to/myfile',\n",
       " 'html?key1=value1&key2=value2#InTheDocument']"
      ]
     },
     "execution_count": 45,
     "metadata": {},
     "output_type": "execute_result"
    }
   ],
   "source": [
    "url = \"http://www.example.com:80/path/to/myfile.html?key1=value1&key2=value2#InTheDocument\"\n",
    "get_subdomain(url)"
   ]
  },
  {
   "cell_type": "code",
   "execution_count": null,
   "metadata": {
    "collapsed": true
   },
   "outputs": [],
   "source": []
  }
 ],
 "metadata": {
  "kernelspec": {
   "display_name": "Python 3",
   "language": "python",
   "name": "python3"
  },
  "language_info": {
   "codemirror_mode": {
    "name": "ipython",
    "version": 3
   },
   "file_extension": ".py",
   "mimetype": "text/x-python",
   "name": "python",
   "nbconvert_exporter": "python",
   "pygments_lexer": "ipython3",
   "version": "3.5.2"
  }
 },
 "nbformat": 4,
 "nbformat_minor": 0
}
