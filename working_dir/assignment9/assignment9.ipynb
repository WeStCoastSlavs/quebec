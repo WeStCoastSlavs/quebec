{
 "cells": [
  {
   "cell_type": "code",
   "execution_count": 1,
   "metadata": {
    "collapsed": true
   },
   "outputs": [],
   "source": [
    "import numpy as np\n",
    "import pandas as pd"
   ]
  },
  {
   "cell_type": "code",
   "execution_count": 2,
   "metadata": {
    "collapsed": false
   },
   "outputs": [
    {
     "data": {
      "text/html": [
       "<div>\n",
       "<table border=\"1\" class=\"dataframe\">\n",
       "  <thead>\n",
       "    <tr style=\"text-align: right;\">\n",
       "      <th></th>\n",
       "      <th>Unnamed: 0</th>\n",
       "      <th>name</th>\n",
       "      <th>out_links</th>\n",
       "    </tr>\n",
       "  </thead>\n",
       "  <tbody>\n",
       "    <tr>\n",
       "      <th>0</th>\n",
       "      <td>0</td>\n",
       "      <td>German</td>\n",
       "      <td>[German_language, Country, Germany, Frank, Hol...</td>\n",
       "    </tr>\n",
       "    <tr>\n",
       "      <th>1</th>\n",
       "      <td>1</td>\n",
       "      <td>Coat_of_Arms_of_Germany_0bb4</td>\n",
       "      <td>[German_language, Germany, Flag_of_Germany_065...</td>\n",
       "    </tr>\n",
       "    <tr>\n",
       "      <th>2</th>\n",
       "      <td>2</td>\n",
       "      <td>Flag_of_Germany_0658</td>\n",
       "      <td>[German_language, Black, Red, Gold, Flag_of_Ge...</td>\n",
       "    </tr>\n",
       "    <tr>\n",
       "      <th>3</th>\n",
       "      <td>3</td>\n",
       "      <td>Das_Lied_der_Deutschen_3057</td>\n",
       "      <td>[Germany, Joseph_Haydn_fcd5, Hoffmann_von_Fall...</td>\n",
       "    </tr>\n",
       "    <tr>\n",
       "      <th>4</th>\n",
       "      <td>4</td>\n",
       "      <td>Map</td>\n",
       "      <td>[Earth, Photograph, Interpretation, Chart, Dra...</td>\n",
       "    </tr>\n",
       "  </tbody>\n",
       "</table>\n",
       "</div>"
      ],
      "text/plain": [
       "   Unnamed: 0                          name  \\\n",
       "0           0                        German   \n",
       "1           1  Coat_of_Arms_of_Germany_0bb4   \n",
       "2           2          Flag_of_Germany_0658   \n",
       "3           3   Das_Lied_der_Deutschen_3057   \n",
       "4           4                           Map   \n",
       "\n",
       "                                           out_links  \n",
       "0  [German_language, Country, Germany, Frank, Hol...  \n",
       "1  [German_language, Germany, Flag_of_Germany_065...  \n",
       "2  [German_language, Black, Red, Gold, Flag_of_Ge...  \n",
       "3  [Germany, Joseph_Haydn_fcd5, Hoffmann_von_Fall...  \n",
       "4  [Earth, Photograph, Interpretation, Chart, Dra...  "
      ]
     },
     "execution_count": 2,
     "metadata": {},
     "output_type": "execute_result"
    }
   ],
   "source": [
    "df = pd.read_csv(\"df2.csv\")\n",
    "df.head()"
   ]
  },
  {
   "cell_type": "code",
   "execution_count": null,
   "metadata": {
    "collapsed": true
   },
   "outputs": [],
   "source": []
  }
 ],
 "metadata": {
  "anaconda-cloud": {},
  "kernelspec": {
   "display_name": "Python [conda root]",
   "language": "python",
   "name": "conda-root-py"
  },
  "language_info": {
   "codemirror_mode": {
    "name": "ipython",
    "version": 3
   },
   "file_extension": ".py",
   "mimetype": "text/x-python",
   "name": "python",
   "nbconvert_exporter": "python",
   "pygments_lexer": "ipython3",
   "version": "3.5.2"
  }
 },
 "nbformat": 4,
 "nbformat_minor": 1
}
