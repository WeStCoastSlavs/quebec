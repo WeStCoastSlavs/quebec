{
 "cells": [
  {
   "cell_type": "code",
   "execution_count": 175,
   "metadata": {
    "collapsed": false
   },
   "outputs": [],
   "source": [
    "import pandas as pd\n",
    "df1 = pd.read_csv('df1.csv', encoding='utf-8', index_col=0, header=0)\n",
    "df2 = pd.read_csv('df2.csv', encoding='utf-8', index_col=0, header=0)"
   ]
  },
  {
   "cell_type": "code",
   "execution_count": 176,
   "metadata": {
    "collapsed": true
   },
   "outputs": [],
   "source": [
    "import numpy as np"
   ]
  },
  {
   "cell_type": "code",
   "execution_count": 177,
   "metadata": {
    "collapsed": false
   },
   "outputs": [
    {
     "data": {
      "text/html": [
       "<div>\n",
       "<table border=\"1\" class=\"dataframe\">\n",
       "  <thead>\n",
       "    <tr style=\"text-align: right;\">\n",
       "      <th></th>\n",
       "      <th>name</th>\n",
       "      <th>text</th>\n",
       "    </tr>\n",
       "  </thead>\n",
       "  <tbody>\n",
       "    <tr>\n",
       "      <th>0</th>\n",
       "      <td>German</td>\n",
       "      <td>**German** can mean different things.  It can ...</td>\n",
       "    </tr>\n",
       "    <tr>\n",
       "      <th>1</th>\n",
       "      <td>Coat_of_Arms_of_Germany_0bb4</td>\n",
       "      <td>The **coat of arms of Germany** (German **Wapp...</td>\n",
       "    </tr>\n",
       "    <tr>\n",
       "      <th>2</th>\n",
       "      <td>Flag_of_Germany_0658</td>\n",
       "      <td>The **flag of Germany** (German: _Bundesflagge...</td>\n",
       "    </tr>\n",
       "    <tr>\n",
       "      <th>3</th>\n",
       "      <td>Das_Lied_der_Deutschen_3057</td>\n",
       "      <td>**Das Lied der Deutschen** (The Song of the Ge...</td>\n",
       "    </tr>\n",
       "    <tr>\n",
       "      <th>4</th>\n",
       "      <td>Map</td>\n",
       "      <td>A **map** is usually a picture of the Earth or...</td>\n",
       "    </tr>\n",
       "  </tbody>\n",
       "</table>\n",
       "</div>"
      ],
      "text/plain": [
       "                           name  \\\n",
       "0                        German   \n",
       "1  Coat_of_Arms_of_Germany_0bb4   \n",
       "2          Flag_of_Germany_0658   \n",
       "3   Das_Lied_der_Deutschen_3057   \n",
       "4                           Map   \n",
       "\n",
       "                                                text  \n",
       "0  **German** can mean different things.  It can ...  \n",
       "1  The **coat of arms of Germany** (German **Wapp...  \n",
       "2  The **flag of Germany** (German: _Bundesflagge...  \n",
       "3  **Das Lied der Deutschen** (The Song of the Ge...  \n",
       "4  A **map** is usually a picture of the Earth or...  "
      ]
     },
     "execution_count": 177,
     "metadata": {},
     "output_type": "execute_result"
    }
   ],
   "source": [
    "df1.head()"
   ]
  },
  {
   "cell_type": "code",
   "execution_count": 178,
   "metadata": {
    "collapsed": false
   },
   "outputs": [
    {
     "data": {
      "text/html": [
       "<div>\n",
       "<table border=\"1\" class=\"dataframe\">\n",
       "  <thead>\n",
       "    <tr style=\"text-align: right;\">\n",
       "      <th></th>\n",
       "      <th>name</th>\n",
       "      <th>out_links</th>\n",
       "    </tr>\n",
       "  </thead>\n",
       "  <tbody>\n",
       "    <tr>\n",
       "      <th>0</th>\n",
       "      <td>German</td>\n",
       "      <td>[German_language, Country, Germany, Frank, Hol...</td>\n",
       "    </tr>\n",
       "    <tr>\n",
       "      <th>1</th>\n",
       "      <td>Coat_of_Arms_of_Germany_0bb4</td>\n",
       "      <td>[German_language, Germany, Flag_of_Germany_065...</td>\n",
       "    </tr>\n",
       "    <tr>\n",
       "      <th>2</th>\n",
       "      <td>Flag_of_Germany_0658</td>\n",
       "      <td>[German_language, Black, Red, Gold, Flag_of_Ge...</td>\n",
       "    </tr>\n",
       "    <tr>\n",
       "      <th>3</th>\n",
       "      <td>Das_Lied_der_Deutschen_3057</td>\n",
       "      <td>[Germany, Joseph_Haydn_fcd5, Hoffmann_von_Fall...</td>\n",
       "    </tr>\n",
       "    <tr>\n",
       "      <th>4</th>\n",
       "      <td>Map</td>\n",
       "      <td>[Earth, Photograph, Interpretation, Chart, Dra...</td>\n",
       "    </tr>\n",
       "  </tbody>\n",
       "</table>\n",
       "</div>"
      ],
      "text/plain": [
       "                           name  \\\n",
       "0                        German   \n",
       "1  Coat_of_Arms_of_Germany_0bb4   \n",
       "2          Flag_of_Germany_0658   \n",
       "3   Das_Lied_der_Deutschen_3057   \n",
       "4                           Map   \n",
       "\n",
       "                                           out_links  \n",
       "0  [German_language, Country, Germany, Frank, Hol...  \n",
       "1  [German_language, Germany, Flag_of_Germany_065...  \n",
       "2  [German_language, Black, Red, Gold, Flag_of_Ge...  \n",
       "3  [Germany, Joseph_Haydn_fcd5, Hoffmann_von_Fall...  \n",
       "4  [Earth, Photograph, Interpretation, Chart, Dra...  "
      ]
     },
     "execution_count": 178,
     "metadata": {},
     "output_type": "execute_result"
    }
   ],
   "source": [
    "df2.head()"
   ]
  },
  {
   "cell_type": "code",
   "execution_count": 179,
   "metadata": {
    "collapsed": false
   },
   "outputs": [],
   "source": [
    "df1 = df1.drop_duplicates(subset=['name'])\n",
    "df2 = df2.drop_duplicates(subset=['name'])"
   ]
  },
  {
   "cell_type": "code",
   "execution_count": 180,
   "metadata": {
    "collapsed": false
   },
   "outputs": [
    {
     "data": {
      "text/plain": [
       "(27493, 2)"
      ]
     },
     "execution_count": 180,
     "metadata": {},
     "output_type": "execute_result"
    }
   ],
   "source": [
    "df2.shape"
   ]
  },
  {
   "cell_type": "code",
   "execution_count": 181,
   "metadata": {
    "collapsed": false
   },
   "outputs": [],
   "source": [
    "import re \n",
    "df1[\"words\"] = df1.text.apply(lambda x: set(re.findall(\"\\w+\",str(x))))\n",
    "df1[\"word_list\"] = df1.text.apply(lambda x: re.findall(\"\\w+\",str(x)))"
   ]
  },
  {
   "cell_type": "code",
   "execution_count": 182,
   "metadata": {
    "collapsed": false
   },
   "outputs": [
    {
     "data": {
      "text/html": [
       "<div>\n",
       "<table border=\"1\" class=\"dataframe\">\n",
       "  <thead>\n",
       "    <tr style=\"text-align: right;\">\n",
       "      <th></th>\n",
       "      <th>name</th>\n",
       "      <th>text</th>\n",
       "      <th>words</th>\n",
       "      <th>word_list</th>\n",
       "    </tr>\n",
       "  </thead>\n",
       "  <tbody>\n",
       "    <tr>\n",
       "      <th>0</th>\n",
       "      <td>German</td>\n",
       "      <td>**German** can mean different things.  It can ...</td>\n",
       "      <td>{Republic, same, it, country, can, or, of, Whe...</td>\n",
       "      <td>[German, can, mean, different, things, It, can...</td>\n",
       "    </tr>\n",
       "    <tr>\n",
       "      <th>1</th>\n",
       "      <td>Coat_of_Arms_of_Germany_0bb4</td>\n",
       "      <td>The **coat of arms of Germany** (German **Wapp...</td>\n",
       "      <td>{religious, there, emperor, is, it, was, to, t...</td>\n",
       "      <td>[The, coat, of, arms, of, Germany, German, Wap...</td>\n",
       "    </tr>\n",
       "    <tr>\n",
       "      <th>2</th>\n",
       "      <td>Flag_of_Germany_0658</td>\n",
       "      <td>The **flag of Germany** (German: _Bundesflagge...</td>\n",
       "      <td>{new, service, is, colours, was, its, state, a...</td>\n",
       "      <td>[The, flag, of, Germany, German, _Bundesflagge...</td>\n",
       "    </tr>\n",
       "    <tr>\n",
       "      <th>3</th>\n",
       "      <td>Das_Lied_der_Deutschen_3057</td>\n",
       "      <td>**Das Lied der Deutschen** (The Song of the Ge...</td>\n",
       "      <td>{Deutschen, very, War, Heil, he, country, mean...</td>\n",
       "      <td>[Das, Lied, der, Deutschen, The, Song, of, the...</td>\n",
       "    </tr>\n",
       "    <tr>\n",
       "      <th>4</th>\n",
       "      <td>Map</td>\n",
       "      <td>A **map** is usually a picture of the Earth or...</td>\n",
       "      <td>{lot, chart, round, screen, made, are, web, ca...</td>\n",
       "      <td>[A, map, is, usually, a, picture, of, the, Ear...</td>\n",
       "    </tr>\n",
       "  </tbody>\n",
       "</table>\n",
       "</div>"
      ],
      "text/plain": [
       "                           name  \\\n",
       "0                        German   \n",
       "1  Coat_of_Arms_of_Germany_0bb4   \n",
       "2          Flag_of_Germany_0658   \n",
       "3   Das_Lied_der_Deutschen_3057   \n",
       "4                           Map   \n",
       "\n",
       "                                                text  \\\n",
       "0  **German** can mean different things.  It can ...   \n",
       "1  The **coat of arms of Germany** (German **Wapp...   \n",
       "2  The **flag of Germany** (German: _Bundesflagge...   \n",
       "3  **Das Lied der Deutschen** (The Song of the Ge...   \n",
       "4  A **map** is usually a picture of the Earth or...   \n",
       "\n",
       "                                               words  \\\n",
       "0  {Republic, same, it, country, can, or, of, Whe...   \n",
       "1  {religious, there, emperor, is, it, was, to, t...   \n",
       "2  {new, service, is, colours, was, its, state, a...   \n",
       "3  {Deutschen, very, War, Heil, he, country, mean...   \n",
       "4  {lot, chart, round, screen, made, are, web, ca...   \n",
       "\n",
       "                                           word_list  \n",
       "0  [German, can, mean, different, things, It, can...  \n",
       "1  [The, coat, of, arms, of, Germany, German, Wap...  \n",
       "2  [The, flag, of, Germany, German, _Bundesflagge...  \n",
       "3  [Das, Lied, der, Deutschen, The, Song, of, the...  \n",
       "4  [A, map, is, usually, a, picture, of, the, Ear...  "
      ]
     },
     "execution_count": 182,
     "metadata": {},
     "output_type": "execute_result"
    }
   ],
   "source": [
    "df1.head()"
   ]
  },
  {
   "cell_type": "code",
   "execution_count": 183,
   "metadata": {
    "collapsed": false
   },
   "outputs": [],
   "source": [
    "x = df1.head().words[0]"
   ]
  },
  {
   "cell_type": "code",
   "execution_count": 184,
   "metadata": {
    "collapsed": false
   },
   "outputs": [
    {
     "name": "stdout",
     "output_type": "stream",
     "text": [
      "36\n",
      "36\n"
     ]
    }
   ],
   "source": [
    "print(len(x))\n",
    "print(len(set(x)))"
   ]
  },
  {
   "cell_type": "code",
   "execution_count": 185,
   "metadata": {
    "collapsed": true
   },
   "outputs": [],
   "source": [
    "#intersetion_cardinality = len(set.intersection(*[set(x), set(y)]))\n",
    "def calc_jaccard_simmilarity(wordset1, wordset2):\n",
    "    intersetion_cardinality = len(set.intersection(wordset1, wordset2))\n",
    "    union_cardinality = len(set.union(wordset1, wordset2))\n",
    "    return intersetion_cardinality/float(union_cardinality)"
   ]
  },
  {
   "cell_type": "code",
   "execution_count": 186,
   "metadata": {
    "collapsed": false
   },
   "outputs": [
    {
     "data": {
      "text/plain": [
       "0.2"
      ]
     },
     "execution_count": 186,
     "metadata": {},
     "output_type": "execute_result"
    }
   ],
   "source": [
    "calc_jaccard_simmilarity(set([\"red\", \"blue\", \"yellow\"]), set([\"green\", \"red\", \"orange\"]))"
   ]
  },
  {
   "cell_type": "code",
   "execution_count": 187,
   "metadata": {
    "collapsed": true
   },
   "outputs": [],
   "source": [
    "dfe = df1[df1[\"name\"] == \"Europe\"]\n",
    "europe_words = dfe.words.values[0]\n",
    "dfg = df1[df1[\"name\"] == \"Germany\"]\n",
    "germany_words = dfg.words.values[0]"
   ]
  },
  {
   "cell_type": "code",
   "execution_count": 188,
   "metadata": {
    "collapsed": false
   },
   "outputs": [
    {
     "data": {
      "text/plain": [
       "0.043219076005961254"
      ]
     },
     "execution_count": 188,
     "metadata": {},
     "output_type": "execute_result"
    }
   ],
   "source": [
    "calc_jaccard_simmilarity(europe_words, germany_words)"
   ]
  },
  {
   "cell_type": "code",
   "execution_count": 189,
   "metadata": {
    "collapsed": true
   },
   "outputs": [],
   "source": [
    "# dfg = df1[df1[\"name\"] == \"German\"]\n",
    "# german = dfg.words.values[0]"
   ]
  },
  {
   "cell_type": "code",
   "execution_count": 190,
   "metadata": {
    "collapsed": false
   },
   "outputs": [],
   "source": [
    "# calc_jaccard_simmilarity(german, germany)"
   ]
  },
  {
   "cell_type": "code",
   "execution_count": 191,
   "metadata": {
    "collapsed": false
   },
   "outputs": [],
   "source": [
    "from collections import Counter\n",
    "df1['tf'] = df1.word_list.apply(lambda x: Counter(x))"
   ]
  },
  {
   "cell_type": "code",
   "execution_count": 192,
   "metadata": {
    "collapsed": false
   },
   "outputs": [
    {
     "data": {
      "text/html": [
       "<div>\n",
       "<table border=\"1\" class=\"dataframe\">\n",
       "  <thead>\n",
       "    <tr style=\"text-align: right;\">\n",
       "      <th></th>\n",
       "      <th>name</th>\n",
       "      <th>text</th>\n",
       "      <th>words</th>\n",
       "      <th>word_list</th>\n",
       "      <th>tf</th>\n",
       "    </tr>\n",
       "  </thead>\n",
       "  <tbody>\n",
       "    <tr>\n",
       "      <th>0</th>\n",
       "      <td>German</td>\n",
       "      <td>**German** can mean different things.  It can ...</td>\n",
       "      <td>{Republic, same, it, country, can, or, of, Whe...</td>\n",
       "      <td>[German, can, mean, different, things, It, can...</td>\n",
       "      <td>{'also_': 1, 'Republic': 1, 'it': 1, 'who': 2,...</td>\n",
       "    </tr>\n",
       "    <tr>\n",
       "      <th>1</th>\n",
       "      <td>Coat_of_Arms_of_Germany_0bb4</td>\n",
       "      <td>The **coat of arms of Germany** (German **Wapp...</td>\n",
       "      <td>{religious, there, emperor, is, it, was, to, t...</td>\n",
       "      <td>[The, coat, of, arms, of, Germany, German, Wap...</td>\n",
       "      <td>{'religious': 1, 'there': 1, 'emperor': 1, 'is...</td>\n",
       "    </tr>\n",
       "    <tr>\n",
       "      <th>2</th>\n",
       "      <td>Flag_of_Germany_0658</td>\n",
       "      <td>The **flag of Germany** (German: _Bundesflagge...</td>\n",
       "      <td>{new, service, is, colours, was, its, state, a...</td>\n",
       "      <td>[The, flag, of, Germany, German, _Bundesflagge...</td>\n",
       "      <td>{'states': 1, 'new': 1, 'is': 2, 'colours': 1,...</td>\n",
       "    </tr>\n",
       "    <tr>\n",
       "      <th>3</th>\n",
       "      <td>Das_Lied_der_Deutschen_3057</td>\n",
       "      <td>**Das Lied der Deutschen** (The Song of the Ge...</td>\n",
       "      <td>{Deutschen, very, War, Heil, he, country, mean...</td>\n",
       "      <td>[Das, Lied, der, Deutschen, The, Song, of, the...</td>\n",
       "      <td>{'Deutschen': 1, 'very': 4, 'War': 2, 'Siegerk...</td>\n",
       "    </tr>\n",
       "    <tr>\n",
       "      <th>4</th>\n",
       "      <td>Map</td>\n",
       "      <td>A **map** is usually a picture of the Earth or...</td>\n",
       "      <td>{lot, chart, round, screen, made, are, web, ca...</td>\n",
       "      <td>[A, map, is, usually, a, picture, of, the, Ear...</td>\n",
       "      <td>{'lot': 1, 'chart': 1, 'projections': 1, 'to':...</td>\n",
       "    </tr>\n",
       "  </tbody>\n",
       "</table>\n",
       "</div>"
      ],
      "text/plain": [
       "                           name  \\\n",
       "0                        German   \n",
       "1  Coat_of_Arms_of_Germany_0bb4   \n",
       "2          Flag_of_Germany_0658   \n",
       "3   Das_Lied_der_Deutschen_3057   \n",
       "4                           Map   \n",
       "\n",
       "                                                text  \\\n",
       "0  **German** can mean different things.  It can ...   \n",
       "1  The **coat of arms of Germany** (German **Wapp...   \n",
       "2  The **flag of Germany** (German: _Bundesflagge...   \n",
       "3  **Das Lied der Deutschen** (The Song of the Ge...   \n",
       "4  A **map** is usually a picture of the Earth or...   \n",
       "\n",
       "                                               words  \\\n",
       "0  {Republic, same, it, country, can, or, of, Whe...   \n",
       "1  {religious, there, emperor, is, it, was, to, t...   \n",
       "2  {new, service, is, colours, was, its, state, a...   \n",
       "3  {Deutschen, very, War, Heil, he, country, mean...   \n",
       "4  {lot, chart, round, screen, made, are, web, ca...   \n",
       "\n",
       "                                           word_list  \\\n",
       "0  [German, can, mean, different, things, It, can...   \n",
       "1  [The, coat, of, arms, of, Germany, German, Wap...   \n",
       "2  [The, flag, of, Germany, German, _Bundesflagge...   \n",
       "3  [Das, Lied, der, Deutschen, The, Song, of, the...   \n",
       "4  [A, map, is, usually, a, picture, of, the, Ear...   \n",
       "\n",
       "                                                  tf  \n",
       "0  {'also_': 1, 'Republic': 1, 'it': 1, 'who': 2,...  \n",
       "1  {'religious': 1, 'there': 1, 'emperor': 1, 'is...  \n",
       "2  {'states': 1, 'new': 1, 'is': 2, 'colours': 1,...  \n",
       "3  {'Deutschen': 1, 'very': 4, 'War': 2, 'Siegerk...  \n",
       "4  {'lot': 1, 'chart': 1, 'projections': 1, 'to':...  "
      ]
     },
     "execution_count": 192,
     "metadata": {},
     "output_type": "execute_result"
    }
   ],
   "source": [
    "df1.head()"
   ]
  },
  {
   "cell_type": "code",
   "execution_count": 193,
   "metadata": {
    "collapsed": false
   },
   "outputs": [],
   "source": [
    "words = df1.words.tolist()"
   ]
  },
  {
   "cell_type": "code",
   "execution_count": 194,
   "metadata": {
    "collapsed": false
   },
   "outputs": [],
   "source": [
    "all_words = [word for sets in words for word in sets]"
   ]
  },
  {
   "cell_type": "code",
   "execution_count": 195,
   "metadata": {
    "collapsed": false
   },
   "outputs": [],
   "source": [
    "doc_freq = Counter(all_words)"
   ]
  },
  {
   "cell_type": "code",
   "execution_count": 196,
   "metadata": {
    "collapsed": true
   },
   "outputs": [],
   "source": [
    "def tf_dict_to_tfidf(tf_dic):\n",
    "    new_dic = {}\n",
    "    for k,v in tf_dic.items():\n",
    "        new_dic[k] = v / float(doc_freq[k])\n",
    "    return new_dic\n",
    "df1['tf_idf'] = df1.tf.apply(tf_dict_to_tfidf)"
   ]
  },
  {
   "cell_type": "code",
   "execution_count": 197,
   "metadata": {
    "collapsed": false
   },
   "outputs": [
    {
     "data": {
      "text/html": [
       "<div>\n",
       "<table border=\"1\" class=\"dataframe\">\n",
       "  <thead>\n",
       "    <tr style=\"text-align: right;\">\n",
       "      <th></th>\n",
       "      <th>name</th>\n",
       "      <th>text</th>\n",
       "      <th>words</th>\n",
       "      <th>word_list</th>\n",
       "      <th>tf</th>\n",
       "      <th>tf_idf</th>\n",
       "    </tr>\n",
       "  </thead>\n",
       "  <tbody>\n",
       "    <tr>\n",
       "      <th>0</th>\n",
       "      <td>German</td>\n",
       "      <td>**German** can mean different things.  It can ...</td>\n",
       "      <td>{Republic, same, it, country, can, or, of, Whe...</td>\n",
       "      <td>[German, can, mean, different, things, It, can...</td>\n",
       "      <td>{'also_': 1, 'Republic': 1, 'it': 1, 'who': 2,...</td>\n",
       "      <td>{'different': 0.0003671071953010279, 'things':...</td>\n",
       "    </tr>\n",
       "    <tr>\n",
       "      <th>1</th>\n",
       "      <td>Coat_of_Arms_of_Germany_0bb4</td>\n",
       "      <td>The **coat of arms of Germany** (German **Wapp...</td>\n",
       "      <td>{religious, there, emperor, is, it, was, to, t...</td>\n",
       "      <td>[The, coat, of, arms, of, Germany, German, Wap...</td>\n",
       "      <td>{'religious': 1, 'there': 1, 'emperor': 1, 'is...</td>\n",
       "      <td>{'religious': 0.0022727272727272726, 'there': ...</td>\n",
       "    </tr>\n",
       "    <tr>\n",
       "      <th>2</th>\n",
       "      <td>Flag_of_Germany_0658</td>\n",
       "      <td>The **flag of Germany** (German: _Bundesflagge...</td>\n",
       "      <td>{new, service, is, colours, was, its, state, a...</td>\n",
       "      <td>[The, flag, of, Germany, German, _Bundesflagge...</td>\n",
       "      <td>{'states': 1, 'new': 1, 'is': 2, 'colours': 1,...</td>\n",
       "      <td>{'new': 0.000564652738565782, 'is': 8.87350814...</td>\n",
       "    </tr>\n",
       "    <tr>\n",
       "      <th>3</th>\n",
       "      <td>Das_Lied_der_Deutschen_3057</td>\n",
       "      <td>**Das Lied der Deutschen** (The Song of the Ge...</td>\n",
       "      <td>{Deutschen, very, War, Heil, he, country, mean...</td>\n",
       "      <td>[Das, Lied, der, Deutschen, The, Song, of, the...</td>\n",
       "      <td>{'Deutschen': 1, 'very': 4, 'War': 2, 'Siegerk...</td>\n",
       "      <td>{'Deutschen': 0.3333333333333333, 'very': 0.00...</td>\n",
       "    </tr>\n",
       "    <tr>\n",
       "      <th>4</th>\n",
       "      <td>Map</td>\n",
       "      <td>A **map** is usually a picture of the Earth or...</td>\n",
       "      <td>{lot, chart, round, screen, made, are, web, ca...</td>\n",
       "      <td>[A, map, is, usually, a, picture, of, the, Ear...</td>\n",
       "      <td>{'lot': 1, 'chart': 1, 'projections': 1, 'to':...</td>\n",
       "      <td>{'lot': 0.0007905138339920949, 'chart': 0.0136...</td>\n",
       "    </tr>\n",
       "  </tbody>\n",
       "</table>\n",
       "</div>"
      ],
      "text/plain": [
       "                           name  \\\n",
       "0                        German   \n",
       "1  Coat_of_Arms_of_Germany_0bb4   \n",
       "2          Flag_of_Germany_0658   \n",
       "3   Das_Lied_der_Deutschen_3057   \n",
       "4                           Map   \n",
       "\n",
       "                                                text  \\\n",
       "0  **German** can mean different things.  It can ...   \n",
       "1  The **coat of arms of Germany** (German **Wapp...   \n",
       "2  The **flag of Germany** (German: _Bundesflagge...   \n",
       "3  **Das Lied der Deutschen** (The Song of the Ge...   \n",
       "4  A **map** is usually a picture of the Earth or...   \n",
       "\n",
       "                                               words  \\\n",
       "0  {Republic, same, it, country, can, or, of, Whe...   \n",
       "1  {religious, there, emperor, is, it, was, to, t...   \n",
       "2  {new, service, is, colours, was, its, state, a...   \n",
       "3  {Deutschen, very, War, Heil, he, country, mean...   \n",
       "4  {lot, chart, round, screen, made, are, web, ca...   \n",
       "\n",
       "                                           word_list  \\\n",
       "0  [German, can, mean, different, things, It, can...   \n",
       "1  [The, coat, of, arms, of, Germany, German, Wap...   \n",
       "2  [The, flag, of, Germany, German, _Bundesflagge...   \n",
       "3  [Das, Lied, der, Deutschen, The, Song, of, the...   \n",
       "4  [A, map, is, usually, a, picture, of, the, Ear...   \n",
       "\n",
       "                                                  tf  \\\n",
       "0  {'also_': 1, 'Republic': 1, 'it': 1, 'who': 2,...   \n",
       "1  {'religious': 1, 'there': 1, 'emperor': 1, 'is...   \n",
       "2  {'states': 1, 'new': 1, 'is': 2, 'colours': 1,...   \n",
       "3  {'Deutschen': 1, 'very': 4, 'War': 2, 'Siegerk...   \n",
       "4  {'lot': 1, 'chart': 1, 'projections': 1, 'to':...   \n",
       "\n",
       "                                              tf_idf  \n",
       "0  {'different': 0.0003671071953010279, 'things':...  \n",
       "1  {'religious': 0.0022727272727272726, 'there': ...  \n",
       "2  {'new': 0.000564652738565782, 'is': 8.87350814...  \n",
       "3  {'Deutschen': 0.3333333333333333, 'very': 0.00...  \n",
       "4  {'lot': 0.0007905138339920949, 'chart': 0.0136...  "
      ]
     },
     "execution_count": 197,
     "metadata": {},
     "output_type": "execute_result"
    }
   ],
   "source": [
    "df1.head()"
   ]
  },
  {
   "cell_type": "code",
   "execution_count": 198,
   "metadata": {
    "collapsed": true
   },
   "outputs": [],
   "source": [
    "from math import sqrt\n",
    "def euclidian_len(d1):\n",
    "    return sqrt(sum([v*v for k,v in d1.items()]))\n",
    "\n",
    "def scalar(d1, d2):\n",
    "    suma = 0\n",
    "    for k,v in d1.items():\n",
    "        try:\n",
    "            suma += v * d2[k]\n",
    "        except KeyError:\n",
    "            pass\n",
    "    return suma\n",
    "\n",
    "def calc_cosine_similarity(d1,d2):\n",
    "    return (scalar(d1,d2)/(euclidian_len(d1)*euclidian_len(d2)))"
   ]
  },
  {
   "cell_type": "code",
   "execution_count": 199,
   "metadata": {
    "collapsed": false
   },
   "outputs": [],
   "source": [
    "dfe = df1[df1[\"name\"] == \"Europe\"]\n",
    "europe = dfe.words.values[0]\n",
    "dfg = df1[df1[\"name\"] == \"Germany\"]\n",
    "germany = dfg.words.values[0]"
   ]
  },
  {
   "cell_type": "code",
   "execution_count": 200,
   "metadata": {
    "collapsed": false
   },
   "outputs": [
    {
     "data": {
      "text/plain": [
       "0.0002954073047552393"
      ]
     },
     "execution_count": 200,
     "metadata": {},
     "output_type": "execute_result"
    }
   ],
   "source": [
    "calc_cosine_similarity(dfg.tf_idf.values[0], dfe.tf_idf.values[0])"
   ]
  },
  {
   "cell_type": "code",
   "execution_count": 201,
   "metadata": {
    "collapsed": true
   },
   "outputs": [],
   "source": [
    "dfe2 = df2[df2[\"name\"] == \"Europe\"]\n",
    "europe_links = dfe2.out_links.values[0]\n",
    "dfg2 = df2[df2[\"name\"] == \"Germany\"]\n",
    "germany_links = dfg2.out_links.values[0]"
   ]
  },
  {
   "cell_type": "code",
   "execution_count": 202,
   "metadata": {
    "collapsed": false
   },
   "outputs": [
    {
     "data": {
      "text/html": [
       "<div>\n",
       "<table border=\"1\" class=\"dataframe\">\n",
       "  <thead>\n",
       "    <tr style=\"text-align: right;\">\n",
       "      <th></th>\n",
       "      <th>name</th>\n",
       "      <th>out_links</th>\n",
       "    </tr>\n",
       "  </thead>\n",
       "  <tbody>\n",
       "    <tr>\n",
       "      <th>0</th>\n",
       "      <td>German</td>\n",
       "      <td>[German_language, Country, Germany, Frank, Hol...</td>\n",
       "    </tr>\n",
       "    <tr>\n",
       "      <th>1</th>\n",
       "      <td>Coat_of_Arms_of_Germany_0bb4</td>\n",
       "      <td>[German_language, Germany, Flag_of_Germany_065...</td>\n",
       "    </tr>\n",
       "    <tr>\n",
       "      <th>2</th>\n",
       "      <td>Flag_of_Germany_0658</td>\n",
       "      <td>[German_language, Black, Red, Gold, Flag_of_Ge...</td>\n",
       "    </tr>\n",
       "    <tr>\n",
       "      <th>3</th>\n",
       "      <td>Das_Lied_der_Deutschen_3057</td>\n",
       "      <td>[Germany, Joseph_Haydn_fcd5, Hoffmann_von_Fall...</td>\n",
       "    </tr>\n",
       "    <tr>\n",
       "      <th>4</th>\n",
       "      <td>Map</td>\n",
       "      <td>[Earth, Photograph, Interpretation, Chart, Dra...</td>\n",
       "    </tr>\n",
       "  </tbody>\n",
       "</table>\n",
       "</div>"
      ],
      "text/plain": [
       "                           name  \\\n",
       "0                        German   \n",
       "1  Coat_of_Arms_of_Germany_0bb4   \n",
       "2          Flag_of_Germany_0658   \n",
       "3   Das_Lied_der_Deutschen_3057   \n",
       "4                           Map   \n",
       "\n",
       "                                           out_links  \n",
       "0  [German_language, Country, Germany, Frank, Hol...  \n",
       "1  [German_language, Germany, Flag_of_Germany_065...  \n",
       "2  [German_language, Black, Red, Gold, Flag_of_Ge...  \n",
       "3  [Germany, Joseph_Haydn_fcd5, Hoffmann_von_Fall...  \n",
       "4  [Earth, Photograph, Interpretation, Chart, Dra...  "
      ]
     },
     "execution_count": 202,
     "metadata": {},
     "output_type": "execute_result"
    }
   ],
   "source": [
    "df2.head()"
   ]
  },
  {
   "cell_type": "code",
   "execution_count": 203,
   "metadata": {
    "collapsed": false
   },
   "outputs": [
    {
     "data": {
      "text/plain": [
       "0.9130434782608695"
      ]
     },
     "execution_count": 203,
     "metadata": {},
     "output_type": "execute_result"
    }
   ],
   "source": [
    "calc_jaccard_simmilarity(set(europe_links), set(germany_links))"
   ]
  },
  {
   "cell_type": "code",
   "execution_count": 204,
   "metadata": {
    "collapsed": false
   },
   "outputs": [
    {
     "data": {
      "text/html": [
       "<div>\n",
       "<table border=\"1\" class=\"dataframe\">\n",
       "  <thead>\n",
       "    <tr style=\"text-align: right;\">\n",
       "      <th></th>\n",
       "      <th>name</th>\n",
       "      <th>text</th>\n",
       "      <th>words</th>\n",
       "      <th>word_list</th>\n",
       "      <th>tf</th>\n",
       "      <th>tf_idf</th>\n",
       "    </tr>\n",
       "  </thead>\n",
       "  <tbody>\n",
       "    <tr>\n",
       "      <th>0</th>\n",
       "      <td>German</td>\n",
       "      <td>**German** can mean different things.  It can ...</td>\n",
       "      <td>{Republic, same, it, country, can, or, of, Whe...</td>\n",
       "      <td>[German, can, mean, different, things, It, can...</td>\n",
       "      <td>{'also_': 1, 'Republic': 1, 'it': 1, 'who': 2,...</td>\n",
       "      <td>{'different': 0.0003671071953010279, 'things':...</td>\n",
       "    </tr>\n",
       "    <tr>\n",
       "      <th>1</th>\n",
       "      <td>Coat_of_Arms_of_Germany_0bb4</td>\n",
       "      <td>The **coat of arms of Germany** (German **Wapp...</td>\n",
       "      <td>{religious, there, emperor, is, it, was, to, t...</td>\n",
       "      <td>[The, coat, of, arms, of, Germany, German, Wap...</td>\n",
       "      <td>{'religious': 1, 'there': 1, 'emperor': 1, 'is...</td>\n",
       "      <td>{'religious': 0.0022727272727272726, 'there': ...</td>\n",
       "    </tr>\n",
       "    <tr>\n",
       "      <th>2</th>\n",
       "      <td>Flag_of_Germany_0658</td>\n",
       "      <td>The **flag of Germany** (German: _Bundesflagge...</td>\n",
       "      <td>{new, service, is, colours, was, its, state, a...</td>\n",
       "      <td>[The, flag, of, Germany, German, _Bundesflagge...</td>\n",
       "      <td>{'states': 1, 'new': 1, 'is': 2, 'colours': 1,...</td>\n",
       "      <td>{'new': 0.000564652738565782, 'is': 8.87350814...</td>\n",
       "    </tr>\n",
       "    <tr>\n",
       "      <th>3</th>\n",
       "      <td>Das_Lied_der_Deutschen_3057</td>\n",
       "      <td>**Das Lied der Deutschen** (The Song of the Ge...</td>\n",
       "      <td>{Deutschen, very, War, Heil, he, country, mean...</td>\n",
       "      <td>[Das, Lied, der, Deutschen, The, Song, of, the...</td>\n",
       "      <td>{'Deutschen': 1, 'very': 4, 'War': 2, 'Siegerk...</td>\n",
       "      <td>{'Deutschen': 0.3333333333333333, 'very': 0.00...</td>\n",
       "    </tr>\n",
       "    <tr>\n",
       "      <th>4</th>\n",
       "      <td>Map</td>\n",
       "      <td>A **map** is usually a picture of the Earth or...</td>\n",
       "      <td>{lot, chart, round, screen, made, are, web, ca...</td>\n",
       "      <td>[A, map, is, usually, a, picture, of, the, Ear...</td>\n",
       "      <td>{'lot': 1, 'chart': 1, 'projections': 1, 'to':...</td>\n",
       "      <td>{'lot': 0.0007905138339920949, 'chart': 0.0136...</td>\n",
       "    </tr>\n",
       "  </tbody>\n",
       "</table>\n",
       "</div>"
      ],
      "text/plain": [
       "                           name  \\\n",
       "0                        German   \n",
       "1  Coat_of_Arms_of_Germany_0bb4   \n",
       "2          Flag_of_Germany_0658   \n",
       "3   Das_Lied_der_Deutschen_3057   \n",
       "4                           Map   \n",
       "\n",
       "                                                text  \\\n",
       "0  **German** can mean different things.  It can ...   \n",
       "1  The **coat of arms of Germany** (German **Wapp...   \n",
       "2  The **flag of Germany** (German: _Bundesflagge...   \n",
       "3  **Das Lied der Deutschen** (The Song of the Ge...   \n",
       "4  A **map** is usually a picture of the Earth or...   \n",
       "\n",
       "                                               words  \\\n",
       "0  {Republic, same, it, country, can, or, of, Whe...   \n",
       "1  {religious, there, emperor, is, it, was, to, t...   \n",
       "2  {new, service, is, colours, was, its, state, a...   \n",
       "3  {Deutschen, very, War, Heil, he, country, mean...   \n",
       "4  {lot, chart, round, screen, made, are, web, ca...   \n",
       "\n",
       "                                           word_list  \\\n",
       "0  [German, can, mean, different, things, It, can...   \n",
       "1  [The, coat, of, arms, of, Germany, German, Wap...   \n",
       "2  [The, flag, of, Germany, German, _Bundesflagge...   \n",
       "3  [Das, Lied, der, Deutschen, The, Song, of, the...   \n",
       "4  [A, map, is, usually, a, picture, of, the, Ear...   \n",
       "\n",
       "                                                  tf  \\\n",
       "0  {'also_': 1, 'Republic': 1, 'it': 1, 'who': 2,...   \n",
       "1  {'religious': 1, 'there': 1, 'emperor': 1, 'is...   \n",
       "2  {'states': 1, 'new': 1, 'is': 2, 'colours': 1,...   \n",
       "3  {'Deutschen': 1, 'very': 4, 'War': 2, 'Siegerk...   \n",
       "4  {'lot': 1, 'chart': 1, 'projections': 1, 'to':...   \n",
       "\n",
       "                                              tf_idf  \n",
       "0  {'different': 0.0003671071953010279, 'things':...  \n",
       "1  {'religious': 0.0022727272727272726, 'there': ...  \n",
       "2  {'new': 0.000564652738565782, 'is': 8.87350814...  \n",
       "3  {'Deutschen': 0.3333333333333333, 'very': 0.00...  \n",
       "4  {'lot': 0.0007905138339920949, 'chart': 0.0136...  "
      ]
     },
     "execution_count": 204,
     "metadata": {},
     "output_type": "execute_result"
    }
   ],
   "source": [
    "df1.head()"
   ]
  },
  {
   "cell_type": "code",
   "execution_count": 205,
   "metadata": {
    "collapsed": false,
    "scrolled": false
   },
   "outputs": [],
   "source": [
    "df1['cos_ger'] = df1.tf_idf.apply(lambda x: calc_cosine_similarity(x, dfg.tf_idf.values[0]))"
   ]
  },
  {
   "cell_type": "code",
   "execution_count": 206,
   "metadata": {
    "collapsed": true
   },
   "outputs": [],
   "source": [
    "df1['jac_ger'] = df1.words.apply(lambda x: calc_jaccard_simmilarity(x, germany_words))"
   ]
  },
  {
   "cell_type": "code",
   "execution_count": 207,
   "metadata": {
    "collapsed": true
   },
   "outputs": [],
   "source": [
    "df2['jac_ger_links'] = df2.out_links.apply(lambda x: calc_jaccard_simmilarity(set(x), set(germany_links)))"
   ]
  },
  {
   "cell_type": "code",
   "execution_count": 208,
   "metadata": {
    "collapsed": false
   },
   "outputs": [],
   "source": [
    "df3 = pd.merge(df1[['name', 'cos_ger', 'jac_ger']], df2[['name', 'jac_ger_links']], on='name', how='left')"
   ]
  },
  {
   "cell_type": "code",
   "execution_count": 209,
   "metadata": {
    "collapsed": false
   },
   "outputs": [],
   "source": [
    "cos_text = df3.sort_values('cos_ger', ascending=False).head(10)['name']\n",
    "jac_text = df3.sort_values('jac_ger', ascending=False).head(10)['name']\n",
    "jac_links = df3.sort_values('jac_ger_links', ascending=False).head(10)['name']"
   ]
  },
  {
   "cell_type": "code",
   "execution_count": 210,
   "metadata": {
    "collapsed": false
   },
   "outputs": [
    {
     "data": {
      "text/plain": [
       "(27493, 8)"
      ]
     },
     "execution_count": 210,
     "metadata": {},
     "output_type": "execute_result"
    }
   ],
   "source": [
    "df1.shape"
   ]
  },
  {
   "cell_type": "code",
   "execution_count": 211,
   "metadata": {
    "collapsed": false
   },
   "outputs": [
    {
     "data": {
      "text/html": [
       "<div>\n",
       "<table border=\"1\" class=\"dataframe\">\n",
       "  <thead>\n",
       "    <tr style=\"text-align: right;\">\n",
       "      <th></th>\n",
       "      <th>name</th>\n",
       "      <th>cos_ger</th>\n",
       "      <th>jac_ger</th>\n",
       "      <th>jac_ger_links</th>\n",
       "    </tr>\n",
       "  </thead>\n",
       "  <tbody>\n",
       "    <tr>\n",
       "      <th>0</th>\n",
       "      <td>German</td>\n",
       "      <td>0.000463</td>\n",
       "      <td>0.037481</td>\n",
       "      <td>0.558824</td>\n",
       "    </tr>\n",
       "    <tr>\n",
       "      <th>1</th>\n",
       "      <td>Coat_of_Arms_of_Germany_0bb4</td>\n",
       "      <td>0.000041</td>\n",
       "      <td>0.044476</td>\n",
       "      <td>0.514706</td>\n",
       "    </tr>\n",
       "    <tr>\n",
       "      <th>2</th>\n",
       "      <td>Flag_of_Germany_0658</td>\n",
       "      <td>0.000055</td>\n",
       "      <td>0.042213</td>\n",
       "      <td>0.397059</td>\n",
       "    </tr>\n",
       "    <tr>\n",
       "      <th>3</th>\n",
       "      <td>Das_Lied_der_Deutschen_3057</td>\n",
       "      <td>0.000221</td>\n",
       "      <td>0.123698</td>\n",
       "      <td>0.794118</td>\n",
       "    </tr>\n",
       "    <tr>\n",
       "      <th>4</th>\n",
       "      <td>Map</td>\n",
       "      <td>0.000096</td>\n",
       "      <td>0.060478</td>\n",
       "      <td>0.536232</td>\n",
       "    </tr>\n",
       "  </tbody>\n",
       "</table>\n",
       "</div>"
      ],
      "text/plain": [
       "                           name   cos_ger   jac_ger  jac_ger_links\n",
       "0                        German  0.000463  0.037481       0.558824\n",
       "1  Coat_of_Arms_of_Germany_0bb4  0.000041  0.044476       0.514706\n",
       "2          Flag_of_Germany_0658  0.000055  0.042213       0.397059\n",
       "3   Das_Lied_der_Deutschen_3057  0.000221  0.123698       0.794118\n",
       "4                           Map  0.000096  0.060478       0.536232"
      ]
     },
     "execution_count": 211,
     "metadata": {},
     "output_type": "execute_result"
    }
   ],
   "source": [
    "df3.head()"
   ]
  },
  {
   "cell_type": "code",
   "execution_count": 212,
   "metadata": {
    "collapsed": false
   },
   "outputs": [],
   "source": [
    "df1[\"word_count\"] = df1.word_list.apply(lambda x: len(x))\n",
    "sorted_df = df1.sort_values(by='word_count', ascending=False) \n",
    "ranks = pd.Series([i for i in range(1, sorted_df.shape[0]+1)])\n",
    "sorted_df['article_rank'] = ranks.values\n",
    "#sorted_df.head()"
   ]
  },
  {
   "cell_type": "code",
   "execution_count": 213,
   "metadata": {
    "collapsed": false
   },
   "outputs": [],
   "source": [
    "random_df = df1.sample(1000)\n",
    "#random_df.head()"
   ]
  },
  {
   "cell_type": "code",
   "execution_count": 214,
   "metadata": {
    "collapsed": false
   },
   "outputs": [],
   "source": [
    "#df1 = df1.head(100)\n",
    "#df1 = sorted_df.head(1000)\n",
    "df1 = random_df\n",
    "def get_matrix_jacard(df1):\n",
    "    df_jac_text = pd.DataFrame(df1.name)\n",
    "    names = df1.name.values\n",
    "    for name in names:\n",
    "        helper = df1[df1[\"name\"] == name].words.values[0]\n",
    "        df_jac_text[name] = df1.words.apply(lambda x: calc_jaccard_simmilarity(x, helper))\n",
    "    return df_jac_text"
   ]
  },
  {
   "cell_type": "code",
   "execution_count": 215,
   "metadata": {
    "collapsed": true
   },
   "outputs": [],
   "source": [
    "def get_matrix_cosine(df1):\n",
    "    df_cos_text = pd.DataFrame(df1.name)\n",
    "    names = df1.name.values\n",
    "    for name in names:\n",
    "        helper = df1[df1[\"name\"] == name].tf_idf.values[0]\n",
    "        df_cos_text[name] = df1.tf_idf.apply(lambda x: calc_cosine_similarity(x, helper))\n",
    "    return df_cos_text    "
   ]
  },
  {
   "cell_type": "code",
   "execution_count": 216,
   "metadata": {
    "collapsed": true
   },
   "outputs": [],
   "source": [
    "dx = get_matrix_cosine(df1)"
   ]
  },
  {
   "cell_type": "code",
   "execution_count": 217,
   "metadata": {
    "collapsed": false
   },
   "outputs": [
    {
     "name": "stdout",
     "output_type": "stream",
     "text": [
      "Wall time: 4.36 s\n"
     ]
    }
   ],
   "source": [
    "\n",
    "def calc_cos_time(df1, df_cos_text):\n",
    "    df_cos_text.set_index('name', inplace=True)\n",
    "    df_cos_text = df_cos_text.rename_axis(None)\n",
    "    df_cos_text = df_cos_text.where(np.triu(np.ones(df_cos_text.shape)).astype(np.bool))\n",
    "    df_cos_text = df_cos_text.stack()\n",
    "    df_cos_text = df_cos_text.reset_index()\n",
    "    df_cos_text.columns= ['Article1', 'Article2', 'CosineText']\n",
    "    df_cos_text = df_cos_text.sort_values(by='CosineText', ascending=False)\n",
    "    # df_cos_text.drop_duplicates(subset=['Article1', 'Article2'], inplace=True, keep=False)\n",
    "    df_cos_text = df_cos_text[df_cos_text.Article1 != df_cos_text.Article2]\n",
    "    ranks = pd.Series([i for i in range(1, df_cos_text.shape[0]+1)])\n",
    "    df_cos_text['cos_rank'] = ranks.values\n",
    "    \n",
    "%time calc_cos_time(df1,dx)    "
   ]
  },
  {
   "cell_type": "code",
   "execution_count": 165,
   "metadata": {
    "collapsed": false,
    "scrolled": true
   },
   "outputs": [
    {
     "ename": "KeyError",
     "evalue": "'CosineText'",
     "output_type": "error",
     "traceback": [
      "\u001b[0;31m---------------------------------------------------------------------------\u001b[0m",
      "\u001b[0;31mKeyError\u001b[0m                                  Traceback (most recent call last)",
      "\u001b[0;32mC:\\Users\\stefa\\Anaconda3\\lib\\site-packages\\pandas\\indexes\\base.py\u001b[0m in \u001b[0;36mget_loc\u001b[0;34m(self, key, method, tolerance)\u001b[0m\n\u001b[1;32m   1944\u001b[0m             \u001b[1;32mtry\u001b[0m\u001b[1;33m:\u001b[0m\u001b[1;33m\u001b[0m\u001b[0m\n\u001b[0;32m-> 1945\u001b[0;31m                 \u001b[1;32mreturn\u001b[0m \u001b[0mself\u001b[0m\u001b[1;33m.\u001b[0m\u001b[0m_engine\u001b[0m\u001b[1;33m.\u001b[0m\u001b[0mget_loc\u001b[0m\u001b[1;33m(\u001b[0m\u001b[0mkey\u001b[0m\u001b[1;33m)\u001b[0m\u001b[1;33m\u001b[0m\u001b[0m\n\u001b[0m\u001b[1;32m   1946\u001b[0m             \u001b[1;32mexcept\u001b[0m \u001b[0mKeyError\u001b[0m\u001b[1;33m:\u001b[0m\u001b[1;33m\u001b[0m\u001b[0m\n",
      "\u001b[0;32mpandas\\index.pyx\u001b[0m in \u001b[0;36mpandas.index.IndexEngine.get_loc (pandas\\index.c:4154)\u001b[0;34m()\u001b[0m\n",
      "\u001b[0;32mpandas\\index.pyx\u001b[0m in \u001b[0;36mpandas.index.IndexEngine.get_loc (pandas\\index.c:4018)\u001b[0;34m()\u001b[0m\n",
      "\u001b[0;32mpandas\\hashtable.pyx\u001b[0m in \u001b[0;36mpandas.hashtable.PyObjectHashTable.get_item (pandas\\hashtable.c:12368)\u001b[0;34m()\u001b[0m\n",
      "\u001b[0;32mpandas\\hashtable.pyx\u001b[0m in \u001b[0;36mpandas.hashtable.PyObjectHashTable.get_item (pandas\\hashtable.c:12322)\u001b[0;34m()\u001b[0m\n",
      "\u001b[0;31mKeyError\u001b[0m: 'CosineText'",
      "\nDuring handling of the above exception, another exception occurred:\n",
      "\u001b[0;31mKeyError\u001b[0m                                  Traceback (most recent call last)",
      "\u001b[0;32m<ipython-input-165-b7a4ad3d5a6a>\u001b[0m in \u001b[0;36m<module>\u001b[0;34m()\u001b[0m\n\u001b[0;32m----> 1\u001b[0;31m \u001b[0mdf_cos_text\u001b[0m \u001b[1;33m=\u001b[0m \u001b[0mdf_cos_text\u001b[0m\u001b[1;33m.\u001b[0m\u001b[0msort_values\u001b[0m\u001b[1;33m(\u001b[0m\u001b[0mby\u001b[0m\u001b[1;33m=\u001b[0m\u001b[1;34m'CosineText'\u001b[0m\u001b[1;33m,\u001b[0m \u001b[0mascending\u001b[0m\u001b[1;33m=\u001b[0m\u001b[1;32mFalse\u001b[0m\u001b[1;33m)\u001b[0m\u001b[1;33m\u001b[0m\u001b[0m\n\u001b[0m\u001b[1;32m      2\u001b[0m \u001b[1;31m# df_cos_text.drop_duplicates(subset=['Article1', 'Article2'], inplace=True, keep=False)\u001b[0m\u001b[1;33m\u001b[0m\u001b[1;33m\u001b[0m\u001b[0m\n\u001b[1;32m      3\u001b[0m \u001b[0mdf_cos_text\u001b[0m \u001b[1;33m=\u001b[0m \u001b[0mdf_cos_text\u001b[0m\u001b[1;33m[\u001b[0m\u001b[0mdf_cos_text\u001b[0m\u001b[1;33m.\u001b[0m\u001b[0mArticle1\u001b[0m \u001b[1;33m!=\u001b[0m \u001b[0mdf_cos_text\u001b[0m\u001b[1;33m.\u001b[0m\u001b[0mArticle2\u001b[0m\u001b[1;33m]\u001b[0m\u001b[1;33m\u001b[0m\u001b[0m\n\u001b[1;32m      4\u001b[0m \u001b[0mranks\u001b[0m \u001b[1;33m=\u001b[0m \u001b[0mpd\u001b[0m\u001b[1;33m.\u001b[0m\u001b[0mSeries\u001b[0m\u001b[1;33m(\u001b[0m\u001b[1;33m[\u001b[0m\u001b[0mi\u001b[0m \u001b[1;32mfor\u001b[0m \u001b[0mi\u001b[0m \u001b[1;32min\u001b[0m \u001b[0mrange\u001b[0m\u001b[1;33m(\u001b[0m\u001b[1;36m1\u001b[0m\u001b[1;33m,\u001b[0m \u001b[0mdf_cos_text\u001b[0m\u001b[1;33m.\u001b[0m\u001b[0mshape\u001b[0m\u001b[1;33m[\u001b[0m\u001b[1;36m0\u001b[0m\u001b[1;33m]\u001b[0m\u001b[1;33m+\u001b[0m\u001b[1;36m1\u001b[0m\u001b[1;33m)\u001b[0m\u001b[1;33m]\u001b[0m\u001b[1;33m)\u001b[0m\u001b[1;33m\u001b[0m\u001b[0m\n\u001b[1;32m      5\u001b[0m \u001b[0mdf_cos_text\u001b[0m\u001b[1;33m[\u001b[0m\u001b[1;34m'cos_rank'\u001b[0m\u001b[1;33m]\u001b[0m \u001b[1;33m=\u001b[0m \u001b[0mranks\u001b[0m\u001b[1;33m.\u001b[0m\u001b[0mvalues\u001b[0m\u001b[1;33m\u001b[0m\u001b[0m\n",
      "\u001b[0;32mC:\\Users\\stefa\\Anaconda3\\lib\\site-packages\\pandas\\core\\frame.py\u001b[0m in \u001b[0;36msort_values\u001b[0;34m(self, by, axis, ascending, inplace, kind, na_position)\u001b[0m\n\u001b[1;32m   3149\u001b[0m \u001b[1;33m\u001b[0m\u001b[0m\n\u001b[1;32m   3150\u001b[0m             \u001b[0mby\u001b[0m \u001b[1;33m=\u001b[0m \u001b[0mby\u001b[0m\u001b[1;33m[\u001b[0m\u001b[1;36m0\u001b[0m\u001b[1;33m]\u001b[0m\u001b[1;33m\u001b[0m\u001b[0m\n\u001b[0;32m-> 3151\u001b[0;31m             \u001b[0mk\u001b[0m \u001b[1;33m=\u001b[0m \u001b[0mself\u001b[0m\u001b[1;33m[\u001b[0m\u001b[0mby\u001b[0m\u001b[1;33m]\u001b[0m\u001b[1;33m.\u001b[0m\u001b[0mvalues\u001b[0m\u001b[1;33m\u001b[0m\u001b[0m\n\u001b[0m\u001b[1;32m   3152\u001b[0m             \u001b[1;32mif\u001b[0m \u001b[0mk\u001b[0m\u001b[1;33m.\u001b[0m\u001b[0mndim\u001b[0m \u001b[1;33m==\u001b[0m \u001b[1;36m2\u001b[0m\u001b[1;33m:\u001b[0m\u001b[1;33m\u001b[0m\u001b[0m\n\u001b[1;32m   3153\u001b[0m \u001b[1;33m\u001b[0m\u001b[0m\n",
      "\u001b[0;32mC:\\Users\\stefa\\Anaconda3\\lib\\site-packages\\pandas\\core\\frame.py\u001b[0m in \u001b[0;36m__getitem__\u001b[0;34m(self, key)\u001b[0m\n\u001b[1;32m   1995\u001b[0m             \u001b[1;32mreturn\u001b[0m \u001b[0mself\u001b[0m\u001b[1;33m.\u001b[0m\u001b[0m_getitem_multilevel\u001b[0m\u001b[1;33m(\u001b[0m\u001b[0mkey\u001b[0m\u001b[1;33m)\u001b[0m\u001b[1;33m\u001b[0m\u001b[0m\n\u001b[1;32m   1996\u001b[0m         \u001b[1;32melse\u001b[0m\u001b[1;33m:\u001b[0m\u001b[1;33m\u001b[0m\u001b[0m\n\u001b[0;32m-> 1997\u001b[0;31m             \u001b[1;32mreturn\u001b[0m \u001b[0mself\u001b[0m\u001b[1;33m.\u001b[0m\u001b[0m_getitem_column\u001b[0m\u001b[1;33m(\u001b[0m\u001b[0mkey\u001b[0m\u001b[1;33m)\u001b[0m\u001b[1;33m\u001b[0m\u001b[0m\n\u001b[0m\u001b[1;32m   1998\u001b[0m \u001b[1;33m\u001b[0m\u001b[0m\n\u001b[1;32m   1999\u001b[0m     \u001b[1;32mdef\u001b[0m \u001b[0m_getitem_column\u001b[0m\u001b[1;33m(\u001b[0m\u001b[0mself\u001b[0m\u001b[1;33m,\u001b[0m \u001b[0mkey\u001b[0m\u001b[1;33m)\u001b[0m\u001b[1;33m:\u001b[0m\u001b[1;33m\u001b[0m\u001b[0m\n",
      "\u001b[0;32mC:\\Users\\stefa\\Anaconda3\\lib\\site-packages\\pandas\\core\\frame.py\u001b[0m in \u001b[0;36m_getitem_column\u001b[0;34m(self, key)\u001b[0m\n\u001b[1;32m   2002\u001b[0m         \u001b[1;31m# get column\u001b[0m\u001b[1;33m\u001b[0m\u001b[1;33m\u001b[0m\u001b[0m\n\u001b[1;32m   2003\u001b[0m         \u001b[1;32mif\u001b[0m \u001b[0mself\u001b[0m\u001b[1;33m.\u001b[0m\u001b[0mcolumns\u001b[0m\u001b[1;33m.\u001b[0m\u001b[0mis_unique\u001b[0m\u001b[1;33m:\u001b[0m\u001b[1;33m\u001b[0m\u001b[0m\n\u001b[0;32m-> 2004\u001b[0;31m             \u001b[1;32mreturn\u001b[0m \u001b[0mself\u001b[0m\u001b[1;33m.\u001b[0m\u001b[0m_get_item_cache\u001b[0m\u001b[1;33m(\u001b[0m\u001b[0mkey\u001b[0m\u001b[1;33m)\u001b[0m\u001b[1;33m\u001b[0m\u001b[0m\n\u001b[0m\u001b[1;32m   2005\u001b[0m \u001b[1;33m\u001b[0m\u001b[0m\n\u001b[1;32m   2006\u001b[0m         \u001b[1;31m# duplicate columns & possible reduce dimensionality\u001b[0m\u001b[1;33m\u001b[0m\u001b[1;33m\u001b[0m\u001b[0m\n",
      "\u001b[0;32mC:\\Users\\stefa\\Anaconda3\\lib\\site-packages\\pandas\\core\\generic.py\u001b[0m in \u001b[0;36m_get_item_cache\u001b[0;34m(self, item)\u001b[0m\n\u001b[1;32m   1348\u001b[0m         \u001b[0mres\u001b[0m \u001b[1;33m=\u001b[0m \u001b[0mcache\u001b[0m\u001b[1;33m.\u001b[0m\u001b[0mget\u001b[0m\u001b[1;33m(\u001b[0m\u001b[0mitem\u001b[0m\u001b[1;33m)\u001b[0m\u001b[1;33m\u001b[0m\u001b[0m\n\u001b[1;32m   1349\u001b[0m         \u001b[1;32mif\u001b[0m \u001b[0mres\u001b[0m \u001b[1;32mis\u001b[0m \u001b[1;32mNone\u001b[0m\u001b[1;33m:\u001b[0m\u001b[1;33m\u001b[0m\u001b[0m\n\u001b[0;32m-> 1350\u001b[0;31m             \u001b[0mvalues\u001b[0m \u001b[1;33m=\u001b[0m \u001b[0mself\u001b[0m\u001b[1;33m.\u001b[0m\u001b[0m_data\u001b[0m\u001b[1;33m.\u001b[0m\u001b[0mget\u001b[0m\u001b[1;33m(\u001b[0m\u001b[0mitem\u001b[0m\u001b[1;33m)\u001b[0m\u001b[1;33m\u001b[0m\u001b[0m\n\u001b[0m\u001b[1;32m   1351\u001b[0m             \u001b[0mres\u001b[0m \u001b[1;33m=\u001b[0m \u001b[0mself\u001b[0m\u001b[1;33m.\u001b[0m\u001b[0m_box_item_values\u001b[0m\u001b[1;33m(\u001b[0m\u001b[0mitem\u001b[0m\u001b[1;33m,\u001b[0m \u001b[0mvalues\u001b[0m\u001b[1;33m)\u001b[0m\u001b[1;33m\u001b[0m\u001b[0m\n\u001b[1;32m   1352\u001b[0m             \u001b[0mcache\u001b[0m\u001b[1;33m[\u001b[0m\u001b[0mitem\u001b[0m\u001b[1;33m]\u001b[0m \u001b[1;33m=\u001b[0m \u001b[0mres\u001b[0m\u001b[1;33m\u001b[0m\u001b[0m\n",
      "\u001b[0;32mC:\\Users\\stefa\\Anaconda3\\lib\\site-packages\\pandas\\core\\internals.py\u001b[0m in \u001b[0;36mget\u001b[0;34m(self, item, fastpath)\u001b[0m\n\u001b[1;32m   3288\u001b[0m \u001b[1;33m\u001b[0m\u001b[0m\n\u001b[1;32m   3289\u001b[0m             \u001b[1;32mif\u001b[0m \u001b[1;32mnot\u001b[0m \u001b[0misnull\u001b[0m\u001b[1;33m(\u001b[0m\u001b[0mitem\u001b[0m\u001b[1;33m)\u001b[0m\u001b[1;33m:\u001b[0m\u001b[1;33m\u001b[0m\u001b[0m\n\u001b[0;32m-> 3290\u001b[0;31m                 \u001b[0mloc\u001b[0m \u001b[1;33m=\u001b[0m \u001b[0mself\u001b[0m\u001b[1;33m.\u001b[0m\u001b[0mitems\u001b[0m\u001b[1;33m.\u001b[0m\u001b[0mget_loc\u001b[0m\u001b[1;33m(\u001b[0m\u001b[0mitem\u001b[0m\u001b[1;33m)\u001b[0m\u001b[1;33m\u001b[0m\u001b[0m\n\u001b[0m\u001b[1;32m   3291\u001b[0m             \u001b[1;32melse\u001b[0m\u001b[1;33m:\u001b[0m\u001b[1;33m\u001b[0m\u001b[0m\n\u001b[1;32m   3292\u001b[0m                 \u001b[0mindexer\u001b[0m \u001b[1;33m=\u001b[0m \u001b[0mnp\u001b[0m\u001b[1;33m.\u001b[0m\u001b[0marange\u001b[0m\u001b[1;33m(\u001b[0m\u001b[0mlen\u001b[0m\u001b[1;33m(\u001b[0m\u001b[0mself\u001b[0m\u001b[1;33m.\u001b[0m\u001b[0mitems\u001b[0m\u001b[1;33m)\u001b[0m\u001b[1;33m)\u001b[0m\u001b[1;33m[\u001b[0m\u001b[0misnull\u001b[0m\u001b[1;33m(\u001b[0m\u001b[0mself\u001b[0m\u001b[1;33m.\u001b[0m\u001b[0mitems\u001b[0m\u001b[1;33m)\u001b[0m\u001b[1;33m]\u001b[0m\u001b[1;33m\u001b[0m\u001b[0m\n",
      "\u001b[0;32mC:\\Users\\stefa\\Anaconda3\\lib\\site-packages\\pandas\\indexes\\base.py\u001b[0m in \u001b[0;36mget_loc\u001b[0;34m(self, key, method, tolerance)\u001b[0m\n\u001b[1;32m   1945\u001b[0m                 \u001b[1;32mreturn\u001b[0m \u001b[0mself\u001b[0m\u001b[1;33m.\u001b[0m\u001b[0m_engine\u001b[0m\u001b[1;33m.\u001b[0m\u001b[0mget_loc\u001b[0m\u001b[1;33m(\u001b[0m\u001b[0mkey\u001b[0m\u001b[1;33m)\u001b[0m\u001b[1;33m\u001b[0m\u001b[0m\n\u001b[1;32m   1946\u001b[0m             \u001b[1;32mexcept\u001b[0m \u001b[0mKeyError\u001b[0m\u001b[1;33m:\u001b[0m\u001b[1;33m\u001b[0m\u001b[0m\n\u001b[0;32m-> 1947\u001b[0;31m                 \u001b[1;32mreturn\u001b[0m \u001b[0mself\u001b[0m\u001b[1;33m.\u001b[0m\u001b[0m_engine\u001b[0m\u001b[1;33m.\u001b[0m\u001b[0mget_loc\u001b[0m\u001b[1;33m(\u001b[0m\u001b[0mself\u001b[0m\u001b[1;33m.\u001b[0m\u001b[0m_maybe_cast_indexer\u001b[0m\u001b[1;33m(\u001b[0m\u001b[0mkey\u001b[0m\u001b[1;33m)\u001b[0m\u001b[1;33m)\u001b[0m\u001b[1;33m\u001b[0m\u001b[0m\n\u001b[0m\u001b[1;32m   1948\u001b[0m \u001b[1;33m\u001b[0m\u001b[0m\n\u001b[1;32m   1949\u001b[0m         \u001b[0mindexer\u001b[0m \u001b[1;33m=\u001b[0m \u001b[0mself\u001b[0m\u001b[1;33m.\u001b[0m\u001b[0mget_indexer\u001b[0m\u001b[1;33m(\u001b[0m\u001b[1;33m[\u001b[0m\u001b[0mkey\u001b[0m\u001b[1;33m]\u001b[0m\u001b[1;33m,\u001b[0m \u001b[0mmethod\u001b[0m\u001b[1;33m=\u001b[0m\u001b[0mmethod\u001b[0m\u001b[1;33m,\u001b[0m \u001b[0mtolerance\u001b[0m\u001b[1;33m=\u001b[0m\u001b[0mtolerance\u001b[0m\u001b[1;33m)\u001b[0m\u001b[1;33m\u001b[0m\u001b[0m\n",
      "\u001b[0;32mpandas\\index.pyx\u001b[0m in \u001b[0;36mpandas.index.IndexEngine.get_loc (pandas\\index.c:4154)\u001b[0;34m()\u001b[0m\n",
      "\u001b[0;32mpandas\\index.pyx\u001b[0m in \u001b[0;36mpandas.index.IndexEngine.get_loc (pandas\\index.c:4018)\u001b[0;34m()\u001b[0m\n",
      "\u001b[0;32mpandas\\hashtable.pyx\u001b[0m in \u001b[0;36mpandas.hashtable.PyObjectHashTable.get_item (pandas\\hashtable.c:12368)\u001b[0;34m()\u001b[0m\n",
      "\u001b[0;32mpandas\\hashtable.pyx\u001b[0m in \u001b[0;36mpandas.hashtable.PyObjectHashTable.get_item (pandas\\hashtable.c:12322)\u001b[0;34m()\u001b[0m\n",
      "\u001b[0;31mKeyError\u001b[0m: 'CosineText'"
     ]
    }
   ],
   "source": [
    "df_cos_text = df_cos_text.sort_values(by='CosineText', ascending=False)\n",
    "# df_cos_text.drop_duplicates(subset=['Article1', 'Article2'], inplace=True, keep=False)\n",
    "df_cos_text = df_cos_text[df_cos_text.Article1 != df_cos_text.Article2]\n",
    "ranks = pd.Series([i for i in range(1, df_cos_text.shape[0]+1)])\n",
    "df_cos_text['cos_rank'] = ranks.values"
   ]
  },
  {
   "cell_type": "code",
   "execution_count": null,
   "metadata": {
    "collapsed": false
   },
   "outputs": [],
   "source": [
    "df_cos_text.head()"
   ]
  },
  {
   "cell_type": "code",
   "execution_count": 218,
   "metadata": {
    "collapsed": false
   },
   "outputs": [
    {
     "name": "stdout",
     "output_type": "stream",
     "text": [
      "Wall time: 15.1 s\n"
     ]
    }
   ],
   "source": [
    "def calc_for_timer(df1):\n",
    "    df_jac_text = pd.DataFrame(df1.name)\n",
    "    names = df1.name.values\n",
    "    for name in names:\n",
    "        helper = df1[df1[\"name\"] == name].words.values[0]\n",
    "        df_jac_text[name] = df1.words.apply(lambda x: calc_jaccard_simmilarity(x, helper))\n",
    "    df_jac_text.set_index('name', inplace=True)\n",
    "    df_jac_text = df_jac_text.rename_axis(None)\n",
    "    df_jac_text = df_jac_text.where(np.triu(np.ones(df_jac_text.shape)).astype(np.bool))\n",
    "\n",
    "    df_jac_text = df_jac_text.stack()\n",
    "    df_jac_text = df_jac_text.reset_index()\n",
    "    df_jac_text.columns= ['Article1', 'Article2', 'JaccardText']\n",
    "    df_jac_text = df_jac_text.sort_values(by='JaccardText', ascending=False)\n",
    "    df_jac_text = df_jac_text[df_jac_text.Article1 != df_jac_text.Article2]\n",
    "    ranks = pd.Series([i for i in range(1, df_jac_text.shape[0]+1)])\n",
    "    df_jac_text['jac_rank'] = ranks.values\n",
    "    \n",
    "%time calc_for_timer(df1)"
   ]
  },
  {
   "cell_type": "code",
   "execution_count": 167,
   "metadata": {
    "collapsed": false
   },
   "outputs": [
    {
     "data": {
      "text/html": [
       "<div>\n",
       "<table border=\"1\" class=\"dataframe\">\n",
       "  <thead>\n",
       "    <tr style=\"text-align: right;\">\n",
       "      <th></th>\n",
       "      <th>name</th>\n",
       "      <th>German</th>\n",
       "      <th>Coat_of_Arms_of_Germany_0bb4</th>\n",
       "      <th>Flag_of_Germany_0658</th>\n",
       "      <th>Das_Lied_der_Deutschen_3057</th>\n",
       "      <th>Map</th>\n",
       "      <th>National_anthem</th>\n",
       "      <th>Official_language</th>\n",
       "      <th>Square_kilometre</th>\n",
       "      <th>German_language</th>\n",
       "      <th>...</th>\n",
       "      <th>Celt</th>\n",
       "      <th>Middelburg</th>\n",
       "      <th>North_Brabant_49b9</th>\n",
       "      <th>List_of_Dutch_people_c3ba</th>\n",
       "      <th>September_1</th>\n",
       "      <th>1921</th>\n",
       "      <th>Holocaust</th>\n",
       "      <th>Mongols</th>\n",
       "      <th>Hard_and_soft_drugs</th>\n",
       "      <th>Oder-Neisse_line_cb8b</th>\n",
       "    </tr>\n",
       "  </thead>\n",
       "  <tbody>\n",
       "    <tr>\n",
       "      <th>0</th>\n",
       "      <td>German</td>\n",
       "      <td>1.000000</td>\n",
       "      <td>0.102041</td>\n",
       "      <td>0.103448</td>\n",
       "      <td>0.070485</td>\n",
       "      <td>0.089431</td>\n",
       "      <td>0.086207</td>\n",
       "      <td>0.109375</td>\n",
       "      <td>0.112500</td>\n",
       "      <td>0.087591</td>\n",
       "      <td>...</td>\n",
       "      <td>0.054795</td>\n",
       "      <td>0.125000</td>\n",
       "      <td>0.073529</td>\n",
       "      <td>0.047619</td>\n",
       "      <td>0.0</td>\n",
       "      <td>0.0</td>\n",
       "      <td>0.064516</td>\n",
       "      <td>0.107143</td>\n",
       "      <td>0.049505</td>\n",
       "      <td>0.072464</td>\n",
       "    </tr>\n",
       "    <tr>\n",
       "      <th>1</th>\n",
       "      <td>Coat_of_Arms_of_Germany_0bb4</td>\n",
       "      <td>0.102041</td>\n",
       "      <td>1.000000</td>\n",
       "      <td>0.189189</td>\n",
       "      <td>0.077220</td>\n",
       "      <td>0.082803</td>\n",
       "      <td>0.064516</td>\n",
       "      <td>0.080808</td>\n",
       "      <td>0.068376</td>\n",
       "      <td>0.101190</td>\n",
       "      <td>...</td>\n",
       "      <td>0.098266</td>\n",
       "      <td>0.084337</td>\n",
       "      <td>0.090000</td>\n",
       "      <td>0.038961</td>\n",
       "      <td>0.0</td>\n",
       "      <td>0.0</td>\n",
       "      <td>0.092391</td>\n",
       "      <td>0.118881</td>\n",
       "      <td>0.092308</td>\n",
       "      <td>0.101796</td>\n",
       "    </tr>\n",
       "    <tr>\n",
       "      <th>2</th>\n",
       "      <td>Flag_of_Germany_0658</td>\n",
       "      <td>0.103448</td>\n",
       "      <td>0.189189</td>\n",
       "      <td>1.000000</td>\n",
       "      <td>0.089796</td>\n",
       "      <td>0.074830</td>\n",
       "      <td>0.115385</td>\n",
       "      <td>0.117647</td>\n",
       "      <td>0.097087</td>\n",
       "      <td>0.081250</td>\n",
       "      <td>...</td>\n",
       "      <td>0.065868</td>\n",
       "      <td>0.114286</td>\n",
       "      <td>0.077778</td>\n",
       "      <td>0.046154</td>\n",
       "      <td>0.0</td>\n",
       "      <td>0.0</td>\n",
       "      <td>0.086207</td>\n",
       "      <td>0.104478</td>\n",
       "      <td>0.074380</td>\n",
       "      <td>0.116883</td>\n",
       "    </tr>\n",
       "    <tr>\n",
       "      <th>3</th>\n",
       "      <td>Das_Lied_der_Deutschen_3057</td>\n",
       "      <td>0.070485</td>\n",
       "      <td>0.077220</td>\n",
       "      <td>0.089796</td>\n",
       "      <td>1.000000</td>\n",
       "      <td>0.101083</td>\n",
       "      <td>0.083333</td>\n",
       "      <td>0.056769</td>\n",
       "      <td>0.074380</td>\n",
       "      <td>0.114983</td>\n",
       "      <td>...</td>\n",
       "      <td>0.105442</td>\n",
       "      <td>0.041667</td>\n",
       "      <td>0.042735</td>\n",
       "      <td>0.023810</td>\n",
       "      <td>0.0</td>\n",
       "      <td>0.0</td>\n",
       "      <td>0.116279</td>\n",
       "      <td>0.104869</td>\n",
       "      <td>0.049242</td>\n",
       "      <td>0.119298</td>\n",
       "    </tr>\n",
       "    <tr>\n",
       "      <th>4</th>\n",
       "      <td>Map</td>\n",
       "      <td>0.089431</td>\n",
       "      <td>0.082803</td>\n",
       "      <td>0.074830</td>\n",
       "      <td>0.101083</td>\n",
       "      <td>1.000000</td>\n",
       "      <td>0.096491</td>\n",
       "      <td>0.081301</td>\n",
       "      <td>0.094203</td>\n",
       "      <td>0.104712</td>\n",
       "      <td>...</td>\n",
       "      <td>0.102041</td>\n",
       "      <td>0.064220</td>\n",
       "      <td>0.062992</td>\n",
       "      <td>0.060000</td>\n",
       "      <td>0.0</td>\n",
       "      <td>0.0</td>\n",
       "      <td>0.107317</td>\n",
       "      <td>0.113772</td>\n",
       "      <td>0.070064</td>\n",
       "      <td>0.082474</td>\n",
       "    </tr>\n",
       "  </tbody>\n",
       "</table>\n",
       "<p>5 rows × 101 columns</p>\n",
       "</div>"
      ],
      "text/plain": [
       "                           name    German  Coat_of_Arms_of_Germany_0bb4  \\\n",
       "0                        German  1.000000                      0.102041   \n",
       "1  Coat_of_Arms_of_Germany_0bb4  0.102041                      1.000000   \n",
       "2          Flag_of_Germany_0658  0.103448                      0.189189   \n",
       "3   Das_Lied_der_Deutschen_3057  0.070485                      0.077220   \n",
       "4                           Map  0.089431                      0.082803   \n",
       "\n",
       "   Flag_of_Germany_0658  Das_Lied_der_Deutschen_3057       Map  \\\n",
       "0              0.103448                     0.070485  0.089431   \n",
       "1              0.189189                     0.077220  0.082803   \n",
       "2              1.000000                     0.089796  0.074830   \n",
       "3              0.089796                     1.000000  0.101083   \n",
       "4              0.074830                     0.101083  1.000000   \n",
       "\n",
       "   National_anthem  Official_language  Square_kilometre  German_language  \\\n",
       "0         0.086207           0.109375          0.112500         0.087591   \n",
       "1         0.064516           0.080808          0.068376         0.101190   \n",
       "2         0.115385           0.117647          0.097087         0.081250   \n",
       "3         0.083333           0.056769          0.074380         0.114983   \n",
       "4         0.096491           0.081301          0.094203         0.104712   \n",
       "\n",
       "           ...                Celt  Middelburg  North_Brabant_49b9  \\\n",
       "0          ...            0.054795    0.125000            0.073529   \n",
       "1          ...            0.098266    0.084337            0.090000   \n",
       "2          ...            0.065868    0.114286            0.077778   \n",
       "3          ...            0.105442    0.041667            0.042735   \n",
       "4          ...            0.102041    0.064220            0.062992   \n",
       "\n",
       "   List_of_Dutch_people_c3ba  September_1  1921  Holocaust   Mongols  \\\n",
       "0                   0.047619          0.0   0.0   0.064516  0.107143   \n",
       "1                   0.038961          0.0   0.0   0.092391  0.118881   \n",
       "2                   0.046154          0.0   0.0   0.086207  0.104478   \n",
       "3                   0.023810          0.0   0.0   0.116279  0.104869   \n",
       "4                   0.060000          0.0   0.0   0.107317  0.113772   \n",
       "\n",
       "   Hard_and_soft_drugs  Oder-Neisse_line_cb8b  \n",
       "0             0.049505               0.072464  \n",
       "1             0.092308               0.101796  \n",
       "2             0.074380               0.116883  \n",
       "3             0.049242               0.119298  \n",
       "4             0.070064               0.082474  \n",
       "\n",
       "[5 rows x 101 columns]"
      ]
     },
     "execution_count": 167,
     "metadata": {},
     "output_type": "execute_result"
    }
   ],
   "source": [
    "df_jac_text.head()"
   ]
  },
  {
   "cell_type": "code",
   "execution_count": 168,
   "metadata": {
    "collapsed": false
   },
   "outputs": [],
   "source": [
    "df2 = df2.head(1000)"
   ]
  },
  {
   "cell_type": "code",
   "execution_count": 169,
   "metadata": {
    "collapsed": false
   },
   "outputs": [],
   "source": [
    "df_jac_links = pd.DataFrame(df2.name)\n",
    "names = df2.name.values\n",
    "for name in names:\n",
    "    helper = df2[df2[\"name\"] == name].out_links.values[0]\n",
    "    df_jac_links[name] = df2.out_links.apply(lambda x: calc_jaccard_simmilarity(set(x), set(helper)))\n",
    "df_jac_links.set_index('name', inplace=True)\n",
    "df_jac_links = df_jac_links.rename_axis(None)\n",
    "df_jac_links = df_jac_links.where(np.triu(np.ones(df_jac_links.shape)).astype(np.bool))\n",
    "\n",
    "df_jac_links = df_jac_links.stack()\n",
    "df_jac_links = df_jac_links.reset_index()\n",
    "df_jac_links.columns= ['Article1', 'Article2', 'JaccardLinks']\n",
    "df_jac_links = df_jac_links.sort_values(by='JaccardLinks', ascending=False)\n",
    "df_jac_links = df_jac_links[df_jac_links.Article1 != df_jac_links.Article2]\n",
    "ranks = pd.Series([i for i in range(1, df_jac_links.shape[0]+1)])\n",
    "df_jac_links['jac_rank_l'] = ranks.values"
   ]
  },
  {
   "cell_type": "code",
   "execution_count": 170,
   "metadata": {
    "collapsed": false
   },
   "outputs": [
    {
     "data": {
      "text/html": [
       "<div>\n",
       "<table border=\"1\" class=\"dataframe\">\n",
       "  <thead>\n",
       "    <tr style=\"text-align: right;\">\n",
       "      <th></th>\n",
       "      <th>Article1</th>\n",
       "      <th>Article2</th>\n",
       "      <th>JaccardLinks</th>\n",
       "      <th>jac_rank_l</th>\n",
       "    </tr>\n",
       "  </thead>\n",
       "  <tbody>\n",
       "    <tr>\n",
       "      <th>222619</th>\n",
       "      <td>Helena,_Montana_857d</td>\n",
       "      <td>Pierre,_South_Dakota_64e8</td>\n",
       "      <td>1.0</td>\n",
       "      <td>1</td>\n",
       "    </tr>\n",
       "    <tr>\n",
       "      <th>223361</th>\n",
       "      <td>Columbia,_South_Carolina_ed95</td>\n",
       "      <td>Providence,_Rhode_Island_49f3</td>\n",
       "      <td>1.0</td>\n",
       "      <td>2</td>\n",
       "    </tr>\n",
       "    <tr>\n",
       "      <th>223367</th>\n",
       "      <td>Columbia,_South_Carolina_ed95</td>\n",
       "      <td>Richmond,_Virginia_2b80</td>\n",
       "      <td>1.0</td>\n",
       "      <td>3</td>\n",
       "    </tr>\n",
       "    <tr>\n",
       "      <th>223368</th>\n",
       "      <td>Columbia,_South_Carolina_ed95</td>\n",
       "      <td>Charleston,_West_Virginia_1570</td>\n",
       "      <td>1.0</td>\n",
       "      <td>4</td>\n",
       "    </tr>\n",
       "    <tr>\n",
       "      <th>224110</th>\n",
       "      <td>Providence,_Rhode_Island_49f3</td>\n",
       "      <td>Richmond,_Virginia_2b80</td>\n",
       "      <td>1.0</td>\n",
       "      <td>5</td>\n",
       "    </tr>\n",
       "  </tbody>\n",
       "</table>\n",
       "</div>"
      ],
      "text/plain": [
       "                             Article1                        Article2  \\\n",
       "222619           Helena,_Montana_857d       Pierre,_South_Dakota_64e8   \n",
       "223361  Columbia,_South_Carolina_ed95   Providence,_Rhode_Island_49f3   \n",
       "223367  Columbia,_South_Carolina_ed95         Richmond,_Virginia_2b80   \n",
       "223368  Columbia,_South_Carolina_ed95  Charleston,_West_Virginia_1570   \n",
       "224110  Providence,_Rhode_Island_49f3         Richmond,_Virginia_2b80   \n",
       "\n",
       "        JaccardLinks  jac_rank_l  \n",
       "222619           1.0           1  \n",
       "223361           1.0           2  \n",
       "223367           1.0           3  \n",
       "223368           1.0           4  \n",
       "224110           1.0           5  "
      ]
     },
     "execution_count": 170,
     "metadata": {},
     "output_type": "execute_result"
    }
   ],
   "source": [
    "df_jac_links.head()"
   ]
  },
  {
   "cell_type": "code",
   "execution_count": 136,
   "metadata": {
    "collapsed": false
   },
   "outputs": [
    {
     "ename": "KeyError",
     "evalue": "'Article1'",
     "output_type": "error",
     "traceback": [
      "\u001b[0;31m---------------------------------------------------------------------------\u001b[0m",
      "\u001b[0;31mKeyError\u001b[0m                                  Traceback (most recent call last)",
      "\u001b[0;32mC:\\Users\\stefa\\Anaconda3\\lib\\site-packages\\pandas\\indexes\\base.py\u001b[0m in \u001b[0;36mget_loc\u001b[0;34m(self, key, method, tolerance)\u001b[0m\n\u001b[1;32m   1944\u001b[0m             \u001b[1;32mtry\u001b[0m\u001b[1;33m:\u001b[0m\u001b[1;33m\u001b[0m\u001b[0m\n\u001b[0;32m-> 1945\u001b[0;31m                 \u001b[1;32mreturn\u001b[0m \u001b[0mself\u001b[0m\u001b[1;33m.\u001b[0m\u001b[0m_engine\u001b[0m\u001b[1;33m.\u001b[0m\u001b[0mget_loc\u001b[0m\u001b[1;33m(\u001b[0m\u001b[0mkey\u001b[0m\u001b[1;33m)\u001b[0m\u001b[1;33m\u001b[0m\u001b[0m\n\u001b[0m\u001b[1;32m   1946\u001b[0m             \u001b[1;32mexcept\u001b[0m \u001b[0mKeyError\u001b[0m\u001b[1;33m:\u001b[0m\u001b[1;33m\u001b[0m\u001b[0m\n",
      "\u001b[0;32mpandas\\index.pyx\u001b[0m in \u001b[0;36mpandas.index.IndexEngine.get_loc (pandas\\index.c:4154)\u001b[0;34m()\u001b[0m\n",
      "\u001b[0;32mpandas\\index.pyx\u001b[0m in \u001b[0;36mpandas.index.IndexEngine.get_loc (pandas\\index.c:4018)\u001b[0;34m()\u001b[0m\n",
      "\u001b[0;32mpandas\\hashtable.pyx\u001b[0m in \u001b[0;36mpandas.hashtable.PyObjectHashTable.get_item (pandas\\hashtable.c:12368)\u001b[0;34m()\u001b[0m\n",
      "\u001b[0;32mpandas\\hashtable.pyx\u001b[0m in \u001b[0;36mpandas.hashtable.PyObjectHashTable.get_item (pandas\\hashtable.c:12322)\u001b[0;34m()\u001b[0m\n",
      "\u001b[0;31mKeyError\u001b[0m: 'Article1'",
      "\nDuring handling of the above exception, another exception occurred:\n",
      "\u001b[0;31mKeyError\u001b[0m                                  Traceback (most recent call last)",
      "\u001b[0;32m<ipython-input-136-c8f3b9f78b62>\u001b[0m in \u001b[0;36m<module>\u001b[0;34m()\u001b[0m\n\u001b[0;32m----> 1\u001b[0;31m \u001b[0mdf_sim\u001b[0m \u001b[1;33m=\u001b[0m \u001b[0mpd\u001b[0m\u001b[1;33m.\u001b[0m\u001b[0mmerge\u001b[0m\u001b[1;33m(\u001b[0m\u001b[0mdf_cos_text\u001b[0m\u001b[1;33m,\u001b[0m \u001b[0mdf_jac_text\u001b[0m\u001b[1;33m,\u001b[0m \u001b[0mon\u001b[0m\u001b[1;33m=\u001b[0m\u001b[1;33m[\u001b[0m\u001b[1;34m'Article1'\u001b[0m\u001b[1;33m,\u001b[0m \u001b[1;34m'Article2'\u001b[0m\u001b[1;33m]\u001b[0m\u001b[1;33m)\u001b[0m\u001b[1;33m\u001b[0m\u001b[0m\n\u001b[0m\u001b[1;32m      2\u001b[0m \u001b[0mdf_sim\u001b[0m \u001b[1;33m=\u001b[0m \u001b[0mpd\u001b[0m\u001b[1;33m.\u001b[0m\u001b[0mmerge\u001b[0m\u001b[1;33m(\u001b[0m\u001b[0mdf_sim\u001b[0m\u001b[1;33m,\u001b[0m \u001b[0mdf_jac_links\u001b[0m\u001b[1;33m,\u001b[0m \u001b[0mon\u001b[0m\u001b[1;33m=\u001b[0m\u001b[1;33m[\u001b[0m\u001b[1;34m'Article1'\u001b[0m\u001b[1;33m,\u001b[0m \u001b[1;34m'Article2'\u001b[0m\u001b[1;33m]\u001b[0m\u001b[1;33m)\u001b[0m\u001b[1;33m\u001b[0m\u001b[0m\n",
      "\u001b[0;32mC:\\Users\\stefa\\Anaconda3\\lib\\site-packages\\pandas\\tools\\merge.py\u001b[0m in \u001b[0;36mmerge\u001b[0;34m(left, right, how, on, left_on, right_on, left_index, right_index, sort, suffixes, copy, indicator)\u001b[0m\n\u001b[1;32m     36\u001b[0m                          \u001b[0mright_on\u001b[0m\u001b[1;33m=\u001b[0m\u001b[0mright_on\u001b[0m\u001b[1;33m,\u001b[0m \u001b[0mleft_index\u001b[0m\u001b[1;33m=\u001b[0m\u001b[0mleft_index\u001b[0m\u001b[1;33m,\u001b[0m\u001b[1;33m\u001b[0m\u001b[0m\n\u001b[1;32m     37\u001b[0m                          \u001b[0mright_index\u001b[0m\u001b[1;33m=\u001b[0m\u001b[0mright_index\u001b[0m\u001b[1;33m,\u001b[0m \u001b[0msort\u001b[0m\u001b[1;33m=\u001b[0m\u001b[0msort\u001b[0m\u001b[1;33m,\u001b[0m \u001b[0msuffixes\u001b[0m\u001b[1;33m=\u001b[0m\u001b[0msuffixes\u001b[0m\u001b[1;33m,\u001b[0m\u001b[1;33m\u001b[0m\u001b[0m\n\u001b[0;32m---> 38\u001b[0;31m                          copy=copy, indicator=indicator)\n\u001b[0m\u001b[1;32m     39\u001b[0m     \u001b[1;32mreturn\u001b[0m \u001b[0mop\u001b[0m\u001b[1;33m.\u001b[0m\u001b[0mget_result\u001b[0m\u001b[1;33m(\u001b[0m\u001b[1;33m)\u001b[0m\u001b[1;33m\u001b[0m\u001b[0m\n\u001b[1;32m     40\u001b[0m \u001b[1;32mif\u001b[0m \u001b[0m__debug__\u001b[0m\u001b[1;33m:\u001b[0m\u001b[1;33m\u001b[0m\u001b[0m\n",
      "\u001b[0;32mC:\\Users\\stefa\\Anaconda3\\lib\\site-packages\\pandas\\tools\\merge.py\u001b[0m in \u001b[0;36m__init__\u001b[0;34m(self, left, right, how, on, left_on, right_on, axis, left_index, right_index, sort, suffixes, copy, indicator)\u001b[0m\n\u001b[1;32m    208\u001b[0m         (self.left_join_keys,\n\u001b[1;32m    209\u001b[0m          \u001b[0mself\u001b[0m\u001b[1;33m.\u001b[0m\u001b[0mright_join_keys\u001b[0m\u001b[1;33m,\u001b[0m\u001b[1;33m\u001b[0m\u001b[0m\n\u001b[0;32m--> 210\u001b[0;31m          self.join_names) = self._get_merge_keys()\n\u001b[0m\u001b[1;32m    211\u001b[0m \u001b[1;33m\u001b[0m\u001b[0m\n\u001b[1;32m    212\u001b[0m     \u001b[1;32mdef\u001b[0m \u001b[0mget_result\u001b[0m\u001b[1;33m(\u001b[0m\u001b[0mself\u001b[0m\u001b[1;33m)\u001b[0m\u001b[1;33m:\u001b[0m\u001b[1;33m\u001b[0m\u001b[0m\n",
      "\u001b[0;32mC:\\Users\\stefa\\Anaconda3\\lib\\site-packages\\pandas\\tools\\merge.py\u001b[0m in \u001b[0;36m_get_merge_keys\u001b[0;34m(self)\u001b[0m\n\u001b[1;32m    432\u001b[0m                 \u001b[1;32melse\u001b[0m\u001b[1;33m:\u001b[0m\u001b[1;33m\u001b[0m\u001b[0m\n\u001b[1;32m    433\u001b[0m                     \u001b[1;32mif\u001b[0m \u001b[1;32mnot\u001b[0m \u001b[0mis_rkey\u001b[0m\u001b[1;33m(\u001b[0m\u001b[0mrk\u001b[0m\u001b[1;33m)\u001b[0m\u001b[1;33m:\u001b[0m\u001b[1;33m\u001b[0m\u001b[0m\n\u001b[0;32m--> 434\u001b[0;31m                         \u001b[0mright_keys\u001b[0m\u001b[1;33m.\u001b[0m\u001b[0mappend\u001b[0m\u001b[1;33m(\u001b[0m\u001b[0mright\u001b[0m\u001b[1;33m[\u001b[0m\u001b[0mrk\u001b[0m\u001b[1;33m]\u001b[0m\u001b[1;33m.\u001b[0m\u001b[0m_values\u001b[0m\u001b[1;33m)\u001b[0m\u001b[1;33m\u001b[0m\u001b[0m\n\u001b[0m\u001b[1;32m    435\u001b[0m                         \u001b[1;32mif\u001b[0m \u001b[0mlk\u001b[0m \u001b[1;33m==\u001b[0m \u001b[0mrk\u001b[0m\u001b[1;33m:\u001b[0m\u001b[1;33m\u001b[0m\u001b[0m\n\u001b[1;32m    436\u001b[0m                             \u001b[1;31m# avoid key upcast in corner case (length-0)\u001b[0m\u001b[1;33m\u001b[0m\u001b[1;33m\u001b[0m\u001b[0m\n",
      "\u001b[0;32mC:\\Users\\stefa\\Anaconda3\\lib\\site-packages\\pandas\\core\\frame.py\u001b[0m in \u001b[0;36m__getitem__\u001b[0;34m(self, key)\u001b[0m\n\u001b[1;32m   1995\u001b[0m             \u001b[1;32mreturn\u001b[0m \u001b[0mself\u001b[0m\u001b[1;33m.\u001b[0m\u001b[0m_getitem_multilevel\u001b[0m\u001b[1;33m(\u001b[0m\u001b[0mkey\u001b[0m\u001b[1;33m)\u001b[0m\u001b[1;33m\u001b[0m\u001b[0m\n\u001b[1;32m   1996\u001b[0m         \u001b[1;32melse\u001b[0m\u001b[1;33m:\u001b[0m\u001b[1;33m\u001b[0m\u001b[0m\n\u001b[0;32m-> 1997\u001b[0;31m             \u001b[1;32mreturn\u001b[0m \u001b[0mself\u001b[0m\u001b[1;33m.\u001b[0m\u001b[0m_getitem_column\u001b[0m\u001b[1;33m(\u001b[0m\u001b[0mkey\u001b[0m\u001b[1;33m)\u001b[0m\u001b[1;33m\u001b[0m\u001b[0m\n\u001b[0m\u001b[1;32m   1998\u001b[0m \u001b[1;33m\u001b[0m\u001b[0m\n\u001b[1;32m   1999\u001b[0m     \u001b[1;32mdef\u001b[0m \u001b[0m_getitem_column\u001b[0m\u001b[1;33m(\u001b[0m\u001b[0mself\u001b[0m\u001b[1;33m,\u001b[0m \u001b[0mkey\u001b[0m\u001b[1;33m)\u001b[0m\u001b[1;33m:\u001b[0m\u001b[1;33m\u001b[0m\u001b[0m\n",
      "\u001b[0;32mC:\\Users\\stefa\\Anaconda3\\lib\\site-packages\\pandas\\core\\frame.py\u001b[0m in \u001b[0;36m_getitem_column\u001b[0;34m(self, key)\u001b[0m\n\u001b[1;32m   2002\u001b[0m         \u001b[1;31m# get column\u001b[0m\u001b[1;33m\u001b[0m\u001b[1;33m\u001b[0m\u001b[0m\n\u001b[1;32m   2003\u001b[0m         \u001b[1;32mif\u001b[0m \u001b[0mself\u001b[0m\u001b[1;33m.\u001b[0m\u001b[0mcolumns\u001b[0m\u001b[1;33m.\u001b[0m\u001b[0mis_unique\u001b[0m\u001b[1;33m:\u001b[0m\u001b[1;33m\u001b[0m\u001b[0m\n\u001b[0;32m-> 2004\u001b[0;31m             \u001b[1;32mreturn\u001b[0m \u001b[0mself\u001b[0m\u001b[1;33m.\u001b[0m\u001b[0m_get_item_cache\u001b[0m\u001b[1;33m(\u001b[0m\u001b[0mkey\u001b[0m\u001b[1;33m)\u001b[0m\u001b[1;33m\u001b[0m\u001b[0m\n\u001b[0m\u001b[1;32m   2005\u001b[0m \u001b[1;33m\u001b[0m\u001b[0m\n\u001b[1;32m   2006\u001b[0m         \u001b[1;31m# duplicate columns & possible reduce dimensionality\u001b[0m\u001b[1;33m\u001b[0m\u001b[1;33m\u001b[0m\u001b[0m\n",
      "\u001b[0;32mC:\\Users\\stefa\\Anaconda3\\lib\\site-packages\\pandas\\core\\generic.py\u001b[0m in \u001b[0;36m_get_item_cache\u001b[0;34m(self, item)\u001b[0m\n\u001b[1;32m   1348\u001b[0m         \u001b[0mres\u001b[0m \u001b[1;33m=\u001b[0m \u001b[0mcache\u001b[0m\u001b[1;33m.\u001b[0m\u001b[0mget\u001b[0m\u001b[1;33m(\u001b[0m\u001b[0mitem\u001b[0m\u001b[1;33m)\u001b[0m\u001b[1;33m\u001b[0m\u001b[0m\n\u001b[1;32m   1349\u001b[0m         \u001b[1;32mif\u001b[0m \u001b[0mres\u001b[0m \u001b[1;32mis\u001b[0m \u001b[1;32mNone\u001b[0m\u001b[1;33m:\u001b[0m\u001b[1;33m\u001b[0m\u001b[0m\n\u001b[0;32m-> 1350\u001b[0;31m             \u001b[0mvalues\u001b[0m \u001b[1;33m=\u001b[0m \u001b[0mself\u001b[0m\u001b[1;33m.\u001b[0m\u001b[0m_data\u001b[0m\u001b[1;33m.\u001b[0m\u001b[0mget\u001b[0m\u001b[1;33m(\u001b[0m\u001b[0mitem\u001b[0m\u001b[1;33m)\u001b[0m\u001b[1;33m\u001b[0m\u001b[0m\n\u001b[0m\u001b[1;32m   1351\u001b[0m             \u001b[0mres\u001b[0m \u001b[1;33m=\u001b[0m \u001b[0mself\u001b[0m\u001b[1;33m.\u001b[0m\u001b[0m_box_item_values\u001b[0m\u001b[1;33m(\u001b[0m\u001b[0mitem\u001b[0m\u001b[1;33m,\u001b[0m \u001b[0mvalues\u001b[0m\u001b[1;33m)\u001b[0m\u001b[1;33m\u001b[0m\u001b[0m\n\u001b[1;32m   1352\u001b[0m             \u001b[0mcache\u001b[0m\u001b[1;33m[\u001b[0m\u001b[0mitem\u001b[0m\u001b[1;33m]\u001b[0m \u001b[1;33m=\u001b[0m \u001b[0mres\u001b[0m\u001b[1;33m\u001b[0m\u001b[0m\n",
      "\u001b[0;32mC:\\Users\\stefa\\Anaconda3\\lib\\site-packages\\pandas\\core\\internals.py\u001b[0m in \u001b[0;36mget\u001b[0;34m(self, item, fastpath)\u001b[0m\n\u001b[1;32m   3288\u001b[0m \u001b[1;33m\u001b[0m\u001b[0m\n\u001b[1;32m   3289\u001b[0m             \u001b[1;32mif\u001b[0m \u001b[1;32mnot\u001b[0m \u001b[0misnull\u001b[0m\u001b[1;33m(\u001b[0m\u001b[0mitem\u001b[0m\u001b[1;33m)\u001b[0m\u001b[1;33m:\u001b[0m\u001b[1;33m\u001b[0m\u001b[0m\n\u001b[0;32m-> 3290\u001b[0;31m                 \u001b[0mloc\u001b[0m \u001b[1;33m=\u001b[0m \u001b[0mself\u001b[0m\u001b[1;33m.\u001b[0m\u001b[0mitems\u001b[0m\u001b[1;33m.\u001b[0m\u001b[0mget_loc\u001b[0m\u001b[1;33m(\u001b[0m\u001b[0mitem\u001b[0m\u001b[1;33m)\u001b[0m\u001b[1;33m\u001b[0m\u001b[0m\n\u001b[0m\u001b[1;32m   3291\u001b[0m             \u001b[1;32melse\u001b[0m\u001b[1;33m:\u001b[0m\u001b[1;33m\u001b[0m\u001b[0m\n\u001b[1;32m   3292\u001b[0m                 \u001b[0mindexer\u001b[0m \u001b[1;33m=\u001b[0m \u001b[0mnp\u001b[0m\u001b[1;33m.\u001b[0m\u001b[0marange\u001b[0m\u001b[1;33m(\u001b[0m\u001b[0mlen\u001b[0m\u001b[1;33m(\u001b[0m\u001b[0mself\u001b[0m\u001b[1;33m.\u001b[0m\u001b[0mitems\u001b[0m\u001b[1;33m)\u001b[0m\u001b[1;33m)\u001b[0m\u001b[1;33m[\u001b[0m\u001b[0misnull\u001b[0m\u001b[1;33m(\u001b[0m\u001b[0mself\u001b[0m\u001b[1;33m.\u001b[0m\u001b[0mitems\u001b[0m\u001b[1;33m)\u001b[0m\u001b[1;33m]\u001b[0m\u001b[1;33m\u001b[0m\u001b[0m\n",
      "\u001b[0;32mC:\\Users\\stefa\\Anaconda3\\lib\\site-packages\\pandas\\indexes\\base.py\u001b[0m in \u001b[0;36mget_loc\u001b[0;34m(self, key, method, tolerance)\u001b[0m\n\u001b[1;32m   1945\u001b[0m                 \u001b[1;32mreturn\u001b[0m \u001b[0mself\u001b[0m\u001b[1;33m.\u001b[0m\u001b[0m_engine\u001b[0m\u001b[1;33m.\u001b[0m\u001b[0mget_loc\u001b[0m\u001b[1;33m(\u001b[0m\u001b[0mkey\u001b[0m\u001b[1;33m)\u001b[0m\u001b[1;33m\u001b[0m\u001b[0m\n\u001b[1;32m   1946\u001b[0m             \u001b[1;32mexcept\u001b[0m \u001b[0mKeyError\u001b[0m\u001b[1;33m:\u001b[0m\u001b[1;33m\u001b[0m\u001b[0m\n\u001b[0;32m-> 1947\u001b[0;31m                 \u001b[1;32mreturn\u001b[0m \u001b[0mself\u001b[0m\u001b[1;33m.\u001b[0m\u001b[0m_engine\u001b[0m\u001b[1;33m.\u001b[0m\u001b[0mget_loc\u001b[0m\u001b[1;33m(\u001b[0m\u001b[0mself\u001b[0m\u001b[1;33m.\u001b[0m\u001b[0m_maybe_cast_indexer\u001b[0m\u001b[1;33m(\u001b[0m\u001b[0mkey\u001b[0m\u001b[1;33m)\u001b[0m\u001b[1;33m)\u001b[0m\u001b[1;33m\u001b[0m\u001b[0m\n\u001b[0m\u001b[1;32m   1948\u001b[0m \u001b[1;33m\u001b[0m\u001b[0m\n\u001b[1;32m   1949\u001b[0m         \u001b[0mindexer\u001b[0m \u001b[1;33m=\u001b[0m \u001b[0mself\u001b[0m\u001b[1;33m.\u001b[0m\u001b[0mget_indexer\u001b[0m\u001b[1;33m(\u001b[0m\u001b[1;33m[\u001b[0m\u001b[0mkey\u001b[0m\u001b[1;33m]\u001b[0m\u001b[1;33m,\u001b[0m \u001b[0mmethod\u001b[0m\u001b[1;33m=\u001b[0m\u001b[0mmethod\u001b[0m\u001b[1;33m,\u001b[0m \u001b[0mtolerance\u001b[0m\u001b[1;33m=\u001b[0m\u001b[0mtolerance\u001b[0m\u001b[1;33m)\u001b[0m\u001b[1;33m\u001b[0m\u001b[0m\n",
      "\u001b[0;32mpandas\\index.pyx\u001b[0m in \u001b[0;36mpandas.index.IndexEngine.get_loc (pandas\\index.c:4154)\u001b[0;34m()\u001b[0m\n",
      "\u001b[0;32mpandas\\index.pyx\u001b[0m in \u001b[0;36mpandas.index.IndexEngine.get_loc (pandas\\index.c:4018)\u001b[0;34m()\u001b[0m\n",
      "\u001b[0;32mpandas\\hashtable.pyx\u001b[0m in \u001b[0;36mpandas.hashtable.PyObjectHashTable.get_item (pandas\\hashtable.c:12368)\u001b[0;34m()\u001b[0m\n",
      "\u001b[0;32mpandas\\hashtable.pyx\u001b[0m in \u001b[0;36mpandas.hashtable.PyObjectHashTable.get_item (pandas\\hashtable.c:12322)\u001b[0;34m()\u001b[0m\n",
      "\u001b[0;31mKeyError\u001b[0m: 'Article1'"
     ]
    }
   ],
   "source": [
    "df_sim = pd.merge(df_cos_text, df_jac_text, on=['Article1', 'Article2'])\n",
    "df_sim = pd.merge(df_sim, df_jac_links, on=['Article1', 'Article2'])"
   ]
  },
  {
   "cell_type": "code",
   "execution_count": null,
   "metadata": {
    "collapsed": false
   },
   "outputs": [],
   "source": [
    "df_sim.sort_values(by=\"CosineText\", ascending=False).head(15)"
   ]
  },
  {
   "cell_type": "code",
   "execution_count": null,
   "metadata": {
    "collapsed": true
   },
   "outputs": [],
   "source": [
    "df_sim['diff'] = np.square(df_sim['cos_rank'] - df_sim['jac_rank'])\n",
    "df_sim['diff1'] = np.square(df_sim['cos_rank'] - df_sim['jac_rank_l'])\n",
    "df_sim['diff2'] = np.square(df_sim['jac_rank'] - df_sim['jac_rank_l'])"
   ]
  },
  {
   "cell_type": "code",
   "execution_count": null,
   "metadata": {
    "collapsed": false
   },
   "outputs": [],
   "source": [
    "df_sim.head()"
   ]
  },
  {
   "cell_type": "code",
   "execution_count": null,
   "metadata": {
    "collapsed": false
   },
   "outputs": [],
   "source": [
    "sum(df_sim['diff'])"
   ]
  },
  {
   "cell_type": "code",
   "execution_count": null,
   "metadata": {
    "collapsed": false
   },
   "outputs": [],
   "source": [
    "sum(df_sim['diff1'])"
   ]
  },
  {
   "cell_type": "code",
   "execution_count": null,
   "metadata": {
    "collapsed": false
   },
   "outputs": [],
   "source": [
    "sum(df_sim['diff2'])"
   ]
  },
  {
   "cell_type": "code",
   "execution_count": null,
   "metadata": {
    "collapsed": false
   },
   "outputs": [],
   "source": [
    "def rho(diff_column, n): \n",
    "    return 1 - (6*sum(diff_column))/(n*(n**2 -1))"
   ]
  },
  {
   "cell_type": "code",
   "execution_count": null,
   "metadata": {
    "collapsed": false
   },
   "outputs": [],
   "source": [
    "# cos and jaccard\n",
    "rho(df_sim['diff'], df_sim.shape[0]) "
   ]
  },
  {
   "cell_type": "code",
   "execution_count": null,
   "metadata": {
    "collapsed": false
   },
   "outputs": [],
   "source": [
    "# cos and jaccard_links\n",
    "rho(df_sim['diff1'], df_sim.shape[0])"
   ]
  },
  {
   "cell_type": "code",
   "execution_count": null,
   "metadata": {
    "collapsed": false
   },
   "outputs": [],
   "source": [
    "# jaccard and jaccard_links\n",
    "rho(df_sim['diff2'], df_sim.shape[0])"
   ]
  },
  {
   "cell_type": "code",
   "execution_count": null,
   "metadata": {
    "collapsed": false
   },
   "outputs": [],
   "source": [
    "np.square(27493)"
   ]
  },
  {
   "cell_type": "code",
   "execution_count": null,
   "metadata": {
    "collapsed": false
   },
   "outputs": [],
   "source": [
    "rows = 27493\n",
    "rows**2"
   ]
  },
  {
   "cell_type": "code",
   "execution_count": null,
   "metadata": {
    "collapsed": true
   },
   "outputs": [],
   "source": []
  }
 ],
 "metadata": {
  "anaconda-cloud": {},
  "kernelspec": {
   "display_name": "Python [conda root]",
   "language": "python",
   "name": "conda-root-py"
  },
  "language_info": {
   "codemirror_mode": {
    "name": "ipython",
    "version": 3
   },
   "file_extension": ".py",
   "mimetype": "text/x-python",
   "name": "python",
   "nbconvert_exporter": "python",
   "pygments_lexer": "ipython3",
   "version": "3.5.2"
  }
 },
 "nbformat": 4,
 "nbformat_minor": 1
}
