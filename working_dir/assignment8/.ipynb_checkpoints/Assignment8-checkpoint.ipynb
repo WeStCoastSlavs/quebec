{
 "cells": [
  {
   "cell_type": "code",
   "execution_count": 1,
   "metadata": {
    "collapsed": false
   },
   "outputs": [],
   "source": [
    "import pandas as pd\n",
    "import numpy as np\n",
    "df1 = pd.read_csv('df1.csv', encoding='utf-8', index_col=0, header=0)\n",
    "df2 = pd.read_csv('df2.csv', encoding='utf-8', index_col=0, header=0)"
   ]
  },
  {
   "cell_type": "code",
   "execution_count": 2,
   "metadata": {
    "collapsed": false
   },
   "outputs": [],
   "source": [
    "df1 = df1.merge(df2, on=\"name\")\n",
    "df1 = df1.drop_duplicates(subset=['name'])\n",
    "df1.dropna(inplace=True, how=\"any\")\n",
    "# Use this row to sample random 100 articles!\n",
    "# df1 = df1.sample(100)\n",
    "df2 = df1[['name', 'out_links']]\n",
    "# df2 = df2.drop_duplicates(subset=['name'])"
   ]
  },
  {
   "cell_type": "code",
   "execution_count": 3,
   "metadata": {
    "collapsed": false
   },
   "outputs": [
    {
     "data": {
      "text/html": [
       "<div>\n",
       "<table border=\"1\" class=\"dataframe\">\n",
       "  <thead>\n",
       "    <tr style=\"text-align: right;\">\n",
       "      <th></th>\n",
       "      <th>name</th>\n",
       "      <th>text</th>\n",
       "      <th>out_links</th>\n",
       "    </tr>\n",
       "  </thead>\n",
       "  <tbody>\n",
       "    <tr>\n",
       "      <th>21246</th>\n",
       "      <td>Archaea</td>\n",
       "      <td>The **Archaea** (AmE [ɑɹˈkiə], BrE [ɑːˈkiːə]; ...</td>\n",
       "      <td>[Wikispecies, Organism, Salt, Acid, Alkaline, ...</td>\n",
       "    </tr>\n",
       "    <tr>\n",
       "      <th>14398</th>\n",
       "      <td>Pewter_City_Gym_d674</td>\n",
       "      <td>**Pewter City Gym** is a gym in the Pokémon TV...</td>\n",
       "      <td>[Pokémon, Brock, Video_game, Pewter_City_Gym_d...</td>\n",
       "    </tr>\n",
       "    <tr>\n",
       "      <th>14317</th>\n",
       "      <td>Charmeleon</td>\n",
       "      <td>**Charmeleon** is a character in the anime and...</td>\n",
       "      <td>[List_of_Pokémon_b11d, Pokémon, Evolution, Cha...</td>\n",
       "    </tr>\n",
       "    <tr>\n",
       "      <th>10130</th>\n",
       "      <td>Sportscar</td>\n",
       "      <td>A **sportscar** is a small, fast, quick-turnin...</td>\n",
       "      <td>[Car, Sportscar]</td>\n",
       "    </tr>\n",
       "    <tr>\n",
       "      <th>18856</th>\n",
       "      <td>Gr%C3%BCnwald,_Bavaria_dbfc</td>\n",
       "      <td>**Grünwald** is a municipality in the Munich R...</td>\n",
       "      <td>[List_of_countries, States_of_Germany_65c0, Ba...</td>\n",
       "    </tr>\n",
       "  </tbody>\n",
       "</table>\n",
       "</div>"
      ],
      "text/plain": [
       "                              name  \\\n",
       "21246                      Archaea   \n",
       "14398         Pewter_City_Gym_d674   \n",
       "14317                   Charmeleon   \n",
       "10130                    Sportscar   \n",
       "18856  Gr%C3%BCnwald,_Bavaria_dbfc   \n",
       "\n",
       "                                                    text  \\\n",
       "21246  The **Archaea** (AmE [ɑɹˈkiə], BrE [ɑːˈkiːə]; ...   \n",
       "14398  **Pewter City Gym** is a gym in the Pokémon TV...   \n",
       "14317  **Charmeleon** is a character in the anime and...   \n",
       "10130  A **sportscar** is a small, fast, quick-turnin...   \n",
       "18856  **Grünwald** is a municipality in the Munich R...   \n",
       "\n",
       "                                               out_links  \n",
       "21246  [Wikispecies, Organism, Salt, Acid, Alkaline, ...  \n",
       "14398  [Pokémon, Brock, Video_game, Pewter_City_Gym_d...  \n",
       "14317  [List_of_Pokémon_b11d, Pokémon, Evolution, Cha...  \n",
       "10130                                   [Car, Sportscar]  \n",
       "18856  [List_of_countries, States_of_Germany_65c0, Ba...  "
      ]
     },
     "execution_count": 3,
     "metadata": {},
     "output_type": "execute_result"
    }
   ],
   "source": [
    "df1.head()"
   ]
  },
  {
   "cell_type": "code",
   "execution_count": 4,
   "metadata": {
    "collapsed": false
   },
   "outputs": [
    {
     "data": {
      "text/html": [
       "<div>\n",
       "<table border=\"1\" class=\"dataframe\">\n",
       "  <thead>\n",
       "    <tr style=\"text-align: right;\">\n",
       "      <th></th>\n",
       "      <th>name</th>\n",
       "      <th>out_links</th>\n",
       "    </tr>\n",
       "  </thead>\n",
       "  <tbody>\n",
       "    <tr>\n",
       "      <th>21246</th>\n",
       "      <td>Archaea</td>\n",
       "      <td>[Wikispecies, Organism, Salt, Acid, Alkaline, ...</td>\n",
       "    </tr>\n",
       "    <tr>\n",
       "      <th>14398</th>\n",
       "      <td>Pewter_City_Gym_d674</td>\n",
       "      <td>[Pokémon, Brock, Video_game, Pewter_City_Gym_d...</td>\n",
       "    </tr>\n",
       "    <tr>\n",
       "      <th>14317</th>\n",
       "      <td>Charmeleon</td>\n",
       "      <td>[List_of_Pokémon_b11d, Pokémon, Evolution, Cha...</td>\n",
       "    </tr>\n",
       "    <tr>\n",
       "      <th>10130</th>\n",
       "      <td>Sportscar</td>\n",
       "      <td>[Car, Sportscar]</td>\n",
       "    </tr>\n",
       "    <tr>\n",
       "      <th>18856</th>\n",
       "      <td>Gr%C3%BCnwald,_Bavaria_dbfc</td>\n",
       "      <td>[List_of_countries, States_of_Germany_65c0, Ba...</td>\n",
       "    </tr>\n",
       "  </tbody>\n",
       "</table>\n",
       "</div>"
      ],
      "text/plain": [
       "                              name  \\\n",
       "21246                      Archaea   \n",
       "14398         Pewter_City_Gym_d674   \n",
       "14317                   Charmeleon   \n",
       "10130                    Sportscar   \n",
       "18856  Gr%C3%BCnwald,_Bavaria_dbfc   \n",
       "\n",
       "                                               out_links  \n",
       "21246  [Wikispecies, Organism, Salt, Acid, Alkaline, ...  \n",
       "14398  [Pokémon, Brock, Video_game, Pewter_City_Gym_d...  \n",
       "14317  [List_of_Pokémon_b11d, Pokémon, Evolution, Cha...  \n",
       "10130                                   [Car, Sportscar]  \n",
       "18856  [List_of_countries, States_of_Germany_65c0, Ba...  "
      ]
     },
     "execution_count": 4,
     "metadata": {},
     "output_type": "execute_result"
    }
   ],
   "source": [
    "df2.head()"
   ]
  },
  {
   "cell_type": "code",
   "execution_count": 5,
   "metadata": {
    "collapsed": false
   },
   "outputs": [
    {
     "data": {
      "text/plain": [
       "(100, 3)"
      ]
     },
     "execution_count": 5,
     "metadata": {},
     "output_type": "execute_result"
    }
   ],
   "source": [
    "df1.shape"
   ]
  },
  {
   "cell_type": "code",
   "execution_count": 6,
   "metadata": {
    "collapsed": false
   },
   "outputs": [],
   "source": [
    "import re \n",
    "df1[\"words\"] = df1.text.apply(lambda x: set(re.findall(\"\\w+\",str(x))))\n",
    "df1[\"word_list\"] = df1.text.apply(lambda x: re.findall(\"\\w+\",str(x)))"
   ]
  },
  {
   "cell_type": "code",
   "execution_count": 7,
   "metadata": {
    "collapsed": false,
    "scrolled": true
   },
   "outputs": [
    {
     "data": {
      "text/html": [
       "<div>\n",
       "<table border=\"1\" class=\"dataframe\">\n",
       "  <thead>\n",
       "    <tr style=\"text-align: right;\">\n",
       "      <th></th>\n",
       "      <th>name</th>\n",
       "      <th>text</th>\n",
       "      <th>out_links</th>\n",
       "      <th>words</th>\n",
       "      <th>word_list</th>\n",
       "    </tr>\n",
       "  </thead>\n",
       "  <tbody>\n",
       "    <tr>\n",
       "      <th>21246</th>\n",
       "      <td>Archaea</td>\n",
       "      <td>The **Archaea** (AmE [ɑɹˈkiə], BrE [ɑːˈkiːə]; ...</td>\n",
       "      <td>[Wikispecies, Organism, Salt, Acid, Alkaline, ...</td>\n",
       "      <td>{The, also, Achaea, salty, in, survive, geyser...</td>\n",
       "      <td>[The, Archaea, AmE, ɑɹˈkiə, BrE, ɑːˈkiːə, from...</td>\n",
       "    </tr>\n",
       "    <tr>\n",
       "      <th>14398</th>\n",
       "      <td>Pewter_City_Gym_d674</td>\n",
       "      <td>**Pewter City Gym** is a gym in the Pokémon TV...</td>\n",
       "      <td>[Pokémon, Brock, Video_game, Pewter_City_Gym_d...</td>\n",
       "      <td>{Brock, rock, The, here, in, TV, and, the, is,...</td>\n",
       "      <td>[Pewter, City, Gym, is, a, gym, in, the, Pokém...</td>\n",
       "    </tr>\n",
       "    <tr>\n",
       "      <th>14317</th>\n",
       "      <td>Charmeleon</td>\n",
       "      <td>**Charmeleon** is a character in the anime and...</td>\n",
       "      <td>[List_of_Pokémon_b11d, Pokémon, Evolution, Cha...</td>\n",
       "      <td>{fire, to, lizards, considered, in, character,...</td>\n",
       "      <td>[Charmeleon, is, a, character, in, the, anime,...</td>\n",
       "    </tr>\n",
       "    <tr>\n",
       "      <th>10130</th>\n",
       "      <td>Sportscar</td>\n",
       "      <td>A **sportscar** is a small, fast, quick-turnin...</td>\n",
       "      <td>[Car, Sportscar]</td>\n",
       "      <td>{An, of, sportscar, turning, A, quick, fast, s...</td>\n",
       "      <td>[A, sportscar, is, a, small, fast, quick, turn...</td>\n",
       "    </tr>\n",
       "    <tr>\n",
       "      <th>18856</th>\n",
       "      <td>Gr%C3%BCnwald,_Bavaria_dbfc</td>\n",
       "      <td>**Grünwald** is a municipality in the Munich R...</td>\n",
       "      <td>[List_of_countries, States_of_Germany_65c0, Ba...</td>\n",
       "      <td>{Grünwald, Upper, The, municipality, Studios, ...</td>\n",
       "      <td>[Grünwald, is, a, municipality, in, the, Munic...</td>\n",
       "    </tr>\n",
       "  </tbody>\n",
       "</table>\n",
       "</div>"
      ],
      "text/plain": [
       "                              name  \\\n",
       "21246                      Archaea   \n",
       "14398         Pewter_City_Gym_d674   \n",
       "14317                   Charmeleon   \n",
       "10130                    Sportscar   \n",
       "18856  Gr%C3%BCnwald,_Bavaria_dbfc   \n",
       "\n",
       "                                                    text  \\\n",
       "21246  The **Archaea** (AmE [ɑɹˈkiə], BrE [ɑːˈkiːə]; ...   \n",
       "14398  **Pewter City Gym** is a gym in the Pokémon TV...   \n",
       "14317  **Charmeleon** is a character in the anime and...   \n",
       "10130  A **sportscar** is a small, fast, quick-turnin...   \n",
       "18856  **Grünwald** is a municipality in the Munich R...   \n",
       "\n",
       "                                               out_links  \\\n",
       "21246  [Wikispecies, Organism, Salt, Acid, Alkaline, ...   \n",
       "14398  [Pokémon, Brock, Video_game, Pewter_City_Gym_d...   \n",
       "14317  [List_of_Pokémon_b11d, Pokémon, Evolution, Cha...   \n",
       "10130                                   [Car, Sportscar]   \n",
       "18856  [List_of_countries, States_of_Germany_65c0, Ba...   \n",
       "\n",
       "                                                   words  \\\n",
       "21246  {The, also, Achaea, salty, in, survive, geyser...   \n",
       "14398  {Brock, rock, The, here, in, TV, and, the, is,...   \n",
       "14317  {fire, to, lizards, considered, in, character,...   \n",
       "10130  {An, of, sportscar, turning, A, quick, fast, s...   \n",
       "18856  {Grünwald, Upper, The, municipality, Studios, ...   \n",
       "\n",
       "                                               word_list  \n",
       "21246  [The, Archaea, AmE, ɑɹˈkiə, BrE, ɑːˈkiːə, from...  \n",
       "14398  [Pewter, City, Gym, is, a, gym, in, the, Pokém...  \n",
       "14317  [Charmeleon, is, a, character, in, the, anime,...  \n",
       "10130  [A, sportscar, is, a, small, fast, quick, turn...  \n",
       "18856  [Grünwald, is, a, municipality, in, the, Munic...  "
      ]
     },
     "execution_count": 7,
     "metadata": {},
     "output_type": "execute_result"
    }
   ],
   "source": [
    "df1.head()"
   ]
  },
  {
   "cell_type": "code",
   "execution_count": 8,
   "metadata": {
    "collapsed": true
   },
   "outputs": [],
   "source": [
    "#intersetion_cardinality = len(set.intersection(*[set(x), set(y)]))\n",
    "def calc_jaccard_simmilarity(wordset1, wordset2):\n",
    "    intersetion_cardinality = len(set.intersection(wordset1, wordset2))\n",
    "    union_cardinality = len(set.union(wordset1, wordset2))\n",
    "    return intersetion_cardinality/float(union_cardinality)"
   ]
  },
  {
   "cell_type": "code",
   "execution_count": 9,
   "metadata": {
    "collapsed": false
   },
   "outputs": [
    {
     "data": {
      "text/plain": [
       "0.2"
      ]
     },
     "execution_count": 9,
     "metadata": {},
     "output_type": "execute_result"
    }
   ],
   "source": [
    "calc_jaccard_simmilarity(set([\"red\", \"blue\", \"yellow\"]), set([\"green\", \"red\", \"orange\"]))"
   ]
  },
  {
   "cell_type": "code",
   "execution_count": 10,
   "metadata": {
    "collapsed": false
   },
   "outputs": [],
   "source": [
    "dfe = df1[df1[\"name\"] == \"Europe\"]\n",
    "europe_words = dfe.words.values[0]\n",
    "dfg = df1[df1[\"name\"] == \"Germany\"]\n",
    "germany_words = dfg.words.values[0]"
   ]
  },
  {
   "cell_type": "code",
   "execution_count": 11,
   "metadata": {
    "collapsed": false
   },
   "outputs": [],
   "source": [
    "calc_jaccard_simmilarity(europe_words, germany_words)"
   ]
  },
  {
   "cell_type": "code",
   "execution_count": 12,
   "metadata": {
    "collapsed": true
   },
   "outputs": [],
   "source": [
    "# dfg = df1[df1[\"name\"] == \"German\"]\n",
    "# german = dfg.words.values[0]"
   ]
  },
  {
   "cell_type": "code",
   "execution_count": 13,
   "metadata": {
    "collapsed": false
   },
   "outputs": [],
   "source": [
    "# calc_jaccard_simmilarity(german, germany)"
   ]
  },
  {
   "cell_type": "code",
   "execution_count": 14,
   "metadata": {
    "collapsed": false
   },
   "outputs": [],
   "source": [
    "# Calculate term frequency\n",
    "from collections import Counter\n",
    "df1['tf'] = df1.word_list.apply(lambda x: Counter(x))"
   ]
  },
  {
   "cell_type": "code",
   "execution_count": 15,
   "metadata": {
    "collapsed": false
   },
   "outputs": [
    {
     "data": {
      "text/html": [
       "<div>\n",
       "<table border=\"1\" class=\"dataframe\">\n",
       "  <thead>\n",
       "    <tr style=\"text-align: right;\">\n",
       "      <th></th>\n",
       "      <th>name</th>\n",
       "      <th>text</th>\n",
       "      <th>out_links</th>\n",
       "      <th>words</th>\n",
       "      <th>word_list</th>\n",
       "      <th>tf</th>\n",
       "    </tr>\n",
       "  </thead>\n",
       "  <tbody>\n",
       "    <tr>\n",
       "      <th>21246</th>\n",
       "      <td>Archaea</td>\n",
       "      <td>The **Archaea** (AmE [ɑɹˈkiə], BrE [ɑːˈkiːə]; ...</td>\n",
       "      <td>[Wikispecies, Organism, Salt, Acid, Alkaline, ...</td>\n",
       "      <td>{The, also, Achaea, salty, in, survive, geyser...</td>\n",
       "      <td>[The, Archaea, AmE, ɑɹˈkiə, BrE, ɑːˈkiːə, from...</td>\n",
       "      <td>{'The': 1, 'Archaeon': 1, 'environments': 1, '...</td>\n",
       "    </tr>\n",
       "    <tr>\n",
       "      <th>14398</th>\n",
       "      <td>Pewter_City_Gym_d674</td>\n",
       "      <td>**Pewter City Gym** is a gym in the Pokémon TV...</td>\n",
       "      <td>[Pokémon, Brock, Video_game, Pewter_City_Gym_d...</td>\n",
       "      <td>{Brock, rock, The, here, in, TV, and, the, is,...</td>\n",
       "      <td>[Pewter, City, Gym, is, a, gym, in, the, Pokém...</td>\n",
       "      <td>{'Brock': 1, 'rock': 1, 'The': 1, 'series': 1,...</td>\n",
       "    </tr>\n",
       "    <tr>\n",
       "      <th>14317</th>\n",
       "      <td>Charmeleon</td>\n",
       "      <td>**Charmeleon** is a character in the anime and...</td>\n",
       "      <td>[List_of_Pokémon_b11d, Pokémon, Evolution, Cha...</td>\n",
       "      <td>{fire, to, lizards, considered, in, character,...</td>\n",
       "      <td>[Charmeleon, is, a, character, in, the, anime,...</td>\n",
       "      <td>{'be': 1, 'fire': 1, 'series': 1, 'called': 1,...</td>\n",
       "    </tr>\n",
       "    <tr>\n",
       "      <th>10130</th>\n",
       "      <td>Sportscar</td>\n",
       "      <td>A **sportscar** is a small, fast, quick-turnin...</td>\n",
       "      <td>[Car, Sportscar]</td>\n",
       "      <td>{An, of, sportscar, turning, A, quick, fast, s...</td>\n",
       "      <td>[A, sportscar, is, a, small, fast, quick, turn...</td>\n",
       "      <td>{'An': 1, 'of': 1, 'Corvette': 1, 'sportscar':...</td>\n",
       "    </tr>\n",
       "    <tr>\n",
       "      <th>18856</th>\n",
       "      <td>Gr%C3%BCnwald,_Bavaria_dbfc</td>\n",
       "      <td>**Grünwald** is a municipality in the Munich R...</td>\n",
       "      <td>[List_of_countries, States_of_Germany_65c0, Ba...</td>\n",
       "      <td>{Grünwald, Upper, The, municipality, Studios, ...</td>\n",
       "      <td>[Grünwald, is, a, municipality, in, the, Munic...</td>\n",
       "      <td>{'Grünwald': 2, 'Bavaria': 2, 'Upper': 1, 'are...</td>\n",
       "    </tr>\n",
       "  </tbody>\n",
       "</table>\n",
       "</div>"
      ],
      "text/plain": [
       "                              name  \\\n",
       "21246                      Archaea   \n",
       "14398         Pewter_City_Gym_d674   \n",
       "14317                   Charmeleon   \n",
       "10130                    Sportscar   \n",
       "18856  Gr%C3%BCnwald,_Bavaria_dbfc   \n",
       "\n",
       "                                                    text  \\\n",
       "21246  The **Archaea** (AmE [ɑɹˈkiə], BrE [ɑːˈkiːə]; ...   \n",
       "14398  **Pewter City Gym** is a gym in the Pokémon TV...   \n",
       "14317  **Charmeleon** is a character in the anime and...   \n",
       "10130  A **sportscar** is a small, fast, quick-turnin...   \n",
       "18856  **Grünwald** is a municipality in the Munich R...   \n",
       "\n",
       "                                               out_links  \\\n",
       "21246  [Wikispecies, Organism, Salt, Acid, Alkaline, ...   \n",
       "14398  [Pokémon, Brock, Video_game, Pewter_City_Gym_d...   \n",
       "14317  [List_of_Pokémon_b11d, Pokémon, Evolution, Cha...   \n",
       "10130                                   [Car, Sportscar]   \n",
       "18856  [List_of_countries, States_of_Germany_65c0, Ba...   \n",
       "\n",
       "                                                   words  \\\n",
       "21246  {The, also, Achaea, salty, in, survive, geyser...   \n",
       "14398  {Brock, rock, The, here, in, TV, and, the, is,...   \n",
       "14317  {fire, to, lizards, considered, in, character,...   \n",
       "10130  {An, of, sportscar, turning, A, quick, fast, s...   \n",
       "18856  {Grünwald, Upper, The, municipality, Studios, ...   \n",
       "\n",
       "                                               word_list  \\\n",
       "21246  [The, Archaea, AmE, ɑɹˈkiə, BrE, ɑːˈkiːə, from...   \n",
       "14398  [Pewter, City, Gym, is, a, gym, in, the, Pokém...   \n",
       "14317  [Charmeleon, is, a, character, in, the, anime,...   \n",
       "10130  [A, sportscar, is, a, small, fast, quick, turn...   \n",
       "18856  [Grünwald, is, a, municipality, in, the, Munic...   \n",
       "\n",
       "                                                      tf  \n",
       "21246  {'The': 1, 'Archaeon': 1, 'environments': 1, '...  \n",
       "14398  {'Brock': 1, 'rock': 1, 'The': 1, 'series': 1,...  \n",
       "14317  {'be': 1, 'fire': 1, 'series': 1, 'called': 1,...  \n",
       "10130  {'An': 1, 'of': 1, 'Corvette': 1, 'sportscar':...  \n",
       "18856  {'Grünwald': 2, 'Bavaria': 2, 'Upper': 1, 'are...  "
      ]
     },
     "execution_count": 15,
     "metadata": {},
     "output_type": "execute_result"
    }
   ],
   "source": [
    "df1.head()"
   ]
  },
  {
   "cell_type": "code",
   "execution_count": 16,
   "metadata": {
    "collapsed": false
   },
   "outputs": [],
   "source": [
    "words = df1.words.tolist()"
   ]
  },
  {
   "cell_type": "code",
   "execution_count": 17,
   "metadata": {
    "collapsed": false
   },
   "outputs": [],
   "source": [
    "all_words = [word for sets in words for word in sets]"
   ]
  },
  {
   "cell_type": "code",
   "execution_count": 18,
   "metadata": {
    "collapsed": false
   },
   "outputs": [],
   "source": [
    "doc_freq = Counter(all_words)"
   ]
  },
  {
   "cell_type": "code",
   "execution_count": 19,
   "metadata": {
    "collapsed": true
   },
   "outputs": [],
   "source": [
    "def tf_dict_to_tfidf(tf_dic):\n",
    "    new_dic = {}\n",
    "    for k,v in tf_dic.items():\n",
    "        new_dic[k] = v / float(doc_freq[k])\n",
    "    return new_dic\n",
    "df1['tf_idf'] = df1.tf.apply(tf_dict_to_tfidf)"
   ]
  },
  {
   "cell_type": "code",
   "execution_count": 20,
   "metadata": {
    "collapsed": false
   },
   "outputs": [
    {
     "data": {
      "text/html": [
       "<div>\n",
       "<table border=\"1\" class=\"dataframe\">\n",
       "  <thead>\n",
       "    <tr style=\"text-align: right;\">\n",
       "      <th></th>\n",
       "      <th>name</th>\n",
       "      <th>text</th>\n",
       "      <th>out_links</th>\n",
       "      <th>words</th>\n",
       "      <th>word_list</th>\n",
       "      <th>tf</th>\n",
       "      <th>tf_idf</th>\n",
       "    </tr>\n",
       "  </thead>\n",
       "  <tbody>\n",
       "    <tr>\n",
       "      <th>21246</th>\n",
       "      <td>Archaea</td>\n",
       "      <td>The **Archaea** (AmE [ɑɹˈkiə], BrE [ɑːˈkiːə]; ...</td>\n",
       "      <td>[Wikispecies, Organism, Salt, Acid, Alkaline, ...</td>\n",
       "      <td>{The, also, Achaea, salty, in, survive, geyser...</td>\n",
       "      <td>[The, Archaea, AmE, ɑɹˈkiə, BrE, ɑːˈkiːə, from...</td>\n",
       "      <td>{'The': 1, 'Archaeon': 1, 'environments': 1, '...</td>\n",
       "      <td>{'The': 0.019230769230769232, 'Archaea': 1.0, ...</td>\n",
       "    </tr>\n",
       "    <tr>\n",
       "      <th>14398</th>\n",
       "      <td>Pewter_City_Gym_d674</td>\n",
       "      <td>**Pewter City Gym** is a gym in the Pokémon TV...</td>\n",
       "      <td>[Pokémon, Brock, Video_game, Pewter_City_Gym_d...</td>\n",
       "      <td>{Brock, rock, The, here, in, TV, and, the, is,...</td>\n",
       "      <td>[Pewter, City, Gym, is, a, gym, in, the, Pokém...</td>\n",
       "      <td>{'Brock': 1, 'rock': 1, 'The': 1, 'series': 1,...</td>\n",
       "      <td>{'Brock': 1.0, 'rock': 0.25, 'The': 0.01923076...</td>\n",
       "    </tr>\n",
       "    <tr>\n",
       "      <th>14317</th>\n",
       "      <td>Charmeleon</td>\n",
       "      <td>**Charmeleon** is a character in the anime and...</td>\n",
       "      <td>[List_of_Pokémon_b11d, Pokémon, Evolution, Cha...</td>\n",
       "      <td>{fire, to, lizards, considered, in, character,...</td>\n",
       "      <td>[Charmeleon, is, a, character, in, the, anime,...</td>\n",
       "      <td>{'be': 1, 'fire': 1, 'series': 1, 'called': 1,...</td>\n",
       "      <td>{'Charmander': 1.0, 'fire': 1.0, 'series': 0.3...</td>\n",
       "    </tr>\n",
       "    <tr>\n",
       "      <th>10130</th>\n",
       "      <td>Sportscar</td>\n",
       "      <td>A **sportscar** is a small, fast, quick-turnin...</td>\n",
       "      <td>[Car, Sportscar]</td>\n",
       "      <td>{An, of, sportscar, turning, A, quick, fast, s...</td>\n",
       "      <td>[A, sportscar, is, a, small, fast, quick, turn...</td>\n",
       "      <td>{'An': 1, 'of': 1, 'Corvette': 1, 'sportscar':...</td>\n",
       "      <td>{'An': 0.16666666666666666, 'of': 0.0123456790...</td>\n",
       "    </tr>\n",
       "    <tr>\n",
       "      <th>18856</th>\n",
       "      <td>Gr%C3%BCnwald,_Bavaria_dbfc</td>\n",
       "      <td>**Grünwald** is a municipality in the Munich R...</td>\n",
       "      <td>[List_of_countries, States_of_Germany_65c0, Ba...</td>\n",
       "      <td>{Grünwald, Upper, The, municipality, Studios, ...</td>\n",
       "      <td>[Grünwald, is, a, municipality, in, the, Munic...</td>\n",
       "      <td>{'Grünwald': 2, 'Bavaria': 2, 'Upper': 1, 'are...</td>\n",
       "      <td>{'Grünwald': 2.0, 'in': 0.0379746835443038, 'U...</td>\n",
       "    </tr>\n",
       "  </tbody>\n",
       "</table>\n",
       "</div>"
      ],
      "text/plain": [
       "                              name  \\\n",
       "21246                      Archaea   \n",
       "14398         Pewter_City_Gym_d674   \n",
       "14317                   Charmeleon   \n",
       "10130                    Sportscar   \n",
       "18856  Gr%C3%BCnwald,_Bavaria_dbfc   \n",
       "\n",
       "                                                    text  \\\n",
       "21246  The **Archaea** (AmE [ɑɹˈkiə], BrE [ɑːˈkiːə]; ...   \n",
       "14398  **Pewter City Gym** is a gym in the Pokémon TV...   \n",
       "14317  **Charmeleon** is a character in the anime and...   \n",
       "10130  A **sportscar** is a small, fast, quick-turnin...   \n",
       "18856  **Grünwald** is a municipality in the Munich R...   \n",
       "\n",
       "                                               out_links  \\\n",
       "21246  [Wikispecies, Organism, Salt, Acid, Alkaline, ...   \n",
       "14398  [Pokémon, Brock, Video_game, Pewter_City_Gym_d...   \n",
       "14317  [List_of_Pokémon_b11d, Pokémon, Evolution, Cha...   \n",
       "10130                                   [Car, Sportscar]   \n",
       "18856  [List_of_countries, States_of_Germany_65c0, Ba...   \n",
       "\n",
       "                                                   words  \\\n",
       "21246  {The, also, Achaea, salty, in, survive, geyser...   \n",
       "14398  {Brock, rock, The, here, in, TV, and, the, is,...   \n",
       "14317  {fire, to, lizards, considered, in, character,...   \n",
       "10130  {An, of, sportscar, turning, A, quick, fast, s...   \n",
       "18856  {Grünwald, Upper, The, municipality, Studios, ...   \n",
       "\n",
       "                                               word_list  \\\n",
       "21246  [The, Archaea, AmE, ɑɹˈkiə, BrE, ɑːˈkiːə, from...   \n",
       "14398  [Pewter, City, Gym, is, a, gym, in, the, Pokém...   \n",
       "14317  [Charmeleon, is, a, character, in, the, anime,...   \n",
       "10130  [A, sportscar, is, a, small, fast, quick, turn...   \n",
       "18856  [Grünwald, is, a, municipality, in, the, Munic...   \n",
       "\n",
       "                                                      tf  \\\n",
       "21246  {'The': 1, 'Archaeon': 1, 'environments': 1, '...   \n",
       "14398  {'Brock': 1, 'rock': 1, 'The': 1, 'series': 1,...   \n",
       "14317  {'be': 1, 'fire': 1, 'series': 1, 'called': 1,...   \n",
       "10130  {'An': 1, 'of': 1, 'Corvette': 1, 'sportscar':...   \n",
       "18856  {'Grünwald': 2, 'Bavaria': 2, 'Upper': 1, 'are...   \n",
       "\n",
       "                                                  tf_idf  \n",
       "21246  {'The': 0.019230769230769232, 'Archaea': 1.0, ...  \n",
       "14398  {'Brock': 1.0, 'rock': 0.25, 'The': 0.01923076...  \n",
       "14317  {'Charmander': 1.0, 'fire': 1.0, 'series': 0.3...  \n",
       "10130  {'An': 0.16666666666666666, 'of': 0.0123456790...  \n",
       "18856  {'Grünwald': 2.0, 'in': 0.0379746835443038, 'U...  "
      ]
     },
     "execution_count": 20,
     "metadata": {},
     "output_type": "execute_result"
    }
   ],
   "source": [
    "df1.head()"
   ]
  },
  {
   "cell_type": "code",
   "execution_count": 21,
   "metadata": {
    "collapsed": true
   },
   "outputs": [],
   "source": [
    "from math import sqrt\n",
    "def euclidian_len(d1):\n",
    "    return sqrt(sum([v*v for k,v in d1.items()]))\n",
    "\n",
    "def scalar(d1, d2):\n",
    "    suma = 0\n",
    "    for k,v in d1.items():\n",
    "        try:\n",
    "            suma += v * d2[k]\n",
    "        except KeyError:\n",
    "            pass\n",
    "    return suma\n",
    "\n",
    "def calc_cosine_similarity(d1,d2):\n",
    "    return (scalar(d1,d2)/(euclidian_len(d1)*euclidian_len(d2)))"
   ]
  },
  {
   "cell_type": "code",
   "execution_count": 22,
   "metadata": {
    "collapsed": false
   },
   "outputs": [],
   "source": [
    "dfe = df1[df1[\"name\"] == \"Europe\"]\n",
    "europe = dfe.words.values[0]\n",
    "dfg = df1[df1[\"name\"] == \"Germany\"]\n",
    "germany = dfg.words.values[0]"
   ]
  },
  {
   "cell_type": "code",
   "execution_count": 23,
   "metadata": {
    "collapsed": false
   },
   "outputs": [],
   "source": [
    "calc_cosine_similarity(dfg.tf_idf.values[0], dfe.tf_idf.values[0])"
   ]
  },
  {
   "cell_type": "code",
   "execution_count": 24,
   "metadata": {
    "collapsed": true
   },
   "outputs": [],
   "source": [
    "dfe2 = df2[df2[\"name\"] == \"Europe\"]\n",
    "europe_links = dfe2.out_links.values[0]\n",
    "dfg2 = df2[df2[\"name\"] == \"Germany\"]\n",
    "germany_links = dfg2.out_links.values[0]"
   ]
  },
  {
   "cell_type": "code",
   "execution_count": 25,
   "metadata": {
    "collapsed": false
   },
   "outputs": [],
   "source": [
    "# df2.head()"
   ]
  },
  {
   "cell_type": "code",
   "execution_count": 26,
   "metadata": {
    "collapsed": false
   },
   "outputs": [],
   "source": [
    "calc_jaccard_simmilarity(set(europe_links), set(germany_links))"
   ]
  },
  {
   "cell_type": "code",
   "execution_count": 27,
   "metadata": {
    "collapsed": false
   },
   "outputs": [],
   "source": [
    "# df1.head()"
   ]
  },
  {
   "cell_type": "code",
   "execution_count": 28,
   "metadata": {
    "collapsed": false,
    "scrolled": false
   },
   "outputs": [],
   "source": [
    "df1['cos_ger'] = df1.tf_idf.apply(lambda x: calc_cosine_similarity(x, dfg.tf_idf.values[0]))"
   ]
  },
  {
   "cell_type": "code",
   "execution_count": 29,
   "metadata": {
    "collapsed": true
   },
   "outputs": [],
   "source": [
    "df1['jac_ger'] = df1.words.apply(lambda x: calc_jaccard_simmilarity(x, germany_words))"
   ]
  },
  {
   "cell_type": "code",
   "execution_count": 30,
   "metadata": {
    "collapsed": true
   },
   "outputs": [],
   "source": [
    "df2['jac_ger_links'] = df2.out_links.apply(lambda x: calc_jaccard_simmilarity(set(x), set(germany_links)))"
   ]
  },
  {
   "cell_type": "code",
   "execution_count": 31,
   "metadata": {
    "collapsed": false
   },
   "outputs": [],
   "source": [
    "df3 = pd.merge(df1[['name', 'cos_ger', 'jac_ger']], df2[['name', 'jac_ger_links']], on='name', how='left')"
   ]
  },
  {
   "cell_type": "code",
   "execution_count": 32,
   "metadata": {
    "collapsed": false
   },
   "outputs": [],
   "source": [
    "cos_text = df3.sort_values('cos_ger', ascending=False).head(10)['name']\n",
    "jac_text = df3.sort_values('jac_ger', ascending=False).head(10)['name']\n",
    "jac_links = df3.sort_values('jac_ger_links', ascending=False).head(10)['name']"
   ]
  },
  {
   "cell_type": "code",
   "execution_count": 33,
   "metadata": {
    "collapsed": false
   },
   "outputs": [
    {
     "data": {
      "text/plain": [
       "(100, 7)"
      ]
     },
     "execution_count": 33,
     "metadata": {},
     "output_type": "execute_result"
    }
   ],
   "source": [
    "df1.shape"
   ]
  },
  {
   "cell_type": "code",
   "execution_count": 34,
   "metadata": {
    "collapsed": false
   },
   "outputs": [],
   "source": [
    "# df3.head()"
   ]
  },
  {
   "cell_type": "code",
   "execution_count": 35,
   "metadata": {
    "collapsed": false
   },
   "outputs": [],
   "source": [
    "df1[\"word_count\"] = df1.word_list.apply(lambda x: len(x))\n",
    "# df1 = df1.sort_values(by='word_count', ascending=False) \n",
    "# df1 = df1.head(100)\n",
    "# df2 = df1[['name', 'out_links']]\n",
    "# ranks = pd.Series([i for i in range(1, sorted_df.shape[0]+1)])\n",
    "# sorted_df['article_rank'] = ranks.values\n",
    "# # sorted_df.head()"
   ]
  },
  {
   "cell_type": "code",
   "execution_count": 36,
   "metadata": {
    "collapsed": false
   },
   "outputs": [],
   "source": [
    "# random_df = df1.sample(1000)\n",
    "# df1 = random_df\n",
    "# df1 = df1.head(1000)\n",
    "#random_df.head()"
   ]
  },
  {
   "cell_type": "code",
   "execution_count": 37,
   "metadata": {
    "collapsed": false
   },
   "outputs": [],
   "source": [
    "#df1 = df1.head(100)\n",
    "#df1 = sorted_df.head(1000)\n",
    "def get_matrix_jacard(df1):\n",
    "    df_jac_text = pd.DataFrame(df1.name)\n",
    "    names = df1.name.values\n",
    "    for name in names:\n",
    "        helper = df1[df1[\"name\"] == name].words.values[0]\n",
    "        df_jac_text[name] = df1.words.apply(lambda x: calc_jaccard_simmilarity(x, helper))\n",
    "    return df_jac_text"
   ]
  },
  {
   "cell_type": "code",
   "execution_count": 38,
   "metadata": {
    "collapsed": true
   },
   "outputs": [],
   "source": [
    "# def get_matrix_cosine(df1):\n",
    "#     return df_cos_text    "
   ]
  },
  {
   "cell_type": "code",
   "execution_count": 39,
   "metadata": {
    "collapsed": true
   },
   "outputs": [],
   "source": [
    "df_cos_text = pd.DataFrame(df1.name)"
   ]
  },
  {
   "cell_type": "code",
   "execution_count": 40,
   "metadata": {
    "collapsed": false
   },
   "outputs": [
    {
     "name": "stdout",
     "output_type": "stream",
     "text": [
      "Wall time: 686 ms\n"
     ]
    }
   ],
   "source": [
    "def calc_cos_time(df1):\n",
    "    global df_cos_text\n",
    "    names = df1.name.values\n",
    "    for name in names:\n",
    "        helper = df1[df1[\"name\"] == name].tf_idf.values[0]\n",
    "        df_cos_text[name] = df1.tf_idf.apply(lambda x: calc_cosine_similarity(x, helper))\n",
    "    df_cos_text.set_index('name', inplace=True)\n",
    "    df_cos_text = df_cos_text.rename_axis(None)\n",
    "    df_cos_text = df_cos_text.where(np.triu(np.ones(df_cos_text.shape)).astype(np.bool))\n",
    "    df_cos_text = df_cos_text.stack()\n",
    "    df_cos_text = df_cos_text.reset_index()\n",
    "    df_cos_text.columns= ['Article1', 'Article2', 'CosineText']\n",
    "    df_cos_text = df_cos_text.sort_values(by='CosineText', ascending=False)\n",
    "    # df_cos_text.drop_duplicates(subset=['Article1', 'Article2'], inplace=True, keep=False)\n",
    "    df_cos_text = df_cos_text[df_cos_text.Article1 != df_cos_text.Article2]\n",
    "    ranks = pd.Series([i for i in range(1, df_cos_text.shape[0]+1)])\n",
    "    df_cos_text['cos_rank'] = ranks.values\n",
    "    \n",
    "%time calc_cos_time(df1)    "
   ]
  },
  {
   "cell_type": "code",
   "execution_count": 41,
   "metadata": {
    "collapsed": false
   },
   "outputs": [],
   "source": [
    "df_cos_text = df_cos_text.sort_values(by='CosineText', ascending=False)\n",
    "# df_cos_text.drop_duplicates(subset=['Article1', 'Article2'], inplace=True, keep=False)\n",
    "df_cos_text = df_cos_text[df_cos_text.Article1 != df_cos_text.Article2]\n",
    "ranks = pd.Series([i for i in range(1, df_cos_text.shape[0]+1)])\n",
    "df_cos_text['cos_rank'] = ranks.values"
   ]
  },
  {
   "cell_type": "code",
   "execution_count": 42,
   "metadata": {
    "collapsed": false
   },
   "outputs": [
    {
     "data": {
      "text/html": [
       "<div>\n",
       "<table border=\"1\" class=\"dataframe\">\n",
       "  <thead>\n",
       "    <tr style=\"text-align: right;\">\n",
       "      <th></th>\n",
       "      <th>Article1</th>\n",
       "      <th>Article2</th>\n",
       "      <th>CosineText</th>\n",
       "      <th>cos_rank</th>\n",
       "    </tr>\n",
       "  </thead>\n",
       "  <tbody>\n",
       "    <tr>\n",
       "      <th>1138</th>\n",
       "      <td>Nirajul_Mic_River_(Miercurea_Nirajului)_b4d7</td>\n",
       "      <td>Borviz_River_88c8</td>\n",
       "      <td>0.341606</td>\n",
       "      <td>1</td>\n",
       "    </tr>\n",
       "    <tr>\n",
       "      <th>101</th>\n",
       "      <td>Pewter_City_Gym_d674</td>\n",
       "      <td>Charmeleon</td>\n",
       "      <td>0.214157</td>\n",
       "      <td>2</td>\n",
       "    </tr>\n",
       "    <tr>\n",
       "      <th>3331</th>\n",
       "      <td>Magliaso</td>\n",
       "      <td>Onsernone</td>\n",
       "      <td>0.171272</td>\n",
       "      <td>3</td>\n",
       "    </tr>\n",
       "    <tr>\n",
       "      <th>3767</th>\n",
       "      <td>Birmenstorf,_Aargau_3bde</td>\n",
       "      <td>Onsernone</td>\n",
       "      <td>0.123871</td>\n",
       "      <td>4</td>\n",
       "    </tr>\n",
       "    <tr>\n",
       "      <th>1872</th>\n",
       "      <td>401_Ottilia_e3ce</td>\n",
       "      <td>442_Eichsfeldia_f00b</td>\n",
       "      <td>0.116109</td>\n",
       "      <td>5</td>\n",
       "    </tr>\n",
       "  </tbody>\n",
       "</table>\n",
       "</div>"
      ],
      "text/plain": [
       "                                          Article1              Article2  \\\n",
       "1138  Nirajul_Mic_River_(Miercurea_Nirajului)_b4d7     Borviz_River_88c8   \n",
       "101                           Pewter_City_Gym_d674            Charmeleon   \n",
       "3331                                      Magliaso             Onsernone   \n",
       "3767                      Birmenstorf,_Aargau_3bde             Onsernone   \n",
       "1872                              401_Ottilia_e3ce  442_Eichsfeldia_f00b   \n",
       "\n",
       "      CosineText  cos_rank  \n",
       "1138    0.341606         1  \n",
       "101     0.214157         2  \n",
       "3331    0.171272         3  \n",
       "3767    0.123871         4  \n",
       "1872    0.116109         5  "
      ]
     },
     "execution_count": 42,
     "metadata": {},
     "output_type": "execute_result"
    }
   ],
   "source": [
    "df_cos_text.head()"
   ]
  },
  {
   "cell_type": "code",
   "execution_count": 43,
   "metadata": {
    "collapsed": false
   },
   "outputs": [
    {
     "name": "stdout",
     "output_type": "stream",
     "text": [
      "Wall time: 273 ms\n"
     ]
    }
   ],
   "source": [
    "df_jac_text = pd.DataFrame(df1.name)\n",
    "def calc_for_timer(df1):\n",
    "    global df_jac_text\n",
    "    names = df1.name.values\n",
    "    for name in names:\n",
    "        helper = df1[df1[\"name\"] == name].words.values[0]\n",
    "        df_jac_text[name] = df1.words.apply(lambda x: calc_jaccard_simmilarity(x, helper))\n",
    "    df_jac_text.set_index('name', inplace=True)\n",
    "    df_jac_text = df_jac_text.rename_axis(None)\n",
    "    df_jac_text = df_jac_text.where(np.triu(np.ones(df_jac_text.shape)).astype(np.bool))\n",
    "\n",
    "    df_jac_text = df_jac_text.stack()\n",
    "    df_jac_text = df_jac_text.reset_index()\n",
    "    df_jac_text.columns= ['Article1', 'Article2', 'JaccardText']\n",
    "    df_jac_text = df_jac_text.sort_values(by='JaccardText', ascending=False)\n",
    "    df_jac_text = df_jac_text[df_jac_text.Article1 != df_jac_text.Article2]\n",
    "    ranks = pd.Series([i for i in range(1, df_jac_text.shape[0]+1)])\n",
    "    df_jac_text['jac_rank'] = ranks.values\n",
    "    \n",
    "%time calc_for_timer(df1)"
   ]
  },
  {
   "cell_type": "code",
   "execution_count": 44,
   "metadata": {
    "collapsed": false
   },
   "outputs": [
    {
     "data": {
      "text/html": [
       "<div>\n",
       "<table border=\"1\" class=\"dataframe\">\n",
       "  <thead>\n",
       "    <tr style=\"text-align: right;\">\n",
       "      <th></th>\n",
       "      <th>Article1</th>\n",
       "      <th>Article2</th>\n",
       "      <th>JaccardText</th>\n",
       "      <th>jac_rank</th>\n",
       "    </tr>\n",
       "  </thead>\n",
       "  <tbody>\n",
       "    <tr>\n",
       "      <th>1138</th>\n",
       "      <td>Nirajul_Mic_River_(Miercurea_Nirajului)_b4d7</td>\n",
       "      <td>Borviz_River_88c8</td>\n",
       "      <td>0.750000</td>\n",
       "      <td>1</td>\n",
       "    </tr>\n",
       "    <tr>\n",
       "      <th>1594</th>\n",
       "      <td>781_Kartvelia_532d</td>\n",
       "      <td>640_Brambilla_d7da</td>\n",
       "      <td>0.586207</td>\n",
       "      <td>2</td>\n",
       "    </tr>\n",
       "    <tr>\n",
       "      <th>3331</th>\n",
       "      <td>Magliaso</td>\n",
       "      <td>Onsernone</td>\n",
       "      <td>0.565217</td>\n",
       "      <td>3</td>\n",
       "    </tr>\n",
       "    <tr>\n",
       "      <th>3288</th>\n",
       "      <td>Magliaso</td>\n",
       "      <td>Birmenstorf,_Aargau_3bde</td>\n",
       "      <td>0.520000</td>\n",
       "      <td>4</td>\n",
       "    </tr>\n",
       "    <tr>\n",
       "      <th>3656</th>\n",
       "      <td>640_Brambilla_d7da</td>\n",
       "      <td>486_Cremona_1602</td>\n",
       "      <td>0.517241</td>\n",
       "      <td>5</td>\n",
       "    </tr>\n",
       "  </tbody>\n",
       "</table>\n",
       "</div>"
      ],
      "text/plain": [
       "                                          Article1                  Article2  \\\n",
       "1138  Nirajul_Mic_River_(Miercurea_Nirajului)_b4d7         Borviz_River_88c8   \n",
       "1594                            781_Kartvelia_532d        640_Brambilla_d7da   \n",
       "3331                                      Magliaso                 Onsernone   \n",
       "3288                                      Magliaso  Birmenstorf,_Aargau_3bde   \n",
       "3656                            640_Brambilla_d7da          486_Cremona_1602   \n",
       "\n",
       "      JaccardText  jac_rank  \n",
       "1138     0.750000         1  \n",
       "1594     0.586207         2  \n",
       "3331     0.565217         3  \n",
       "3288     0.520000         4  \n",
       "3656     0.517241         5  "
      ]
     },
     "execution_count": 44,
     "metadata": {},
     "output_type": "execute_result"
    }
   ],
   "source": [
    "df_jac_text.head()"
   ]
  },
  {
   "cell_type": "code",
   "execution_count": 45,
   "metadata": {
    "collapsed": false
   },
   "outputs": [],
   "source": [
    "df2 = df2.head(1000)"
   ]
  },
  {
   "cell_type": "code",
   "execution_count": 46,
   "metadata": {
    "collapsed": false
   },
   "outputs": [],
   "source": [
    "df_jac_links = pd.DataFrame(df2.name)\n",
    "names = df2.name.values\n",
    "for name in names:\n",
    "    helper = df2[df2[\"name\"] == name].out_links.values[0]\n",
    "    df_jac_links[name] = df2.out_links.apply(lambda x: calc_jaccard_simmilarity(set(x), set(helper)))\n",
    "df_jac_links.set_index('name', inplace=True)\n",
    "df_jac_links = df_jac_links.rename_axis(None)\n",
    "df_jac_links = df_jac_links.where(np.triu(np.ones(df_jac_links.shape)).astype(np.bool))\n",
    "\n",
    "df_jac_links = df_jac_links.stack()\n",
    "df_jac_links = df_jac_links.reset_index()\n",
    "df_jac_links.columns= ['Article1', 'Article2', 'JaccardLinks']\n",
    "df_jac_links = df_jac_links.sort_values(by='JaccardLinks', ascending=False)\n",
    "df_jac_links = df_jac_links[df_jac_links.Article1 != df_jac_links.Article2]\n",
    "ranks = pd.Series([i for i in range(1, df_jac_links.shape[0]+1)])\n",
    "df_jac_links['jac_rank_l'] = ranks.values"
   ]
  },
  {
   "cell_type": "code",
   "execution_count": 47,
   "metadata": {
    "collapsed": false
   },
   "outputs": [
    {
     "data": {
      "text/html": [
       "<div>\n",
       "<table border=\"1\" class=\"dataframe\">\n",
       "  <thead>\n",
       "    <tr style=\"text-align: right;\">\n",
       "      <th></th>\n",
       "      <th>Article1</th>\n",
       "      <th>Article2</th>\n",
       "      <th>JaccardLinks</th>\n",
       "      <th>jac_rank_l</th>\n",
       "    </tr>\n",
       "  </thead>\n",
       "  <tbody>\n",
       "    <tr>\n",
       "      <th>1457</th>\n",
       "      <td>Solingen</td>\n",
       "      <td>L%C3%BCnen</td>\n",
       "      <td>0.981818</td>\n",
       "      <td>1</td>\n",
       "    </tr>\n",
       "    <tr>\n",
       "      <th>2252</th>\n",
       "      <td>Coesfeld</td>\n",
       "      <td>L%C3%BCnen</td>\n",
       "      <td>0.964286</td>\n",
       "      <td>2</td>\n",
       "    </tr>\n",
       "    <tr>\n",
       "      <th>2961</th>\n",
       "      <td>Prometheus_(moon)</td>\n",
       "      <td>S_2004_S_7_97cc</td>\n",
       "      <td>0.953846</td>\n",
       "      <td>3</td>\n",
       "    </tr>\n",
       "    <tr>\n",
       "      <th>1872</th>\n",
       "      <td>401_Ottilia_e3ce</td>\n",
       "      <td>442_Eichsfeldia_f00b</td>\n",
       "      <td>0.950820</td>\n",
       "      <td>4</td>\n",
       "    </tr>\n",
       "    <tr>\n",
       "      <th>1405</th>\n",
       "      <td>Solingen</td>\n",
       "      <td>Coesfeld</td>\n",
       "      <td>0.947368</td>\n",
       "      <td>5</td>\n",
       "    </tr>\n",
       "  </tbody>\n",
       "</table>\n",
       "</div>"
      ],
      "text/plain": [
       "               Article1              Article2  JaccardLinks  jac_rank_l\n",
       "1457           Solingen            L%C3%BCnen      0.981818           1\n",
       "2252           Coesfeld            L%C3%BCnen      0.964286           2\n",
       "2961  Prometheus_(moon)       S_2004_S_7_97cc      0.953846           3\n",
       "1872   401_Ottilia_e3ce  442_Eichsfeldia_f00b      0.950820           4\n",
       "1405           Solingen              Coesfeld      0.947368           5"
      ]
     },
     "execution_count": 47,
     "metadata": {},
     "output_type": "execute_result"
    }
   ],
   "source": [
    "df_jac_links.head()"
   ]
  },
  {
   "cell_type": "code",
   "execution_count": 48,
   "metadata": {
    "collapsed": false
   },
   "outputs": [
    {
     "name": "stdout",
     "output_type": "stream",
     "text": [
      "(4950, 6)\n"
     ]
    }
   ],
   "source": [
    "df_sim = pd.merge(df_cos_text, df_jac_text, on=['Article1', 'Article2'])\n",
    "print(df_sim.shape)\n",
    "df_sim = pd.merge(df_sim, df_jac_links, on=['Article1', 'Article2'])"
   ]
  },
  {
   "cell_type": "code",
   "execution_count": 49,
   "metadata": {
    "collapsed": false
   },
   "outputs": [
    {
     "data": {
      "text/plain": [
       "(4950, 8)"
      ]
     },
     "execution_count": 49,
     "metadata": {},
     "output_type": "execute_result"
    }
   ],
   "source": [
    "df_sim.shape"
   ]
  },
  {
   "cell_type": "code",
   "execution_count": 50,
   "metadata": {
    "collapsed": false
   },
   "outputs": [
    {
     "data": {
      "text/html": [
       "<div>\n",
       "<table border=\"1\" class=\"dataframe\">\n",
       "  <thead>\n",
       "    <tr style=\"text-align: right;\">\n",
       "      <th></th>\n",
       "      <th>Article1</th>\n",
       "      <th>Article2</th>\n",
       "      <th>CosineText</th>\n",
       "      <th>cos_rank</th>\n",
       "      <th>JaccardText</th>\n",
       "      <th>jac_rank</th>\n",
       "      <th>JaccardLinks</th>\n",
       "      <th>jac_rank_l</th>\n",
       "    </tr>\n",
       "  </thead>\n",
       "  <tbody>\n",
       "    <tr>\n",
       "      <th>0</th>\n",
       "      <td>Nirajul_Mic_River_(Miercurea_Nirajului)_b4d7</td>\n",
       "      <td>Borviz_River_88c8</td>\n",
       "      <td>0.341606</td>\n",
       "      <td>1</td>\n",
       "      <td>0.750000</td>\n",
       "      <td>1</td>\n",
       "      <td>0.631579</td>\n",
       "      <td>1286</td>\n",
       "    </tr>\n",
       "    <tr>\n",
       "      <th>1</th>\n",
       "      <td>Pewter_City_Gym_d674</td>\n",
       "      <td>Charmeleon</td>\n",
       "      <td>0.214157</td>\n",
       "      <td>2</td>\n",
       "      <td>0.222222</td>\n",
       "      <td>18</td>\n",
       "      <td>0.523810</td>\n",
       "      <td>2352</td>\n",
       "    </tr>\n",
       "    <tr>\n",
       "      <th>2</th>\n",
       "      <td>Magliaso</td>\n",
       "      <td>Onsernone</td>\n",
       "      <td>0.171272</td>\n",
       "      <td>3</td>\n",
       "      <td>0.565217</td>\n",
       "      <td>3</td>\n",
       "      <td>0.945455</td>\n",
       "      <td>7</td>\n",
       "    </tr>\n",
       "    <tr>\n",
       "      <th>3</th>\n",
       "      <td>Birmenstorf,_Aargau_3bde</td>\n",
       "      <td>Onsernone</td>\n",
       "      <td>0.123871</td>\n",
       "      <td>4</td>\n",
       "      <td>0.500000</td>\n",
       "      <td>7</td>\n",
       "      <td>0.894737</td>\n",
       "      <td>34</td>\n",
       "    </tr>\n",
       "    <tr>\n",
       "      <th>4</th>\n",
       "      <td>401_Ottilia_e3ce</td>\n",
       "      <td>442_Eichsfeldia_f00b</td>\n",
       "      <td>0.116109</td>\n",
       "      <td>5</td>\n",
       "      <td>0.277778</td>\n",
       "      <td>10</td>\n",
       "      <td>0.950820</td>\n",
       "      <td>4</td>\n",
       "    </tr>\n",
       "    <tr>\n",
       "      <th>5</th>\n",
       "      <td>London_Borough_of_Harrow_d221</td>\n",
       "      <td>Greater_London_d0dd</td>\n",
       "      <td>0.112472</td>\n",
       "      <td>6</td>\n",
       "      <td>0.078947</td>\n",
       "      <td>1668</td>\n",
       "      <td>0.873016</td>\n",
       "      <td>61</td>\n",
       "    </tr>\n",
       "    <tr>\n",
       "      <th>6</th>\n",
       "      <td>Magliaso</td>\n",
       "      <td>Birmenstorf,_Aargau_3bde</td>\n",
       "      <td>0.097678</td>\n",
       "      <td>7</td>\n",
       "      <td>0.520000</td>\n",
       "      <td>4</td>\n",
       "      <td>0.877193</td>\n",
       "      <td>56</td>\n",
       "    </tr>\n",
       "    <tr>\n",
       "      <th>7</th>\n",
       "      <td>Prometheus_(moon)</td>\n",
       "      <td>S_2004_S_7_97cc</td>\n",
       "      <td>0.094992</td>\n",
       "      <td>8</td>\n",
       "      <td>0.109890</td>\n",
       "      <td>485</td>\n",
       "      <td>0.953846</td>\n",
       "      <td>3</td>\n",
       "    </tr>\n",
       "    <tr>\n",
       "      <th>8</th>\n",
       "      <td>Tropical_Storm_Alberto_(1988)_f400</td>\n",
       "      <td>Hurricane_Katrina_e7df</td>\n",
       "      <td>0.093210</td>\n",
       "      <td>9</td>\n",
       "      <td>0.113636</td>\n",
       "      <td>408</td>\n",
       "      <td>0.825397</td>\n",
       "      <td>169</td>\n",
       "    </tr>\n",
       "    <tr>\n",
       "      <th>9</th>\n",
       "      <td>Hildegard_of_Bingen_b6a4</td>\n",
       "      <td>Faustyna_Kowalska_d757</td>\n",
       "      <td>0.090263</td>\n",
       "      <td>10</td>\n",
       "      <td>0.126411</td>\n",
       "      <td>217</td>\n",
       "      <td>0.706897</td>\n",
       "      <td>795</td>\n",
       "    </tr>\n",
       "    <tr>\n",
       "      <th>10</th>\n",
       "      <td>781_Kartvelia_532d</td>\n",
       "      <td>640_Brambilla_d7da</td>\n",
       "      <td>0.079089</td>\n",
       "      <td>11</td>\n",
       "      <td>0.586207</td>\n",
       "      <td>2</td>\n",
       "      <td>0.945455</td>\n",
       "      <td>8</td>\n",
       "    </tr>\n",
       "    <tr>\n",
       "      <th>11</th>\n",
       "      <td>Roald_Dahl_780b</td>\n",
       "      <td>Tarzan</td>\n",
       "      <td>0.077518</td>\n",
       "      <td>12</td>\n",
       "      <td>0.091743</td>\n",
       "      <td>1073</td>\n",
       "      <td>0.490196</td>\n",
       "      <td>2785</td>\n",
       "    </tr>\n",
       "    <tr>\n",
       "      <th>12</th>\n",
       "      <td>Central_Asia_5707</td>\n",
       "      <td>Balkans</td>\n",
       "      <td>0.075639</td>\n",
       "      <td>13</td>\n",
       "      <td>0.050000</td>\n",
       "      <td>3429</td>\n",
       "      <td>0.596774</td>\n",
       "      <td>1553</td>\n",
       "    </tr>\n",
       "    <tr>\n",
       "      <th>13</th>\n",
       "      <td>781_Kartvelia_532d</td>\n",
       "      <td>486_Cremona_1602</td>\n",
       "      <td>0.068118</td>\n",
       "      <td>14</td>\n",
       "      <td>0.517241</td>\n",
       "      <td>6</td>\n",
       "      <td>0.928571</td>\n",
       "      <td>13</td>\n",
       "    </tr>\n",
       "    <tr>\n",
       "      <th>14</th>\n",
       "      <td>Forty-one</td>\n",
       "      <td>Onsernone</td>\n",
       "      <td>0.061118</td>\n",
       "      <td>15</td>\n",
       "      <td>0.095238</td>\n",
       "      <td>936</td>\n",
       "      <td>0.543860</td>\n",
       "      <td>2096</td>\n",
       "    </tr>\n",
       "  </tbody>\n",
       "</table>\n",
       "</div>"
      ],
      "text/plain": [
       "                                        Article1                  Article2  \\\n",
       "0   Nirajul_Mic_River_(Miercurea_Nirajului)_b4d7         Borviz_River_88c8   \n",
       "1                           Pewter_City_Gym_d674                Charmeleon   \n",
       "2                                       Magliaso                 Onsernone   \n",
       "3                       Birmenstorf,_Aargau_3bde                 Onsernone   \n",
       "4                               401_Ottilia_e3ce      442_Eichsfeldia_f00b   \n",
       "5                  London_Borough_of_Harrow_d221       Greater_London_d0dd   \n",
       "6                                       Magliaso  Birmenstorf,_Aargau_3bde   \n",
       "7                              Prometheus_(moon)           S_2004_S_7_97cc   \n",
       "8             Tropical_Storm_Alberto_(1988)_f400    Hurricane_Katrina_e7df   \n",
       "9                       Hildegard_of_Bingen_b6a4    Faustyna_Kowalska_d757   \n",
       "10                            781_Kartvelia_532d        640_Brambilla_d7da   \n",
       "11                               Roald_Dahl_780b                    Tarzan   \n",
       "12                             Central_Asia_5707                   Balkans   \n",
       "13                            781_Kartvelia_532d          486_Cremona_1602   \n",
       "14                                     Forty-one                 Onsernone   \n",
       "\n",
       "    CosineText  cos_rank  JaccardText  jac_rank  JaccardLinks  jac_rank_l  \n",
       "0     0.341606         1     0.750000         1      0.631579        1286  \n",
       "1     0.214157         2     0.222222        18      0.523810        2352  \n",
       "2     0.171272         3     0.565217         3      0.945455           7  \n",
       "3     0.123871         4     0.500000         7      0.894737          34  \n",
       "4     0.116109         5     0.277778        10      0.950820           4  \n",
       "5     0.112472         6     0.078947      1668      0.873016          61  \n",
       "6     0.097678         7     0.520000         4      0.877193          56  \n",
       "7     0.094992         8     0.109890       485      0.953846           3  \n",
       "8     0.093210         9     0.113636       408      0.825397         169  \n",
       "9     0.090263        10     0.126411       217      0.706897         795  \n",
       "10    0.079089        11     0.586207         2      0.945455           8  \n",
       "11    0.077518        12     0.091743      1073      0.490196        2785  \n",
       "12    0.075639        13     0.050000      3429      0.596774        1553  \n",
       "13    0.068118        14     0.517241         6      0.928571          13  \n",
       "14    0.061118        15     0.095238       936      0.543860        2096  "
      ]
     },
     "execution_count": 50,
     "metadata": {},
     "output_type": "execute_result"
    }
   ],
   "source": [
    "df_sim.sort_values(by=\"CosineText\", ascending=False).head(15)"
   ]
  },
  {
   "cell_type": "code",
   "execution_count": 51,
   "metadata": {
    "collapsed": true
   },
   "outputs": [],
   "source": [
    "df_sim['diff'] = np.square(df_sim['cos_rank'] - df_sim['jac_rank'])\n",
    "df_sim['diff1'] = np.square(df_sim['cos_rank'] - df_sim['jac_rank_l'])\n",
    "df_sim['diff2'] = np.square(df_sim['jac_rank'] - df_sim['jac_rank_l'])\n",
    "df_sim['diff_abs'] = np.abs(df_sim['cos_rank'] - df_sim['jac_rank'])"
   ]
  },
  {
   "cell_type": "code",
   "execution_count": 52,
   "metadata": {
    "collapsed": false
   },
   "outputs": [
    {
     "data": {
      "text/html": [
       "<div>\n",
       "<table border=\"1\" class=\"dataframe\">\n",
       "  <thead>\n",
       "    <tr style=\"text-align: right;\">\n",
       "      <th></th>\n",
       "      <th>Article1</th>\n",
       "      <th>Article2</th>\n",
       "      <th>CosineText</th>\n",
       "      <th>cos_rank</th>\n",
       "      <th>JaccardText</th>\n",
       "      <th>jac_rank</th>\n",
       "      <th>JaccardLinks</th>\n",
       "      <th>jac_rank_l</th>\n",
       "      <th>diff</th>\n",
       "      <th>diff1</th>\n",
       "      <th>diff2</th>\n",
       "      <th>diff_abs</th>\n",
       "    </tr>\n",
       "  </thead>\n",
       "  <tbody>\n",
       "    <tr>\n",
       "      <th>0</th>\n",
       "      <td>Nirajul_Mic_River_(Miercurea_Nirajului)_b4d7</td>\n",
       "      <td>Borviz_River_88c8</td>\n",
       "      <td>0.341606</td>\n",
       "      <td>1</td>\n",
       "      <td>0.750000</td>\n",
       "      <td>1</td>\n",
       "      <td>0.631579</td>\n",
       "      <td>1286</td>\n",
       "      <td>0</td>\n",
       "      <td>1651225</td>\n",
       "      <td>1651225</td>\n",
       "      <td>0</td>\n",
       "    </tr>\n",
       "    <tr>\n",
       "      <th>1</th>\n",
       "      <td>Pewter_City_Gym_d674</td>\n",
       "      <td>Charmeleon</td>\n",
       "      <td>0.214157</td>\n",
       "      <td>2</td>\n",
       "      <td>0.222222</td>\n",
       "      <td>18</td>\n",
       "      <td>0.523810</td>\n",
       "      <td>2352</td>\n",
       "      <td>256</td>\n",
       "      <td>5522500</td>\n",
       "      <td>5447556</td>\n",
       "      <td>16</td>\n",
       "    </tr>\n",
       "    <tr>\n",
       "      <th>2</th>\n",
       "      <td>Magliaso</td>\n",
       "      <td>Onsernone</td>\n",
       "      <td>0.171272</td>\n",
       "      <td>3</td>\n",
       "      <td>0.565217</td>\n",
       "      <td>3</td>\n",
       "      <td>0.945455</td>\n",
       "      <td>7</td>\n",
       "      <td>0</td>\n",
       "      <td>16</td>\n",
       "      <td>16</td>\n",
       "      <td>0</td>\n",
       "    </tr>\n",
       "    <tr>\n",
       "      <th>3</th>\n",
       "      <td>Birmenstorf,_Aargau_3bde</td>\n",
       "      <td>Onsernone</td>\n",
       "      <td>0.123871</td>\n",
       "      <td>4</td>\n",
       "      <td>0.500000</td>\n",
       "      <td>7</td>\n",
       "      <td>0.894737</td>\n",
       "      <td>34</td>\n",
       "      <td>9</td>\n",
       "      <td>900</td>\n",
       "      <td>729</td>\n",
       "      <td>3</td>\n",
       "    </tr>\n",
       "    <tr>\n",
       "      <th>4</th>\n",
       "      <td>401_Ottilia_e3ce</td>\n",
       "      <td>442_Eichsfeldia_f00b</td>\n",
       "      <td>0.116109</td>\n",
       "      <td>5</td>\n",
       "      <td>0.277778</td>\n",
       "      <td>10</td>\n",
       "      <td>0.950820</td>\n",
       "      <td>4</td>\n",
       "      <td>25</td>\n",
       "      <td>1</td>\n",
       "      <td>36</td>\n",
       "      <td>5</td>\n",
       "    </tr>\n",
       "  </tbody>\n",
       "</table>\n",
       "</div>"
      ],
      "text/plain": [
       "                                       Article1              Article2  \\\n",
       "0  Nirajul_Mic_River_(Miercurea_Nirajului)_b4d7     Borviz_River_88c8   \n",
       "1                          Pewter_City_Gym_d674            Charmeleon   \n",
       "2                                      Magliaso             Onsernone   \n",
       "3                      Birmenstorf,_Aargau_3bde             Onsernone   \n",
       "4                              401_Ottilia_e3ce  442_Eichsfeldia_f00b   \n",
       "\n",
       "   CosineText  cos_rank  JaccardText  jac_rank  JaccardLinks  jac_rank_l  \\\n",
       "0    0.341606         1     0.750000         1      0.631579        1286   \n",
       "1    0.214157         2     0.222222        18      0.523810        2352   \n",
       "2    0.171272         3     0.565217         3      0.945455           7   \n",
       "3    0.123871         4     0.500000         7      0.894737          34   \n",
       "4    0.116109         5     0.277778        10      0.950820           4   \n",
       "\n",
       "   diff    diff1    diff2  diff_abs  \n",
       "0     0  1651225  1651225         0  \n",
       "1   256  5522500  5447556        16  \n",
       "2     0       16       16         0  \n",
       "3     9      900      729         3  \n",
       "4    25        1       36         5  "
      ]
     },
     "execution_count": 52,
     "metadata": {},
     "output_type": "execute_result"
    }
   ],
   "source": [
    "df_sim.head()"
   ]
  },
  {
   "cell_type": "code",
   "execution_count": 53,
   "metadata": {
    "collapsed": false
   },
   "outputs": [
    {
     "data": {
      "text/plain": [
       "14126514064"
      ]
     },
     "execution_count": 53,
     "metadata": {},
     "output_type": "execute_result"
    }
   ],
   "source": [
    "sum(df_sim['diff'])"
   ]
  },
  {
   "cell_type": "code",
   "execution_count": 54,
   "metadata": {
    "collapsed": false
   },
   "outputs": [
    {
     "data": {
      "text/plain": [
       "15266261034"
      ]
     },
     "execution_count": 54,
     "metadata": {},
     "output_type": "execute_result"
    }
   ],
   "source": [
    "sum(df_sim['diff1'])"
   ]
  },
  {
   "cell_type": "code",
   "execution_count": 55,
   "metadata": {
    "collapsed": false
   },
   "outputs": [
    {
     "data": {
      "text/plain": [
       "18641382320"
      ]
     },
     "execution_count": 55,
     "metadata": {},
     "output_type": "execute_result"
    }
   ],
   "source": [
    "sum(df_sim['diff2'])"
   ]
  },
  {
   "cell_type": "code",
   "execution_count": 56,
   "metadata": {
    "collapsed": false
   },
   "outputs": [],
   "source": [
    "def rho(diff_column, n): \n",
    "    return 1 - (6*sum(diff_column))/(n*(n**2 -1))"
   ]
  },
  {
   "cell_type": "code",
   "execution_count": 57,
   "metadata": {
    "collapsed": false
   },
   "outputs": [
    {
     "data": {
      "text/plain": [
       "0.30117138866925242"
      ]
     },
     "execution_count": 57,
     "metadata": {},
     "output_type": "execute_result"
    }
   ],
   "source": [
    "# cos and jaccard\n",
    "rho(df_sim['diff'], df_sim.shape[0]) "
   ]
  },
  {
   "cell_type": "code",
   "execution_count": 58,
   "metadata": {
    "collapsed": false
   },
   "outputs": [
    {
     "data": {
      "text/plain": [
       "0.24478891605746378"
      ]
     },
     "execution_count": 58,
     "metadata": {},
     "output_type": "execute_result"
    }
   ],
   "source": [
    "# cos and jaccard_links\n",
    "rho(df_sim['diff1'], df_sim.shape[0])"
   ]
  },
  {
   "cell_type": "code",
   "execution_count": 59,
   "metadata": {
    "collapsed": false
   },
   "outputs": [
    {
     "data": {
      "text/plain": [
       "0.077824064666492498"
      ]
     },
     "execution_count": 59,
     "metadata": {},
     "output_type": "execute_result"
    }
   ],
   "source": [
    "# jaccard and jaccard_links\n",
    "rho(df_sim['diff2'], df_sim.shape[0])"
   ]
  },
  {
   "cell_type": "code",
   "execution_count": 60,
   "metadata": {
    "collapsed": false
   },
   "outputs": [
    {
     "data": {
      "text/plain": [
       "755865049"
      ]
     },
     "execution_count": 60,
     "metadata": {},
     "output_type": "execute_result"
    }
   ],
   "source": [
    "np.square(27493)"
   ]
  },
  {
   "cell_type": "code",
   "execution_count": 61,
   "metadata": {
    "collapsed": false
   },
   "outputs": [],
   "source": [
    "# from math import factorial\n",
    "# rows = 27493\n",
    "# 377,918,778"
   ]
  },
  {
   "cell_type": "code",
   "execution_count": 62,
   "metadata": {
    "collapsed": false
   },
   "outputs": [],
   "source": [
    "# (rows**2 - rows)/2"
   ]
  },
  {
   "cell_type": "code",
   "execution_count": 63,
   "metadata": {
    "collapsed": false
   },
   "outputs": [
    {
     "data": {
      "text/html": [
       "<div>\n",
       "<table border=\"1\" class=\"dataframe\">\n",
       "  <thead>\n",
       "    <tr style=\"text-align: right;\">\n",
       "      <th></th>\n",
       "      <th>Article1</th>\n",
       "      <th>Article2</th>\n",
       "      <th>CosineText</th>\n",
       "      <th>cos_rank</th>\n",
       "      <th>JaccardText</th>\n",
       "      <th>jac_rank</th>\n",
       "      <th>JaccardLinks</th>\n",
       "      <th>jac_rank_l</th>\n",
       "      <th>diff</th>\n",
       "      <th>diff1</th>\n",
       "      <th>diff2</th>\n",
       "      <th>diff_abs</th>\n",
       "    </tr>\n",
       "  </thead>\n",
       "  <tbody>\n",
       "    <tr>\n",
       "      <th>0</th>\n",
       "      <td>Nirajul_Mic_River_(Miercurea_Nirajului)_b4d7</td>\n",
       "      <td>Borviz_River_88c8</td>\n",
       "      <td>0.341606</td>\n",
       "      <td>1</td>\n",
       "      <td>0.750000</td>\n",
       "      <td>1</td>\n",
       "      <td>0.631579</td>\n",
       "      <td>1286</td>\n",
       "      <td>0</td>\n",
       "      <td>1651225</td>\n",
       "      <td>1651225</td>\n",
       "      <td>0</td>\n",
       "    </tr>\n",
       "    <tr>\n",
       "      <th>1</th>\n",
       "      <td>Pewter_City_Gym_d674</td>\n",
       "      <td>Charmeleon</td>\n",
       "      <td>0.214157</td>\n",
       "      <td>2</td>\n",
       "      <td>0.222222</td>\n",
       "      <td>18</td>\n",
       "      <td>0.523810</td>\n",
       "      <td>2352</td>\n",
       "      <td>256</td>\n",
       "      <td>5522500</td>\n",
       "      <td>5447556</td>\n",
       "      <td>16</td>\n",
       "    </tr>\n",
       "    <tr>\n",
       "      <th>2</th>\n",
       "      <td>Magliaso</td>\n",
       "      <td>Onsernone</td>\n",
       "      <td>0.171272</td>\n",
       "      <td>3</td>\n",
       "      <td>0.565217</td>\n",
       "      <td>3</td>\n",
       "      <td>0.945455</td>\n",
       "      <td>7</td>\n",
       "      <td>0</td>\n",
       "      <td>16</td>\n",
       "      <td>16</td>\n",
       "      <td>0</td>\n",
       "    </tr>\n",
       "    <tr>\n",
       "      <th>3</th>\n",
       "      <td>Birmenstorf,_Aargau_3bde</td>\n",
       "      <td>Onsernone</td>\n",
       "      <td>0.123871</td>\n",
       "      <td>4</td>\n",
       "      <td>0.500000</td>\n",
       "      <td>7</td>\n",
       "      <td>0.894737</td>\n",
       "      <td>34</td>\n",
       "      <td>9</td>\n",
       "      <td>900</td>\n",
       "      <td>729</td>\n",
       "      <td>3</td>\n",
       "    </tr>\n",
       "    <tr>\n",
       "      <th>4</th>\n",
       "      <td>401_Ottilia_e3ce</td>\n",
       "      <td>442_Eichsfeldia_f00b</td>\n",
       "      <td>0.116109</td>\n",
       "      <td>5</td>\n",
       "      <td>0.277778</td>\n",
       "      <td>10</td>\n",
       "      <td>0.950820</td>\n",
       "      <td>4</td>\n",
       "      <td>25</td>\n",
       "      <td>1</td>\n",
       "      <td>36</td>\n",
       "      <td>5</td>\n",
       "    </tr>\n",
       "  </tbody>\n",
       "</table>\n",
       "</div>"
      ],
      "text/plain": [
       "                                       Article1              Article2  \\\n",
       "0  Nirajul_Mic_River_(Miercurea_Nirajului)_b4d7     Borviz_River_88c8   \n",
       "1                          Pewter_City_Gym_d674            Charmeleon   \n",
       "2                                      Magliaso             Onsernone   \n",
       "3                      Birmenstorf,_Aargau_3bde             Onsernone   \n",
       "4                              401_Ottilia_e3ce  442_Eichsfeldia_f00b   \n",
       "\n",
       "   CosineText  cos_rank  JaccardText  jac_rank  JaccardLinks  jac_rank_l  \\\n",
       "0    0.341606         1     0.750000         1      0.631579        1286   \n",
       "1    0.214157         2     0.222222        18      0.523810        2352   \n",
       "2    0.171272         3     0.565217         3      0.945455           7   \n",
       "3    0.123871         4     0.500000         7      0.894737          34   \n",
       "4    0.116109         5     0.277778        10      0.950820           4   \n",
       "\n",
       "   diff    diff1    diff2  diff_abs  \n",
       "0     0  1651225  1651225         0  \n",
       "1   256  5522500  5447556        16  \n",
       "2     0       16       16         0  \n",
       "3     9      900      729         3  \n",
       "4    25        1       36         5  "
      ]
     },
     "execution_count": 63,
     "metadata": {},
     "output_type": "execute_result"
    }
   ],
   "source": [
    "df_sim = df_sim.sort_values(by=\"cos_rank\", ascending=True)\n",
    "df_sim.head()"
   ]
  },
  {
   "cell_type": "code",
   "execution_count": 64,
   "metadata": {
    "collapsed": false
   },
   "outputs": [
    {
     "data": {
      "image/png": "[encoded data removed]",
      "text/plain": [
       "<matplotlib.figure.Figure at 0x1a1ddb2d860>"
      ]
     },
     "metadata": {},
     "output_type": "display_data"
    }
   ],
   "source": [
    "import matplotlib.pyplot as plt\n",
    "plt.scatter(df_sim['cos_rank'], df_sim['jac_rank'])\n",
    "plt.axis([0, 25000, 0, 25000])\n",
    "plt.show()"
   ]
  },
  {
   "cell_type": "code",
   "execution_count": 65,
   "metadata": {
    "collapsed": false
   },
   "outputs": [
    {
     "data": {
      "text/plain": [
       "count    4.950000e+03\n",
       "mean     2.853841e+06\n",
       "std      3.898616e+06\n",
       "min      0.000000e+00\n",
       "25%      2.183228e+05\n",
       "50%      1.151329e+06\n",
       "75%      3.829849e+06\n",
       "max      2.303040e+07\n",
       "Name: diff, dtype: float64"
      ]
     },
     "execution_count": 65,
     "metadata": {},
     "output_type": "execute_result"
    }
   ],
   "source": [
    "df_sim['diff'].describe()"
   ]
  },
  {
   "cell_type": "code",
   "execution_count": 66,
   "metadata": {
    "collapsed": false
   },
   "outputs": [
    {
     "data": {
      "text/plain": [
       "(4950, 12)"
      ]
     },
     "execution_count": 66,
     "metadata": {},
     "output_type": "execute_result"
    }
   ],
   "source": [
    "df_sim.shape"
   ]
  },
  {
   "cell_type": "code",
   "execution_count": 67,
   "metadata": {
    "collapsed": false
   },
   "outputs": [
    {
     "data": {
      "text/plain": [
       "(4950, 4)"
      ]
     },
     "execution_count": 67,
     "metadata": {},
     "output_type": "execute_result"
    }
   ],
   "source": [
    "df_cos_text.shape"
   ]
  },
  {
   "cell_type": "code",
   "execution_count": 68,
   "metadata": {
    "collapsed": false
   },
   "outputs": [
    {
     "data": {
      "text/plain": [
       "(4950, 4)"
      ]
     },
     "execution_count": 68,
     "metadata": {},
     "output_type": "execute_result"
    }
   ],
   "source": [
    "df_jac_text.shape"
   ]
  },
  {
   "cell_type": "code",
   "execution_count": 69,
   "metadata": {
    "collapsed": false
   },
   "outputs": [
    {
     "data": {
      "text/plain": [
       "(4950, 4)"
      ]
     },
     "execution_count": 69,
     "metadata": {},
     "output_type": "execute_result"
    }
   ],
   "source": [
    "df_jac_links.shape"
   ]
  },
  {
   "cell_type": "code",
   "execution_count": null,
   "metadata": {
    "collapsed": true
   },
   "outputs": [],
   "source": []
  }
 ],
 "metadata": {
  "anaconda-cloud": {},
  "kernelspec": {
   "display_name": "Python [conda root]",
   "language": "python",
   "name": "conda-root-py"
  },
  "language_info": {
   "codemirror_mode": {
    "name": "ipython",
    "version": 3
   },
   "file_extension": ".py",
   "mimetype": "text/x-python",
   "name": "python",
   "nbconvert_exporter": "python",
   "pygments_lexer": "ipython3",
   "version": "3.5.2"
  }
 },
 "nbformat": 4,
 "nbformat_minor": 1
}
