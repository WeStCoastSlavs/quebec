{
 "cells": [
  {
   "cell_type": "code",
   "execution_count": null,
   "metadata": {
    "collapsed": false
   },
   "outputs": [],
   "source": [
    "d1 = \"this is a text about web science\".split(\" \")\n",
    "d2 = \"web science is covering the analysis of text corpora\".split(\" \")\n",
    "d3 = \"scientific methods are used to analyze webpages\".split(\" \")"
   ]
  },
  {
   "cell_type": "code",
   "execution_count": null,
   "metadata": {
    "collapsed": false
   },
   "outputs": [],
   "source": [
    "sve = d1.copy()\n",
    "sve.extend(d2)\n",
    "sve.extend(d3)\n",
    "sve = set(sve)"
   ]
  },
  {
   "cell_type": "code",
   "execution_count": null,
   "metadata": {
    "collapsed": false
   },
   "outputs": [],
   "source": [
    "len(sve)"
   ]
  },
  {
   "cell_type": "code",
   "execution_count": null,
   "metadata": {
    "collapsed": false
   },
   "outputs": [],
   "source": [
    "def brojac(d1):\n",
    "    d1_dic = {}\n",
    "    for elem in sve:\n",
    "#         print(elem)\n",
    "        if elem in d1:\n",
    "#             print(d1)\n",
    "            d1_dic[elem] = 1\n",
    "        else:\n",
    "            d1_dic[elem] = 0\n",
    "    return d1_dic\n",
    "d1_dict = brojac(d1)\n",
    "d2_dict = brojac(d2)\n",
    "d3_dict = brojac(d3)"
   ]
  },
  {
   "cell_type": "code",
   "execution_count": null,
   "metadata": {
    "collapsed": false
   },
   "outputs": [],
   "source": [
    "print(d1_dict)\n",
    "print(d2_dict)"
   ]
  },
  {
   "cell_type": "code",
   "execution_count": null,
   "metadata": {
    "collapsed": true
   },
   "outputs": [],
   "source": [
    "def scalar(d1, d2):\n",
    "    suma = 0\n",
    "    for k,v in d1.items():\n",
    "        suma += v * d2[k]\n",
    "    return suma"
   ]
  },
  {
   "cell_type": "code",
   "execution_count": null,
   "metadata": {
    "collapsed": true
   },
   "outputs": [],
   "source": [
    "from math import sqrt\n",
    "def euclidian_len(d1):\n",
    "    return sqrt(sum([v*v for k,v in d1.items()]))\n",
    "def cosine(d1, d2):\n",
    "    return (scalar(d1,d2)/(euclidian_len(d1)*euclidian_len(d2)))"
   ]
  },
  {
   "cell_type": "code",
   "execution_count": null,
   "metadata": {
    "collapsed": false
   },
   "outputs": [],
   "source": [
    "print(cosine(d1_dict, d2_dict))\n",
    "print(cosine(d1_dict, d3_dict))\n",
    "print(cosine(d3_dict, d2_dict))"
   ]
  },
  {
   "cell_type": "markdown",
   "metadata": {},
   "source": [
    "# Nova stvar"
   ]
  },
  {
   "cell_type": "code",
   "execution_count": null,
   "metadata": {
    "collapsed": false
   },
   "outputs": [],
   "source": [
    "import pandas as pd\n",
    "import re\n",
    "from collections import Counter\n",
    "from statistics import median, mean\n",
    "data = []\n",
    "with open('data.txt', 'r', encoding='utf-8') as f:\n",
    "    for line in f:\n",
    "        if line == \"\\n\": continue\n",
    "        data.append(line)\n",
    "df = pd.DataFrame(data, columns=['article'])\n",
    "# df['words'] = df['article'].apply(lambda x: re.findall(r'\\w+', x))\n",
    "# df['word_count'] = df['words'].apply(lambda x: len(x))\n",
    "# df = df.drop(df[df.word_count == 0].index)"
   ]
  },
  {
   "cell_type": "code",
   "execution_count": null,
   "metadata": {
    "collapsed": false
   },
   "outputs": [],
   "source": [
    "df['article'] = df['article'].apply(lambda x: x.lower())\n",
    "df['article'] = df['article'].apply(lambda x: \"\".join([p for p in x if p.isalpha() or p==\" \"]))\n",
    "df[\"counts\"] = df['article'].apply(lambda x: Counter(x))\n",
    "df['char_count'] = df['counts'].apply(lambda x: sum([v for k,v in x.items()]))\n",
    "# df['char_count'] = df['counts'].apply(lambda x: sum([v for k,v in x.items() if k.isalpha() or k==\" \"]))\n"
   ]
  },
  {
   "cell_type": "code",
   "execution_count": null,
   "metadata": {
    "collapsed": false
   },
   "outputs": [],
   "source": [
    "df.head()"
   ]
  },
  {
   "cell_type": "code",
   "execution_count": null,
   "metadata": {
    "collapsed": false
   },
   "outputs": [],
   "source": [
    "real_data = \" \".join(df[\"article\"].values)"
   ]
  },
  {
   "cell_type": "code",
   "execution_count": null,
   "metadata": {
    "collapsed": false
   },
   "outputs": [],
   "source": [
    "num_chars = sum(df['char_count'])\n"
   ]
  },
  {
   "cell_type": "code",
   "execution_count": null,
   "metadata": {
    "collapsed": false
   },
   "outputs": [],
   "source": [
    "with open(\"probabilities.py.txt\") as prob:\n",
    "    dump = []\n",
    "    for line in prob:\n",
    "        if line != \"\\n\":\n",
    "            dump.append(line[:-1])"
   ]
  },
  {
   "cell_type": "code",
   "execution_count": null,
   "metadata": {
    "collapsed": false
   },
   "outputs": [],
   "source": [
    "exec(dump[0])\n",
    "exec(dump[1])\n",
    "# zipf_probabilities, uniform_probabilities"
   ]
  },
  {
   "cell_type": "code",
   "execution_count": null,
   "metadata": {
    "collapsed": false
   },
   "outputs": [],
   "source": [
    "kumul_zipf = {}\n",
    "suma = 0\n",
    "for k,v in zipf_probabilities.items():\n",
    "    suma+= v\n",
    "    kumul_zipf[suma] = k\n",
    "kumul_unif = {}\n",
    "suma = 0\n",
    "for k,v in uniform_probabilities.items():\n",
    "    suma+= v\n",
    "    kumul_unif[suma] = k"
   ]
  },
  {
   "cell_type": "code",
   "execution_count": null,
   "metadata": {
    "collapsed": true
   },
   "outputs": [],
   "source": [
    "def find_next(num, lista):\n",
    "    for elem in lista:\n",
    "        if elem >= num:\n",
    "            return elem"
   ]
  },
  {
   "cell_type": "code",
   "execution_count": null,
   "metadata": {
    "collapsed": false
   },
   "outputs": [],
   "source": [
    "import random\n",
    "\n",
    "def generate_chars1(number, CDF_dict):\n",
    "    articles = \"\"\n",
    "    CDF = sorted(CDF_dict)\n",
    "    for i in range(0,number):\n",
    "        num = random.random()\n",
    "        elem = find_next(num, CDF)\n",
    "        letter = CDF_dict[elem]\n",
    "        articles += letter\n",
    "    return articles\n",
    "\n",
    "def generate_chars(number, CDF_dict):\n",
    "    CDF = sorted(CDF_dict)\n",
    "    return \"\".join(CDF_dict[find_next(random.random(), CDF)] for i in range(0,number))"
   ]
  },
  {
   "cell_type": "code",
   "execution_count": null,
   "metadata": {
    "collapsed": false
   },
   "outputs": [],
   "source": [
    "import time\n",
    "f = open('unif_data.txt', 'w')\n",
    "start = time.time()\n",
    "unif_data = generate_chars(num_chars, kumul_unif)\n",
    "end = time.time()\n",
    "print(\"Time taken : {}\".format(end - start))\n",
    "f.write(unif_data)\n",
    "f.close()\n",
    "f = open('zipf_data.txt', 'w')\n",
    "start = time.time()\n",
    "zipf_data = generate_chars(num_chars, kumul_zipf)\n",
    "end = time.time()\n",
    "print(\"Time taken : {}\".format(end - start))\n",
    "f.write(unif_data)\n",
    "f.close()"
   ]
  },
  {
   "cell_type": "code",
   "execution_count": null,
   "metadata": {
    "collapsed": false
   },
   "outputs": [],
   "source": [
    "unif_words = re.findall(r'\\w+', unif_data)\n",
    "zipf_words = re.findall(r'\\w+', zipf_data)"
   ]
  },
  {
   "cell_type": "code",
   "execution_count": null,
   "metadata": {
    "collapsed": true
   },
   "outputs": [],
   "source": [
    "unif_c = Counter(unif_words)\n",
    "zipf_c = Counter(zipf_words)"
   ]
  },
  {
   "cell_type": "code",
   "execution_count": null,
   "metadata": {
    "collapsed": true
   },
   "outputs": [],
   "source": [
    "words, frequencies_u = zip(*unif_c.most_common()) "
   ]
  },
  {
   "cell_type": "code",
   "execution_count": null,
   "metadata": {
    "collapsed": false
   },
   "outputs": [],
   "source": [
    "words, frequencies_z = zip(*zipf_c.most_common())    "
   ]
  },
  {
   "cell_type": "code",
   "execution_count": null,
   "metadata": {
    "collapsed": false
   },
   "outputs": [],
   "source": [
    "real_words = re.findall(r'\\w+', real_data)\n",
    "real_c = Counter(real_words)"
   ]
  },
  {
   "cell_type": "code",
   "execution_count": null,
   "metadata": {
    "collapsed": true
   },
   "outputs": [],
   "source": [
    "words, frequencies_r = zip(*real_c.most_common())   "
   ]
  },
  {
   "cell_type": "code",
   "execution_count": null,
   "metadata": {
    "collapsed": false
   },
   "outputs": [],
   "source": [
    "with open(\"generated.txt\", 'w') as g:\n",
    "    g.write(\"{}\".format(frequencies_u))\n",
    "    g.write('\\n')\n",
    "    g.write(\"{}\".format(frequencies_z))\n",
    "    g.write('\\n')\n",
    "    g.write(\"{}\".format(frequencies_r))\n",
    "    g.write('\\n')"
   ]
  },
  {
   "cell_type": "code",
   "execution_count": null,
   "metadata": {
    "collapsed": false,
    "scrolled": true
   },
   "outputs": [],
   "source": [
    "# freqencies = list(map(lambda x: x**np.e, list(frequencies)))\n",
    "import matplotlib.pyplot as plt\n",
    "# plt.axis([0, 10**6], [0, 10**7])\n",
    "plt.loglog([i for i in range(0,len(frequencies_z))], frequencies_z, label='Zipf')\n",
    "plt.loglog([i for i in range(0,len(frequencies_r))], frequencies_r, color='red', label=\"Real\")\n",
    "plt.loglog([i for i in range(0,len(frequencies_u))], frequencies_u, color='green', label=\"Uniform\")\n",
    "plt.xlabel('Word rank')\n",
    "plt.ylabel('Word frequency')\n",
    "plt.legend(loc='upper right')\n",
    "plt.show()"
   ]
  },
  {
   "cell_type": "code",
   "execution_count": null,
   "metadata": {
    "collapsed": false
   },
   "outputs": [],
   "source": [
    "import numpy as np\n",
    "freq_r_sum = sum(frequencies_r)\n",
    "frequencies_cum_r = list(map(lambda x: x/freq_r_sum, frequencies_r))\n",
    "frequencies_cum_r = np.cumsum(frequencies_cum_r)"
   ]
  },
  {
   "cell_type": "code",
   "execution_count": null,
   "metadata": {
    "collapsed": false
   },
   "outputs": [],
   "source": [
    "freq_z_sum = sum(frequencies_z)\n",
    "frequencies_cum_z = list(map(lambda x: x/freq_z_sum, frequencies_z))\n",
    "frequencies_cum_z = np.cumsum(frequencies_cum_z)\n",
    "freq_u_sum = sum(frequencies_u)\n",
    "frequencies_cum_u = list(map(lambda x: x/freq_u_sum, frequencies_u))\n",
    "frequencies_cum_u = np.cumsum(frequencies_cum_u)"
   ]
  },
  {
   "cell_type": "code",
   "execution_count": null,
   "metadata": {
    "collapsed": false
   },
   "outputs": [],
   "source": [
    "dist_r_z = np.absolute(np.subtract(frequencies_cum_r, frequencies_cum_z[:len(frequencies_cum_r)]))\n",
    "max_dist_r_z = max(dist_r_z)\n",
    "max_index_r_z = np.where(dist_r_z == max_dist_r_z)\n",
    "max_index_r_z = max_index_r_z[0][0]"
   ]
  },
  {
   "cell_type": "code",
   "execution_count": null,
   "metadata": {
    "collapsed": false
   },
   "outputs": [],
   "source": [
    "dist_r_u = np.absolute(np.subtract(frequencies_cum_r, frequencies_cum_u[:len(frequencies_cum_r)]))\n",
    "max_dist_r_u = max(dist_r_u)\n",
    "max_index_r_u = np.where(dist_r_u == max_dist_r_u)\n",
    "max_index_r_u = max_index_r_u[0][0]"
   ]
  },
  {
   "cell_type": "code",
   "execution_count": null,
   "metadata": {
    "collapsed": false
   },
   "outputs": [],
   "source": [
    "plt.semilogx([i for i in range(0,len(frequencies_cum_r))], frequencies_cum_r, 'r')\n",
    "plt.semilogx([i for i in range(0,len(frequencies_cum_u))], frequencies_cum_u, 'g')\n",
    "plt.semilogx([i for i in range(0,len(frequencies_cum_z))], frequencies_cum_z, 'b')\n",
    "# plt.plot([max_index_r_z,max_index_r_z], [0,1], 'b-')\n",
    "axes = plt.gca()\n",
    "# axes.set_xlim([xmin,xmax])\n",
    "axes.set_ylim([0,1])\n",
    "plt.show()"
   ]
  },
  {
   "cell_type": "code",
   "execution_count": null,
   "metadata": {
    "collapsed": false
   },
   "outputs": [],
   "source": []
  },
  {
   "cell_type": "code",
   "execution_count": null,
   "metadata": {
    "collapsed": true
   },
   "outputs": [],
   "source": []
  }
 ],
 "metadata": {
  "anaconda-cloud": {},
  "kernelspec": {
   "display_name": "Python [conda root]",
   "language": "python",
   "name": "conda-root-py"
  },
  "language_info": {
   "codemirror_mode": {
    "name": "ipython",
    "version": 3
   },
   "file_extension": ".py",
   "mimetype": "text/x-python",
   "name": "python",
   "nbconvert_exporter": "python",
   "pygments_lexer": "ipython3",
   "version": "3.5.2"
  }
 },
 "nbformat": 4,
 "nbformat_minor": 1
}
