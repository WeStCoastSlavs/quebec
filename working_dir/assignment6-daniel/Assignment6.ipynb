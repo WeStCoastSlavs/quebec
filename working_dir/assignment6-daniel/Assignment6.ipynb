{
 "cells": [
  {
   "cell_type": "code",
   "execution_count": 134,
   "metadata": {
    "collapsed": false
   },
   "outputs": [],
   "source": [
    "import pandas as pd\n",
    "import re\n",
    "from statistics import median, mean\n",
    "data = []\n",
    "with open('data.txt', 'r', encoding='utf-8') as f:\n",
    "    for line in f:\n",
    "        if line == \"\\n\": continue\n",
    "        data.append(line)\n",
    "df = pd.DataFrame(data, columns=['article'])"
   ]
  },
  {
   "cell_type": "code",
   "execution_count": 140,
   "metadata": {
    "collapsed": false
   },
   "outputs": [
    {
     "data": {
      "text/html": [
       "<div>\n",
       "<table border=\"1\" class=\"dataframe\">\n",
       "  <thead>\n",
       "    <tr style=\"text-align: right;\">\n",
       "      <th></th>\n",
       "      <th>article</th>\n",
       "      <th>lenght_char</th>\n",
       "      <th>sentences</th>\n",
       "      <th>words</th>\n",
       "      <th>word_len</th>\n",
       "      <th>word_count</th>\n",
       "      <th>word_avg_len</th>\n",
       "      <th>word_med_len</th>\n",
       "    </tr>\n",
       "  </thead>\n",
       "  <tbody>\n",
       "    <tr>\n",
       "      <th>0</th>\n",
       "      <td>April is the fourth month of the year, and com...</td>\n",
       "      <td>2065</td>\n",
       "      <td>27</td>\n",
       "      <td>[April, is, the, fourth, month, of, the, year,...</td>\n",
       "      <td>[5, 2, 3, 6, 5, 2, 3, 4, 3, 5, 7, 5, 3, 3, 2, ...</td>\n",
       "      <td>392</td>\n",
       "      <td>4.142857</td>\n",
       "      <td>4.0</td>\n",
       "    </tr>\n",
       "    <tr>\n",
       "      <th>1</th>\n",
       "      <td>August is the eighth month of the year in the ...</td>\n",
       "      <td>1521</td>\n",
       "      <td>18</td>\n",
       "      <td>[August, is, the, eighth, month, of, the, year...</td>\n",
       "      <td>[6, 2, 3, 6, 5, 2, 3, 4, 2, 3, 9, 8, 6, 7, 4, ...</td>\n",
       "      <td>277</td>\n",
       "      <td>4.361011</td>\n",
       "      <td>4.0</td>\n",
       "    </tr>\n",
       "    <tr>\n",
       "      <th>2</th>\n",
       "      <td>Art is an activity or creation by people that ...</td>\n",
       "      <td>3944</td>\n",
       "      <td>37</td>\n",
       "      <td>[Art, is, an, activity, or, creation, by, peop...</td>\n",
       "      <td>[3, 2, 2, 8, 2, 8, 2, 6, 4, 3, 10, 7, 2, 2, 10...</td>\n",
       "      <td>660</td>\n",
       "      <td>4.815152</td>\n",
       "      <td>4.0</td>\n",
       "    </tr>\n",
       "    <tr>\n",
       "      <th>3</th>\n",
       "      <td>A is the first letter of the English alphabet....</td>\n",
       "      <td>1474</td>\n",
       "      <td>20</td>\n",
       "      <td>[A, is, the, first, letter, of, the, English, ...</td>\n",
       "      <td>[1, 2, 3, 5, 6, 2, 3, 7, 8, 3, 5, 6, 1, 2, 4, ...</td>\n",
       "      <td>278</td>\n",
       "      <td>4.133094</td>\n",
       "      <td>4.0</td>\n",
       "    </tr>\n",
       "    <tr>\n",
       "      <th>4</th>\n",
       "      <td>Air is the Earth's atmosphere. Air around us i...</td>\n",
       "      <td>1081</td>\n",
       "      <td>23</td>\n",
       "      <td>[Air, is, the, Earth, s, atmosphere, Air, arou...</td>\n",
       "      <td>[3, 2, 3, 5, 1, 10, 3, 6, 2, 2, 1, 7, 2, 4, 5,...</td>\n",
       "      <td>205</td>\n",
       "      <td>4.087805</td>\n",
       "      <td>3.0</td>\n",
       "    </tr>\n",
       "  </tbody>\n",
       "</table>\n",
       "</div>"
      ],
      "text/plain": [
       "                                             article  lenght_char  sentences  \\\n",
       "0  April is the fourth month of the year, and com...         2065         27   \n",
       "1  August is the eighth month of the year in the ...         1521         18   \n",
       "2  Art is an activity or creation by people that ...         3944         37   \n",
       "3  A is the first letter of the English alphabet....         1474         20   \n",
       "4  Air is the Earth's atmosphere. Air around us i...         1081         23   \n",
       "\n",
       "                                               words  \\\n",
       "0  [April, is, the, fourth, month, of, the, year,...   \n",
       "1  [August, is, the, eighth, month, of, the, year...   \n",
       "2  [Art, is, an, activity, or, creation, by, peop...   \n",
       "3  [A, is, the, first, letter, of, the, English, ...   \n",
       "4  [Air, is, the, Earth, s, atmosphere, Air, arou...   \n",
       "\n",
       "                                            word_len  word_count  \\\n",
       "0  [5, 2, 3, 6, 5, 2, 3, 4, 3, 5, 7, 5, 3, 3, 2, ...         392   \n",
       "1  [6, 2, 3, 6, 5, 2, 3, 4, 2, 3, 9, 8, 6, 7, 4, ...         277   \n",
       "2  [3, 2, 2, 8, 2, 8, 2, 6, 4, 3, 10, 7, 2, 2, 10...         660   \n",
       "3  [1, 2, 3, 5, 6, 2, 3, 7, 8, 3, 5, 6, 1, 2, 4, ...         278   \n",
       "4  [3, 2, 3, 5, 1, 10, 3, 6, 2, 2, 1, 7, 2, 4, 5,...         205   \n",
       "\n",
       "   word_avg_len  word_med_len  \n",
       "0      4.142857           4.0  \n",
       "1      4.361011           4.0  \n",
       "2      4.815152           4.0  \n",
       "3      4.133094           4.0  \n",
       "4      4.087805           3.0  "
      ]
     },
     "execution_count": 140,
     "metadata": {},
     "output_type": "execute_result"
    }
   ],
   "source": [
    "df.head()"
   ]
  },
  {
   "cell_type": "code",
   "execution_count": 136,
   "metadata": {
    "collapsed": false
   },
   "outputs": [],
   "source": [
    "df['lenght_char'] = df['article'].apply(lambda x: len(x))\n",
    "df['sentences'] = df['article'].apply(lambda x: len(x.split('.')))\n",
    "df['words'] = df['article'].apply(lambda x: re.findall(r'\\w+', x))\n",
    "df['word_len'] = df['words'].apply(lambda x: [len(p) for p in x])\n",
    "df['word_count'] = df['words'].apply(lambda x: len(x))"
   ]
  },
  {
   "cell_type": "code",
   "execution_count": 138,
   "metadata": {
    "collapsed": false
   },
   "outputs": [
    {
     "data": {
      "text/html": [
       "<div>\n",
       "<table border=\"1\" class=\"dataframe\">\n",
       "  <thead>\n",
       "    <tr style=\"text-align: right;\">\n",
       "      <th></th>\n",
       "      <th>article</th>\n",
       "      <th>lenght_char</th>\n",
       "      <th>sentences</th>\n",
       "      <th>words</th>\n",
       "      <th>word_len</th>\n",
       "      <th>word_count</th>\n",
       "    </tr>\n",
       "  </thead>\n",
       "  <tbody>\n",
       "  </tbody>\n",
       "</table>\n",
       "</div>"
      ],
      "text/plain": [
       "Empty DataFrame\n",
       "Columns: [article, lenght_char, sentences, words, word_len, word_count]\n",
       "Index: []"
      ]
     },
     "execution_count": 138,
     "metadata": {},
     "output_type": "execute_result"
    }
   ],
   "source": [
    "df = df.drop(df[df.word_count == 0].index)"
   ]
  },
  {
   "cell_type": "code",
   "execution_count": 139,
   "metadata": {
    "collapsed": false
   },
   "outputs": [],
   "source": [
    "df['word_avg_len'] = df['word_len'].apply(lambda x: mean(x))\n",
    "df['word_med_len'] = df['word_len'].apply(lambda x: median(x))"
   ]
  },
  {
   "cell_type": "code",
   "execution_count": 141,
   "metadata": {
    "collapsed": false
   },
   "outputs": [
    {
     "data": {
      "text/plain": [
       "(117898, 8)"
      ]
     },
     "execution_count": 141,
     "metadata": {},
     "output_type": "execute_result"
    }
   ],
   "source": [
    "df.shape"
   ]
  },
  {
   "cell_type": "code",
   "execution_count": null,
   "metadata": {
    "collapsed": true
   },
   "outputs": [],
   "source": []
  }
 ],
 "metadata": {
  "anaconda-cloud": {},
  "kernelspec": {
   "display_name": "Python [conda root]",
   "language": "python",
   "name": "conda-root-py"
  },
  "language_info": {
   "codemirror_mode": {
    "name": "ipython",
    "version": 3
   },
   "file_extension": ".py",
   "mimetype": "text/x-python",
   "name": "python",
   "nbconvert_exporter": "python",
   "pygments_lexer": "ipython3",
   "version": "3.5.2"
  }
 },
 "nbformat": 4,
 "nbformat_minor": 1
}
