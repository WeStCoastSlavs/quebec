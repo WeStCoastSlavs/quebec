{
 "cells": [
  {
   "cell_type": "markdown",
   "metadata": {},
   "source": [
    "# Server"
   ]
  },
  {
   "cell_type": "code",
   "execution_count": null,
   "metadata": {
    "collapsed": true
   },
   "outputs": [],
   "source": [
    "import socket\n",
    " \n",
    "def Main():\n",
    "    host = \"localhost\"\n",
    "    port = 8080\n",
    "     \n",
    "    mySocket = socket.socket()\n",
    "    mySocket.bind((host,port))\n",
    "     \n",
    "    mySocket.listen(1)\n",
    "    conn, addr = mySocket.accept()\n",
    "    print (\"Connection from: \" + str(addr))\n",
    "    while True:\n",
    "        data = conn.recv(1024).decode()\n",
    "        if not data:\n",
    "                break\n",
    "        user_info = str(data).split('#')\n",
    "        data = 'Name: {}\\nAge: {}\\nMatrikelnummer: {}'.format(user_info[0],user_info[1],user_info[2])\n",
    "        conn.send(data.encode())\n",
    "             \n",
    "    conn.close()\n",
    "     \n",
    "if __name__ == '__main__':\n",
    "    Main()"
   ]
  },
  {
   "cell_type": "markdown",
   "metadata": {},
   "source": [
    "# Client"
   ]
  },
  {
   "cell_type": "code",
   "execution_count": null,
   "metadata": {
    "collapsed": true
   },
   "outputs": [],
   "source": [
    "import socket\n",
    " \n",
    "def Main():\n",
    "    host = 'localhost'\n",
    "    port = 8080\n",
    "\n",
    "    user_name = input('Insert your name: ')\n",
    "    user_age = input('Insert your age: ')\n",
    "    user_id = input('Insert your matrikelnummer: ')\n",
    "\n",
    "    mySocket = socket.socket()\n",
    "    mySocket.connect((host,port))\n",
    "\n",
    "\n",
    "    while message != 'quit':\n",
    "        message = '{}#{}#{}'.format(user_name, user_age, user_id)\n",
    "        mySocket.send(message.encode())\n",
    "        data = mySocket.recv(1024).decode()\n",
    "\n",
    "        print (data)\n",
    "\n",
    "    mySocket.close()\n",
    " \n",
    "if __name__ == '__main__':\n",
    "    Main()"
   ]
  }
 ],
 "metadata": {
  "anaconda-cloud": {},
  "kernelspec": {
   "display_name": "Python [conda root]",
   "language": "python",
   "name": "conda-root-py"
  },
  "language_info": {
   "codemirror_mode": {
    "name": "ipython",
    "version": 3.0
   },
   "file_extension": ".py",
   "mimetype": "text/x-python",
   "name": "python",
   "nbconvert_exporter": "python",
   "pygments_lexer": "ipython3",
   "version": "3.5.2"
  }
 },
 "nbformat": 4,
 "nbformat_minor": 0
}