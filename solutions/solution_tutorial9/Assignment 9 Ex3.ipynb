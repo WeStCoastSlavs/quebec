{
 "cells": [
  {
   "cell_type": "markdown",
   "metadata": {},
   "source": [
    "@author: Olga Zagovora, zagovora@uni-koblenz.de"
   ]
  },
  {
   "cell_type": "code",
   "execution_count": 1,
   "metadata": {
    "collapsed": false,
    "scrolled": true
   },
   "outputs": [
    {
     "data": {
      "text/html": [
       "<div>\n",
       "<table border=\"1\" class=\"dataframe\">\n",
       "  <thead>\n",
       "    <tr style=\"text-align: right;\">\n",
       "      <th></th>\n",
       "      <th>name</th>\n",
       "      <th>out_links</th>\n",
       "    </tr>\n",
       "  </thead>\n",
       "  <tbody>\n",
       "    <tr>\n",
       "      <th>0</th>\n",
       "      <td>German</td>\n",
       "      <td>[German_language, Country, Germany, Frank, Hol...</td>\n",
       "    </tr>\n",
       "    <tr>\n",
       "      <th>1</th>\n",
       "      <td>Coat_of_Arms_of_Germany_0bb4</td>\n",
       "      <td>[German_language, Germany, Flag_of_Germany_065...</td>\n",
       "    </tr>\n",
       "    <tr>\n",
       "      <th>2</th>\n",
       "      <td>Flag_of_Germany_0658</td>\n",
       "      <td>[German_language, Black, Red, Gold, Flag_of_Ge...</td>\n",
       "    </tr>\n",
       "    <tr>\n",
       "      <th>3</th>\n",
       "      <td>Das_Lied_der_Deutschen_3057</td>\n",
       "      <td>[Germany, Joseph_Haydn_fcd5, Hoffmann_von_Fall...</td>\n",
       "    </tr>\n",
       "    <tr>\n",
       "      <th>4</th>\n",
       "      <td>Map</td>\n",
       "      <td>[Earth, Photograph, Interpretation, Chart, Dra...</td>\n",
       "    </tr>\n",
       "    <tr>\n",
       "      <th>5</th>\n",
       "      <td>National_anthem</td>\n",
       "      <td>[Song, Country, Spain, National_anthem, List_o...</td>\n",
       "    </tr>\n",
       "    <tr>\n",
       "      <th>6</th>\n",
       "      <td>Official_language</td>\n",
       "      <td>[Language, Country, Government, Constitution, ...</td>\n",
       "    </tr>\n",
       "    <tr>\n",
       "      <th>7</th>\n",
       "      <td>Square_kilometre</td>\n",
       "      <td>[SI_ce77, Measurement, Area, Square_(geometry)...</td>\n",
       "    </tr>\n",
       "    <tr>\n",
       "      <th>8</th>\n",
       "      <td>German_language</td>\n",
       "      <td>[Wikipedia, West_Germanic_language_36dd, Indo-...</td>\n",
       "    </tr>\n",
       "    <tr>\n",
       "      <th>9</th>\n",
       "      <td>Geography</td>\n",
       "      <td>[Earth, Geography, Continent, Sea, River, Moun...</td>\n",
       "    </tr>\n",
       "    <tr>\n",
       "      <th>10</th>\n",
       "      <td>Population</td>\n",
       "      <td>[Number, Area, City, Population_density, Avera...</td>\n",
       "    </tr>\n",
       "    <tr>\n",
       "      <th>11</th>\n",
       "      <td>Nation</td>\n",
       "      <td>[Birth, Adjective, Belief, Vatican_City_edb3, ...</td>\n",
       "    </tr>\n",
       "    <tr>\n",
       "      <th>12</th>\n",
       "      <td>Capital_(city)</td>\n",
       "      <td>[City, Government, Country, State, Province, C...</td>\n",
       "    </tr>\n",
       "    <tr>\n",
       "      <th>13</th>\n",
       "      <td>World</td>\n",
       "      <td>[Wiktionary, Planet, Earth, Human, World, Univ...</td>\n",
       "    </tr>\n",
       "    <tr>\n",
       "      <th>14</th>\n",
       "      <td>Information</td>\n",
       "      <td>[English_language, Learn, Know, Understand, Ne...</td>\n",
       "    </tr>\n",
       "    <tr>\n",
       "      <th>15</th>\n",
       "      <td>Water</td>\n",
       "      <td>[Solid, Ice, Wiktionary, Mirror, Liquid, Earth...</td>\n",
       "    </tr>\n",
       "    <tr>\n",
       "      <th>16</th>\n",
       "      <td>Square_mile</td>\n",
       "      <td>[U.S._customary_units_c1a4, Area, Square_(geom...</td>\n",
       "    </tr>\n",
       "    <tr>\n",
       "      <th>17</th>\n",
       "      <td>Area</td>\n",
       "      <td>[Space, Material, Wood, Shape, Rectangle, Leng...</td>\n",
       "    </tr>\n",
       "    <tr>\n",
       "      <th>18</th>\n",
       "      <td>City</td>\n",
       "      <td>[Siena, Town_hall, Suburb, Government, Busines...</td>\n",
       "    </tr>\n",
       "    <tr>\n",
       "      <th>19</th>\n",
       "      <td>Horst_K%C3%B6hler_7544</td>\n",
       "      <td>[??, Horst_Koehler_7573, February_22, 1943, Po...</td>\n",
       "    </tr>\n",
       "    <tr>\n",
       "      <th>20</th>\n",
       "      <td>German_Empire_13a8</td>\n",
       "      <td>[North_German_Confederation_ced3, 1871, 1918, ...</td>\n",
       "    </tr>\n",
       "    <tr>\n",
       "      <th>21</th>\n",
       "      <td>Frank</td>\n",
       "      <td>[Middle_Ages_99b9, Franks, Anne_Frank_85bb, Se...</td>\n",
       "    </tr>\n",
       "    <tr>\n",
       "      <th>22</th>\n",
       "      <td>Holy_Roman_Empire_f314</td>\n",
       "      <td>[Roman_Empire_411e, German_language, Europe, C...</td>\n",
       "    </tr>\n",
       "    <tr>\n",
       "      <th>23</th>\n",
       "      <td>German_Democratic_Republic_b577</td>\n",
       "      <td>[DDR_(disambiguation)_e1f1, Allied_Occupation_...</td>\n",
       "    </tr>\n",
       "    <tr>\n",
       "      <th>24</th>\n",
       "      <td>Weimar_Republic_9fad</td>\n",
       "      <td>[German_Empire_13a8, 1919, 1933, Nazi_Germany_...</td>\n",
       "    </tr>\n",
       "    <tr>\n",
       "      <th>25</th>\n",
       "      <td>List_of_country_calling_codes</td>\n",
       "      <td>[Telephone, List_of_country_calling_codes, Uni...</td>\n",
       "    </tr>\n",
       "    <tr>\n",
       "      <th>26</th>\n",
       "      <td>Telephone</td>\n",
       "      <td>[Electricity, Tool, Wire, Radio, Wireless, 187...</td>\n",
       "    </tr>\n",
       "    <tr>\n",
       "      <th>27</th>\n",
       "      <td>Red</td>\n",
       "      <td>[English_language, Color, Edge, Rainbow, Prima...</td>\n",
       "    </tr>\n",
       "    <tr>\n",
       "      <th>28</th>\n",
       "      <td>Black</td>\n",
       "      <td>[Color, Formal, List_of_colors, Cyan, Magenta,...</td>\n",
       "    </tr>\n",
       "    <tr>\n",
       "      <th>29</th>\n",
       "      <td>Poland</td>\n",
       "      <td>[English_language, Flag_of_Poland_607c, Coat_o...</td>\n",
       "    </tr>\n",
       "    <tr>\n",
       "      <th>...</th>\n",
       "      <td>...</td>\n",
       "      <td>...</td>\n",
       "    </tr>\n",
       "    <tr>\n",
       "      <th>27463</th>\n",
       "      <td>843</td>\n",
       "      <td>[List_of_centuries, 8th_century, 9th_century, ...</td>\n",
       "    </tr>\n",
       "    <tr>\n",
       "      <th>27464</th>\n",
       "      <td>Berlin</td>\n",
       "      <td>[Flag, Coat_of_arms, Capital_(city), Area, Km?...</td>\n",
       "    </tr>\n",
       "    <tr>\n",
       "      <th>27465</th>\n",
       "      <td>Chorlton-cum-Hardy_f5b2</td>\n",
       "      <td>[Manchester, England, Chorlton-cum-Hardy_f5b2]</td>\n",
       "    </tr>\n",
       "    <tr>\n",
       "      <th>27466</th>\n",
       "      <td>Cnidaria</td>\n",
       "      <td>[Scientific_classification, Eukaryota, Animal,...</td>\n",
       "    </tr>\n",
       "    <tr>\n",
       "      <th>27467</th>\n",
       "      <td>Tomas_Garrigue_Masaryk_efa3</td>\n",
       "      <td>[7_March_3fb2, 1850, 14_September_0cf1, 1937, ...</td>\n",
       "    </tr>\n",
       "    <tr>\n",
       "      <th>27468</th>\n",
       "      <td>Treaty_of_Verdun_ab95</td>\n",
       "      <td>[843, Charlemagne, Charles_the_Bald_87f3, Trea...</td>\n",
       "    </tr>\n",
       "    <tr>\n",
       "      <th>27469</th>\n",
       "      <td>Politics</td>\n",
       "      <td>[Tribe, City, Country, Politician, Government,...</td>\n",
       "    </tr>\n",
       "    <tr>\n",
       "      <th>27470</th>\n",
       "      <td>Government</td>\n",
       "      <td>[Influence, Territory, Law, Country, State, Pr...</td>\n",
       "    </tr>\n",
       "    <tr>\n",
       "      <th>27471</th>\n",
       "      <td>Neon</td>\n",
       "      <td>[Gas, Chemical_element, Periodic_table, Air, E...</td>\n",
       "    </tr>\n",
       "    <tr>\n",
       "      <th>27472</th>\n",
       "      <td>Joachim_Sauer_1835</td>\n",
       "      <td>[19_April_fab8, 1949, Germany, Professor, Phys...</td>\n",
       "    </tr>\n",
       "    <tr>\n",
       "      <th>27473</th>\n",
       "      <td>1103</td>\n",
       "      <td>[List_of_centuries, 11th_century, 12th_century...</td>\n",
       "    </tr>\n",
       "    <tr>\n",
       "      <th>27474</th>\n",
       "      <td>Sharp</td>\n",
       "      <td>[Knife, Scissors, Opposite, Picture, Focus, Mu...</td>\n",
       "    </tr>\n",
       "    <tr>\n",
       "      <th>27475</th>\n",
       "      <td>Belgian_franc</td>\n",
       "      <td>[Money, Luxembourg_franc, Founder, 1848, Belgi...</td>\n",
       "    </tr>\n",
       "    <tr>\n",
       "      <th>27476</th>\n",
       "      <td>Peso</td>\n",
       "      <td>[Money, Countries, Argentina, Chile, Colombia,...</td>\n",
       "    </tr>\n",
       "    <tr>\n",
       "      <th>27477</th>\n",
       "      <td>Verscio</td>\n",
       "      <td>[Geographic_coordinate_system, List_of_countri...</td>\n",
       "    </tr>\n",
       "    <tr>\n",
       "      <th>27478</th>\n",
       "      <td>Intragna,_Switzerland_d4f3</td>\n",
       "      <td>[Geographic_coordinate_system, List_of_countri...</td>\n",
       "    </tr>\n",
       "    <tr>\n",
       "      <th>27479</th>\n",
       "      <td>Remetschwil</td>\n",
       "      <td>[Geographic_coordinate_system, List_of_countri...</td>\n",
       "    </tr>\n",
       "    <tr>\n",
       "      <th>27480</th>\n",
       "      <td>Stetten,_Aargau_de9b</td>\n",
       "      <td>[Geographic_coordinate_system, List_of_countri...</td>\n",
       "    </tr>\n",
       "    <tr>\n",
       "      <th>27481</th>\n",
       "      <td>Glastonbury_Festival_90b4</td>\n",
       "      <td>[Music, Festival, Glastonbury, England, Glasto...</td>\n",
       "    </tr>\n",
       "    <tr>\n",
       "      <th>27482</th>\n",
       "      <td>Classical_mythology</td>\n",
       "      <td>[Mythology, Polytheism, Ritual, Italy, Greek_m...</td>\n",
       "    </tr>\n",
       "    <tr>\n",
       "      <th>27483</th>\n",
       "      <td>1774</td>\n",
       "      <td>[List_of_centuries, 17th_century, 18th_century...</td>\n",
       "    </tr>\n",
       "    <tr>\n",
       "      <th>27484</th>\n",
       "      <td>1813</td>\n",
       "      <td>[List_of_centuries, 18th_century, 19th_century...</td>\n",
       "    </tr>\n",
       "    <tr>\n",
       "      <th>27485</th>\n",
       "      <td>Bambuco</td>\n",
       "      <td>[Music, Colombia, Europe, Waltz, Folk_music, A...</td>\n",
       "    </tr>\n",
       "    <tr>\n",
       "      <th>27487</th>\n",
       "      <td>Savings</td>\n",
       "      <td>[Savings]</td>\n",
       "    </tr>\n",
       "    <tr>\n",
       "      <th>27488</th>\n",
       "      <td>Siegess%C3%A4ule</td>\n",
       "      <td>[Berlin, 1864, Prussia, 2_September_bd51, 1873...</td>\n",
       "    </tr>\n",
       "    <tr>\n",
       "      <th>27489</th>\n",
       "      <td>1835</td>\n",
       "      <td>[List_of_centuries, 18th_century, 19th_century...</td>\n",
       "    </tr>\n",
       "    <tr>\n",
       "      <th>27493</th>\n",
       "      <td>Berlin_Hauptbahnhof_fb4d</td>\n",
       "      <td>[Railway_station, Germany, Berlin, May_26, 200...</td>\n",
       "    </tr>\n",
       "    <tr>\n",
       "      <th>27494</th>\n",
       "      <td>Ishy_Bilady_4131</td>\n",
       "      <td>[National_anthem, Song, Country, United_Arab_E...</td>\n",
       "    </tr>\n",
       "    <tr>\n",
       "      <th>27495</th>\n",
       "      <td>Pound_(currency)</td>\n",
       "      <td>[Cyprus, Egypt, Falkland_Islands_2644, Gibralt...</td>\n",
       "    </tr>\n",
       "    <tr>\n",
       "      <th>27496</th>\n",
       "      <td>Dave_Attell_cc7a</td>\n",
       "      <td>[January_18, 1965, United_States_09d4, Comedia...</td>\n",
       "    </tr>\n",
       "  </tbody>\n",
       "</table>\n",
       "<p>27493 rows × 2 columns</p>\n",
       "</div>"
      ],
      "text/plain": [
       "                                  name  \\\n",
       "0                               German   \n",
       "1         Coat_of_Arms_of_Germany_0bb4   \n",
       "2                 Flag_of_Germany_0658   \n",
       "3          Das_Lied_der_Deutschen_3057   \n",
       "4                                  Map   \n",
       "5                      National_anthem   \n",
       "6                    Official_language   \n",
       "7                     Square_kilometre   \n",
       "8                      German_language   \n",
       "9                            Geography   \n",
       "10                          Population   \n",
       "11                              Nation   \n",
       "12                      Capital_(city)   \n",
       "13                               World   \n",
       "14                         Information   \n",
       "15                               Water   \n",
       "16                         Square_mile   \n",
       "17                                Area   \n",
       "18                                City   \n",
       "19              Horst_K%C3%B6hler_7544   \n",
       "20                  German_Empire_13a8   \n",
       "21                               Frank   \n",
       "22              Holy_Roman_Empire_f314   \n",
       "23     German_Democratic_Republic_b577   \n",
       "24                Weimar_Republic_9fad   \n",
       "25       List_of_country_calling_codes   \n",
       "26                           Telephone   \n",
       "27                                 Red   \n",
       "28                               Black   \n",
       "29                              Poland   \n",
       "...                                ...   \n",
       "27463                              843   \n",
       "27464                           Berlin   \n",
       "27465          Chorlton-cum-Hardy_f5b2   \n",
       "27466                         Cnidaria   \n",
       "27467      Tomas_Garrigue_Masaryk_efa3   \n",
       "27468            Treaty_of_Verdun_ab95   \n",
       "27469                         Politics   \n",
       "27470                       Government   \n",
       "27471                             Neon   \n",
       "27472               Joachim_Sauer_1835   \n",
       "27473                             1103   \n",
       "27474                            Sharp   \n",
       "27475                    Belgian_franc   \n",
       "27476                             Peso   \n",
       "27477                          Verscio   \n",
       "27478       Intragna,_Switzerland_d4f3   \n",
       "27479                      Remetschwil   \n",
       "27480             Stetten,_Aargau_de9b   \n",
       "27481        Glastonbury_Festival_90b4   \n",
       "27482              Classical_mythology   \n",
       "27483                             1774   \n",
       "27484                             1813   \n",
       "27485                          Bambuco   \n",
       "27487                          Savings   \n",
       "27488                 Siegess%C3%A4ule   \n",
       "27489                             1835   \n",
       "27493         Berlin_Hauptbahnhof_fb4d   \n",
       "27494                 Ishy_Bilady_4131   \n",
       "27495                 Pound_(currency)   \n",
       "27496                 Dave_Attell_cc7a   \n",
       "\n",
       "                                               out_links  \n",
       "0      [German_language, Country, Germany, Frank, Hol...  \n",
       "1      [German_language, Germany, Flag_of_Germany_065...  \n",
       "2      [German_language, Black, Red, Gold, Flag_of_Ge...  \n",
       "3      [Germany, Joseph_Haydn_fcd5, Hoffmann_von_Fall...  \n",
       "4      [Earth, Photograph, Interpretation, Chart, Dra...  \n",
       "5      [Song, Country, Spain, National_anthem, List_o...  \n",
       "6      [Language, Country, Government, Constitution, ...  \n",
       "7      [SI_ce77, Measurement, Area, Square_(geometry)...  \n",
       "8      [Wikipedia, West_Germanic_language_36dd, Indo-...  \n",
       "9      [Earth, Geography, Continent, Sea, River, Moun...  \n",
       "10     [Number, Area, City, Population_density, Avera...  \n",
       "11     [Birth, Adjective, Belief, Vatican_City_edb3, ...  \n",
       "12     [City, Government, Country, State, Province, C...  \n",
       "13     [Wiktionary, Planet, Earth, Human, World, Univ...  \n",
       "14     [English_language, Learn, Know, Understand, Ne...  \n",
       "15     [Solid, Ice, Wiktionary, Mirror, Liquid, Earth...  \n",
       "16     [U.S._customary_units_c1a4, Area, Square_(geom...  \n",
       "17     [Space, Material, Wood, Shape, Rectangle, Leng...  \n",
       "18     [Siena, Town_hall, Suburb, Government, Busines...  \n",
       "19     [??, Horst_Koehler_7573, February_22, 1943, Po...  \n",
       "20     [North_German_Confederation_ced3, 1871, 1918, ...  \n",
       "21     [Middle_Ages_99b9, Franks, Anne_Frank_85bb, Se...  \n",
       "22     [Roman_Empire_411e, German_language, Europe, C...  \n",
       "23     [DDR_(disambiguation)_e1f1, Allied_Occupation_...  \n",
       "24     [German_Empire_13a8, 1919, 1933, Nazi_Germany_...  \n",
       "25     [Telephone, List_of_country_calling_codes, Uni...  \n",
       "26     [Electricity, Tool, Wire, Radio, Wireless, 187...  \n",
       "27     [English_language, Color, Edge, Rainbow, Prima...  \n",
       "28     [Color, Formal, List_of_colors, Cyan, Magenta,...  \n",
       "29     [English_language, Flag_of_Poland_607c, Coat_o...  \n",
       "...                                                  ...  \n",
       "27463  [List_of_centuries, 8th_century, 9th_century, ...  \n",
       "27464  [Flag, Coat_of_arms, Capital_(city), Area, Km?...  \n",
       "27465     [Manchester, England, Chorlton-cum-Hardy_f5b2]  \n",
       "27466  [Scientific_classification, Eukaryota, Animal,...  \n",
       "27467  [7_March_3fb2, 1850, 14_September_0cf1, 1937, ...  \n",
       "27468  [843, Charlemagne, Charles_the_Bald_87f3, Trea...  \n",
       "27469  [Tribe, City, Country, Politician, Government,...  \n",
       "27470  [Influence, Territory, Law, Country, State, Pr...  \n",
       "27471  [Gas, Chemical_element, Periodic_table, Air, E...  \n",
       "27472  [19_April_fab8, 1949, Germany, Professor, Phys...  \n",
       "27473  [List_of_centuries, 11th_century, 12th_century...  \n",
       "27474  [Knife, Scissors, Opposite, Picture, Focus, Mu...  \n",
       "27475  [Money, Luxembourg_franc, Founder, 1848, Belgi...  \n",
       "27476  [Money, Countries, Argentina, Chile, Colombia,...  \n",
       "27477  [Geographic_coordinate_system, List_of_countri...  \n",
       "27478  [Geographic_coordinate_system, List_of_countri...  \n",
       "27479  [Geographic_coordinate_system, List_of_countri...  \n",
       "27480  [Geographic_coordinate_system, List_of_countri...  \n",
       "27481  [Music, Festival, Glastonbury, England, Glasto...  \n",
       "27482  [Mythology, Polytheism, Ritual, Italy, Greek_m...  \n",
       "27483  [List_of_centuries, 17th_century, 18th_century...  \n",
       "27484  [List_of_centuries, 18th_century, 19th_century...  \n",
       "27485  [Music, Colombia, Europe, Waltz, Folk_music, A...  \n",
       "27487                                          [Savings]  \n",
       "27488  [Berlin, 1864, Prussia, 2_September_bd51, 1873...  \n",
       "27489  [List_of_centuries, 18th_century, 19th_century...  \n",
       "27493  [Railway_station, Germany, Berlin, May_26, 200...  \n",
       "27494  [National_anthem, Song, Country, United_Arab_E...  \n",
       "27495  [Cyprus, Egypt, Falkland_Islands_2644, Gibralt...  \n",
       "27496  [January_18, 1965, United_States_09d4, Comedia...  \n",
       "\n",
       "[27493 rows x 2 columns]"
      ]
     },
     "execution_count": 1,
     "metadata": {},
     "output_type": "execute_result"
    }
   ],
   "source": [
    "from pandas import read_hdf\n",
    "\n",
    "# Read the data set, remove some duplicate rows, and set index.\n",
    "df = read_hdf(\"../8/store2.h5\", \"df2\")\n",
    "df.drop_duplicates(\"name\", inplace=True)\n",
    "df"
   ]
  },
  {
   "cell_type": "code",
   "execution_count": 3,
   "metadata": {
    "collapsed": false
   },
   "outputs": [],
   "source": [
    "#create dictionaries with mapping of indeces to names and vice versa\n",
    "ind_name=df.name.to_dict()# index- key, name - value\n",
    "name_ind={v:k for k,v in ind_name.iteritems()}\n",
    "\n",
    "dict_links=df.out_links.to_dict()"
   ]
  },
  {
   "cell_type": "code",
   "execution_count": 29,
   "metadata": {
    "collapsed": false
   },
   "outputs": [],
   "source": [
    "from IPython.lib import backgroundjobs as bg\n",
    "\n",
    "def coolest_progress_bar(seq,every=10):\n",
    "    #seq=list(seq.keys())\n",
    "    from ipywidgets import IntProgress, HTML, VBox\n",
    "    from IPython.display import display\n",
    "    progress = IntProgress(min=0,max=len(seq), value=0)\n",
    "    progress.bar_style = 'info'\n",
    "    label = HTML()\n",
    "    box = VBox(children=[label, progress])\n",
    "    display(box)\n",
    "    try:\n",
    "        for i, item in enumerate(seq,1):\n",
    "            if i== 1 or i % every == 0:\n",
    "                progress.value = i\n",
    "                label.value = '{index} / {size}'.format(index=i,size=len(seq))\n",
    "            yield item\n",
    "    except:\n",
    "        progress.bar_style = 'danger'\n",
    "        raise\n",
    "    else:\n",
    "        progress.bar_style = 'success'\n",
    "        progress.value = i\n",
    "        label.value = str(i)\n",
    "\n",
    "\n",
    "    \n",
    "import pickle\n",
    "import os.path\n",
    "\n",
    "def do_smth2(d):\n",
    "    a=[]\n",
    "    for k,i in d:\n",
    "        a.extend([(k,name_ind[v]) for v in i if v in name_ind.keys()])\n",
    "    for i in range(40):\n",
    "        if os.path.isfile(\"col%i.json\"%i):\n",
    "            next\n",
    "        else:\n",
    "            with open(\"col%i.json\"%i, 'wb') as fp:\n",
    "                pickle.dump(a, fp)\n",
    "            break  \n",
    "\n",
    "slice_1={k:v for k,v in dict_links.items()[0:100]}\n",
    "slice_2={k:v for k,v in dict_links.items()[101:200]}\n",
    "slice_3={k:v for k,v in dict_links.items()[201:300]}"
   ]
  },
  {
   "cell_type": "code",
   "execution_count": 30,
   "metadata": {
    "collapsed": false
   },
   "outputs": [
    {
     "name": "stdout",
     "output_type": "stream",
     "text": [
      "Starting job # 0 in a separate thread.\n"
     ]
    },
    {
     "data": {
      "text/plain": [
       "<BackgroundJob #0: <function do_smth2 at 0x00000000117E5E48>>"
      ]
     },
     "execution_count": 30,
     "metadata": {},
     "output_type": "execute_result"
    }
   ],
   "source": [
    "jobs=bg.BackgroundJobManager()    \n",
    "jobs.new(do_smth2,coolest_progress_bar(slice_1.items(), every=10))\n"
   ]
  },
  {
   "cell_type": "code",
   "execution_count": 31,
   "metadata": {
    "collapsed": false
   },
   "outputs": [
    {
     "name": "stdout",
     "output_type": "stream",
     "text": [
      "Starting job # 2 in a separate thread.\n"
     ]
    },
    {
     "data": {
      "text/plain": [
       "<BackgroundJob #2: <function do_smth2 at 0x00000000117E5E48>>"
      ]
     },
     "execution_count": 31,
     "metadata": {},
     "output_type": "execute_result"
    }
   ],
   "source": [
    "jobs.new(do_smth2,coolest_progress_bar(slice_2.items(), every=10))"
   ]
  },
  {
   "cell_type": "code",
   "execution_count": 32,
   "metadata": {
    "collapsed": false
   },
   "outputs": [
    {
     "name": "stdout",
     "output_type": "stream",
     "text": [
      "Starting job # 3 in a separate thread.\n"
     ]
    },
    {
     "data": {
      "text/plain": [
       "<BackgroundJob #3: <function do_smth2 at 0x00000000117E5E48>>"
      ]
     },
     "execution_count": 32,
     "metadata": {},
     "output_type": "execute_result"
    }
   ],
   "source": [
    "jobs.new(do_smth2,coolest_progress_bar(slice_3.items(), every=10))"
   ]
  },
  {
   "cell_type": "code",
   "execution_count": 34,
   "metadata": {
    "collapsed": true
   },
   "outputs": [],
   "source": [
    "def do_smth3(d):\n",
    "    a=[]\n",
    "    for k,i in d:\n",
    "        a.extend([(k,name_ind[v]) for v in i if v in name_ind.keys()])\n",
    "    #return a\n",
    "    for i in range(40):\n",
    "        if os.path.isfile(\"col%i.json\"%i):\n",
    "            next\n",
    "        else:\n",
    "            with open(\"col%i.json\"%i, 'wb') as fp:\n",
    "                pickle.dump(a, fp)\n",
    "            break \n"
   ]
  },
  {
   "cell_type": "code",
   "execution_count": 49,
   "metadata": {
    "collapsed": false
   },
   "outputs": [
    {
     "name": "stdout",
     "output_type": "stream",
     "text": [
      "Starting job # 4 in a separate thread.\n",
      "Starting job # 5 in a separate thread.\n",
      "Starting job # 6 in a separate thread.\n"
     ]
    }
   ],
   "source": [
    "slice_4={k:v for k,v in dict_links.items()[301:4000]}\n",
    "slice_5={k:v for k,v in dict_links.items()[4001:8000]}\n",
    "slice_6={k:v for k,v in dict_links.items()[8001:16000]}\n",
    "chunks=[slice_4,slice_5,slice_6]\n",
    "\n",
    "#jobs=bg.BackgroundJobManager()\n",
    "\n",
    "for chunk in chunks:\n",
    "    jobs.new(do_smth3,coolest_progress_bar(chunk.items(), every=10))"
   ]
  },
  {
   "cell_type": "code",
   "execution_count": 50,
   "metadata": {
    "collapsed": false
   },
   "outputs": [
    {
     "name": "stdout",
     "output_type": "stream",
     "text": [
      "Running jobs:\n",
      "4 : <function do_smth3 at 0x000000000AA1DBA8>\n",
      "5 : <function do_smth3 at 0x000000000AA1DBA8>\n",
      "6 : <function do_smth3 at 0x000000000AA1DBA8>\n",
      "\n",
      "Completed jobs:\n",
      "0 : <function do_smth2 at 0x00000000117E5E48>\n",
      "2 : <function do_smth2 at 0x00000000117E5E48>\n",
      "3 : <function do_smth2 at 0x00000000117E5E48>\n",
      "\n"
     ]
    }
   ],
   "source": [
    "jobs.status()"
   ]
  },
  {
   "cell_type": "code",
   "execution_count": 51,
   "metadata": {
    "collapsed": false
   },
   "outputs": [
    {
     "name": "stdout",
     "output_type": "stream",
     "text": [
      "Starting job # 7 in a separate thread.\n"
     ]
    },
    {
     "data": {
      "text/plain": [
       "<BackgroundJob #7: <function do_smth3 at 0x000000000AA1DBA8>>"
      ]
     },
     "execution_count": 51,
     "metadata": {},
     "output_type": "execute_result"
    }
   ],
   "source": [
    "slice_7={k:v for k,v in dict_links.items()[16001:]}\n",
    "jobs.new(do_smth3,coolest_progress_bar(slice_7.items(), every=500))"
   ]
  },
  {
   "cell_type": "code",
   "execution_count": 52,
   "metadata": {
    "collapsed": false,
    "scrolled": true
   },
   "outputs": [
    {
     "name": "stdout",
     "output_type": "stream",
     "text": [
      "703517\n"
     ]
    }
   ],
   "source": [
    "#read\n",
    "import pickle\n",
    "\n",
    "itemlist=[]\n",
    "for i in range(10):\n",
    "    if os.path.isfile(\"col%i.json\"%i):\n",
    "        with open(\"col%i.json\"%i, 'rb') as fp:\n",
    "            itemlist.extend(pickle.load(fp))\n",
    "    else:\n",
    "        break  \n",
    "print len(itemlist)\n",
    "#with open ('col0.json', 'rb') as fp:\n",
    "#    itemlist1 = pickle.load(fp)\n",
    "#with open ('col1.json', 'rb') as fp:\n",
    "#    itemlist2 = pickle.load(fp) \n",
    "#with open ('col2.json', 'rb') as fp:\n",
    "#    itemlist2 = pickle.load(fp) \n",
    "#all_list=itemlist1+itemlist2+itemlist3\n"
   ]
  },
  {
   "cell_type": "code",
   "execution_count": 7,
   "metadata": {
    "collapsed": false
   },
   "outputs": [],
   "source": [
    "#===fastest\n",
    "#def list_indices(d):\n",
    "#    return [(k,name_ind[v]) for k,i in d.iteritems() for v in i if v in name_ind.keys()]\n",
    "#n1=0\n",
    "#n2=1000\n",
    "#slice_all={k:v for k,v in dict_links.items()[n1:n2]}\n",
    "#lt=list_indices(slice_all)\n"
   ]
  },
  {
   "cell_type": "markdown",
   "metadata": {},
   "source": [
    "# Create Sparse matrix"
   ]
  },
  {
   "cell_type": "code",
   "execution_count": 53,
   "metadata": {
    "collapsed": false,
    "scrolled": true
   },
   "outputs": [],
   "source": [
    "#append to resulting list\n",
    "full_list=[]\n",
    "#full_list.extend(lt)\n",
    "full_list.extend(itemlist)\n",
    "\n",
    "import scipy.sparse as sp\n",
    "import numpy as np\n",
    "\n",
    "row_index,col_index =zip(*full_list)\n",
    "max_index=np.max([np.max(row_index),np.max(col_index)])\n",
    "A=sp.csr_matrix(([1]*len(row_index),(row_index, col_index)), shape=(max_index+1,max_index+1),dtype=np.int8)\n",
    "#A.A #matrix"
   ]
  },
  {
   "cell_type": "markdown",
   "metadata": {},
   "source": [
    "# Breadth first search "
   ]
  },
  {
   "cell_type": "code",
   "execution_count": 54,
   "metadata": {
    "collapsed": false
   },
   "outputs": [
    {
     "data": {
      "text/plain": [
       "array([[ 2.,  1.,  3., ...,  3.,  3.,  3.]])"
      ]
     },
     "execution_count": 54,
     "metadata": {},
     "output_type": "execute_result"
    }
   ],
   "source": [
    "import numpy as np\n",
    "from itertools import compress\n",
    "\n",
    "def bfs_vector(A, start_node):\n",
    "    BFSvector=sp.csr_matrix((max(A.shape),1))\n",
    "    BFSvector[0:max(A.shape)]=float(\"inf\")\n",
    "    #BFSvector[start_node]=0\n",
    "    v=sp.csr_matrix((max(A.shape), 1))\n",
    "    v[start_node]=1\n",
    "    for i in range(1,max(A.shape)):\n",
    "        v=A*v\n",
    "        f_bool=np.isfinite(BFSvector.data)\n",
    "        num=list(set(v.nonzero()[0])- set(compress(xrange(len(f_bool)),f_bool)))#return indeces\n",
    "        if len(num) == 0:\n",
    "            break\n",
    "        BFSvector[num]=i\n",
    "    return BFSvector.transpose().toarray()\n",
    "dist=bfs_vector(A, 1)\n",
    "dist\n",
    "\n"
   ]
  },
  {
   "cell_type": "markdown",
   "metadata": {},
   "source": [
    "# Check if the network is connected"
   ]
  },
  {
   "cell_type": "code",
   "execution_count": 55,
   "metadata": {
    "collapsed": false
   },
   "outputs": [
    {
     "data": {
      "text/plain": [
       "False"
      ]
     },
     "execution_count": 55,
     "metadata": {},
     "output_type": "execute_result"
    }
   ],
   "source": [
    "def check_connected(A):\n",
    "    if sum(sum(np.isinf(bfs_vector(A, 0))))>0:\n",
    "        return False\n",
    "    else:\n",
    "        return True\n",
    "\n",
    "check_connected(A)"
   ]
  },
  {
   "cell_type": "markdown",
   "metadata": {},
   "source": [
    "# Calculate Eccentricity"
   ]
  },
  {
   "cell_type": "code",
   "execution_count": 56,
   "metadata": {
    "collapsed": false
   },
   "outputs": [
    {
     "data": {
      "text/plain": [
       "inf"
      ]
     },
     "execution_count": 56,
     "metadata": {},
     "output_type": "execute_result"
    }
   ],
   "source": [
    "def Eccentricity(A, node):\n",
    "    return np.max(bfs_vector(A, node))\n",
    "Eccentricity(A, 3)"
   ]
  },
  {
   "cell_type": "markdown",
   "metadata": {},
   "source": [
    "# Calculate Diameter"
   ]
  },
  {
   "cell_type": "code",
   "execution_count": 57,
   "metadata": {
    "collapsed": false
   },
   "outputs": [
    {
     "data": {
      "text/plain": [
       "inf"
      ]
     },
     "execution_count": 57,
     "metadata": {},
     "output_type": "execute_result"
    }
   ],
   "source": [
    "def diameter(A):\n",
    "    if check_connected(A):\n",
    "        eccentricities=[Eccentricity(A, i) for i in range(max(A.shape))] \n",
    "        return np.max(eccentricities)\n",
    "    else:\n",
    "        return float(\"inf\")\n",
    "diameter(A)        "
   ]
  },
  {
   "cell_type": "code",
   "execution_count": 58,
   "metadata": {
    "collapsed": false
   },
   "outputs": [
    {
     "data": {
      "text/plain": [
       "(27497, 27497)"
      ]
     },
     "execution_count": 58,
     "metadata": {},
     "output_type": "execute_result"
    }
   ],
   "source": [
    "A.shape"
   ]
  },
  {
   "cell_type": "code",
   "execution_count": null,
   "metadata": {
    "collapsed": true
   },
   "outputs": [],
   "source": []
  },
  {
   "cell_type": "code",
   "execution_count": 43,
   "metadata": {
    "collapsed": false,
    "scrolled": false
   },
   "outputs": [
    {
     "data": {
      "text/plain": [
       "array([[1, 1, 1, 0, 0],\n",
       "       [0, 0, 0, 1, 0],\n",
       "       [1, 1, 1, 1, 1],\n",
       "       [1, 0, 0, 0, 0],\n",
       "       [0, 0, 0, 0, 0]], dtype=int8)"
      ]
     },
     "execution_count": 43,
     "metadata": {},
     "output_type": "execute_result"
    }
   ],
   "source": [
    "####### just experiment\n",
    "\n",
    "#csr_matrix\n",
    "import scipy.sparse as sp\n",
    "import numpy as np\n",
    "\n",
    "d={0:[0,1,2],1:[3],2:[1,2,3,0,4],3:[0]}\n",
    "\n",
    "row_index=[k for k,v in d.items() for j in range(len(v))]\n",
    "col_index=[v for i in d.values() for v in i]\n",
    "A=sp.csr_matrix(([1]*len(row_index),(row_index, col_index)), shape=(5,5),dtype=np.int8)\n",
    "\n",
    "#A*A.transpose()\n",
    "#A.A #matrix\n",
    "\n",
    "v=sp.csr_matrix((max(A.shape), 1))#, dtype=np.int8)\n",
    "v[0]=1\n",
    "v2=sp.csr_matrix((max(A.shape),1))\n",
    "v2[0:max(A.shape)]=float(\"inf\")\n",
    "from itertools import compress\n",
    "f_bool=np.isfinite(v2.data)\n",
    "f_bool=np.isfinite(v2.data)\n",
    "num=list(set(v.nonzero()[0])- set(compress(xrange(len(f_bool)),f_bool)))  \n",
    "\n",
    "A.A"
   ]
  },
  {
   "cell_type": "code",
   "execution_count": 213,
   "metadata": {
    "collapsed": false
   },
   "outputs": [
    {
     "data": {
      "text/plain": [
       "(4, 5)"
      ]
     },
     "execution_count": 213,
     "metadata": {},
     "output_type": "execute_result"
    }
   ],
   "source": [
    "print A.shape\n",
    "print num\n",
    "print v2.A"
   ]
  }
 ],
 "metadata": {
  "kernelspec": {
   "display_name": "Python 2",
   "language": "python",
   "name": "python2"
  },
  "language_info": {
   "codemirror_mode": {
    "name": "ipython",
    "version": 2
   },
   "file_extension": ".py",
   "mimetype": "text/x-python",
   "name": "python",
   "nbconvert_exporter": "python",
   "pygments_lexer": "ipython2",
   "version": "2.7.11"
  }
 },
 "nbformat": 4,
 "nbformat_minor": 0
}
