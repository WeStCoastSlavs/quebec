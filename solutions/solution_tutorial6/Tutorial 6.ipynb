{
 "cells": [
  {
   "cell_type": "markdown",
   "metadata": {
    "collapsed": true
   },
   "source": [
    "@Olga Zagovora, zagovora@uni-koblenz.de, 06.12.16"
   ]
  },
  {
   "cell_type": "markdown",
   "metadata": {
    "collapsed": true
   },
   "source": [
    "# Example of progress bars"
   ]
  },
  {
   "cell_type": "markdown",
   "metadata": {},
   "source": [
    "## Variant 1"
   ]
  },
  {
   "cell_type": "code",
   "execution_count": 1,
   "metadata": {
    "collapsed": true
   },
   "outputs": [],
   "source": [
    "#just write your own\n",
    "import sys\n",
    "def progress_bar(seq, every=10):\n",
    "    for i, item in enumerate(seq):\n",
    "        if i % every ==0:\n",
    "            print >>sys.stderr, i,\n",
    "        yield i"
   ]
  },
  {
   "cell_type": "code",
   "execution_count": 3,
   "metadata": {
    "collapsed": false,
    "scrolled": true
   },
   "outputs": [
    {
     "name": "stdout",
     "output_type": "stream",
     "text": [
      "a\n",
      "a\n",
      "a\n",
      "a\n",
      "a\n",
      "a\n",
      "a\n",
      "a\n",
      "a\n",
      "a"
     ]
    },
    {
     "name": "stderr",
     "output_type": "stream",
     "text": [
      " 0 "
     ]
    },
    {
     "name": "stdout",
     "output_type": "stream",
     "text": [
      "\n",
      "a\n",
      "a\n",
      "a\n",
      "a\n",
      "a\n",
      "a\n",
      "a\n",
      "a\n",
      "a\n",
      "a"
     ]
    },
    {
     "name": "stderr",
     "output_type": "stream",
     "text": [
      "10 "
     ]
    },
    {
     "name": "stdout",
     "output_type": "stream",
     "text": [
      "\n",
      "a\n",
      "a\n",
      "a\n",
      "a\n",
      "a\n",
      "a\n",
      "a\n",
      "a\n",
      "a\n",
      "a"
     ]
    },
    {
     "name": "stderr",
     "output_type": "stream",
     "text": [
      "20 "
     ]
    },
    {
     "name": "stdout",
     "output_type": "stream",
     "text": [
      "\n",
      "a\n",
      "a\n",
      "a\n",
      "a\n",
      "a\n",
      "a\n",
      "a\n",
      "a\n",
      "a\n",
      "a"
     ]
    },
    {
     "name": "stderr",
     "output_type": "stream",
     "text": [
      "30 "
     ]
    },
    {
     "name": "stdout",
     "output_type": "stream",
     "text": [
      "\n",
      "a\n",
      "a\n",
      "a\n",
      "a\n",
      "a\n",
      "a\n",
      "a\n",
      "a\n",
      "a\n",
      "a"
     ]
    },
    {
     "name": "stderr",
     "output_type": "stream",
     "text": [
      "40 "
     ]
    },
    {
     "name": "stdout",
     "output_type": "stream",
     "text": [
      "\n",
      "a\n",
      "a\n",
      "a\n",
      "a\n",
      "a\n",
      "a\n",
      "a\n",
      "a\n",
      "a\n",
      "a"
     ]
    },
    {
     "name": "stderr",
     "output_type": "stream",
     "text": [
      "50 "
     ]
    },
    {
     "name": "stdout",
     "output_type": "stream",
     "text": [
      "\n",
      "a\n",
      "a\n",
      "a\n",
      "a\n",
      "a\n",
      "a\n",
      "a\n",
      "a\n",
      "a\n",
      "a"
     ]
    },
    {
     "name": "stderr",
     "output_type": "stream",
     "text": [
      "60 "
     ]
    },
    {
     "name": "stdout",
     "output_type": "stream",
     "text": [
      "\n",
      "a\n",
      "a\n",
      "a\n",
      "a\n",
      "a\n",
      "a\n",
      "a\n",
      "a\n",
      "a\n",
      "a"
     ]
    },
    {
     "name": "stderr",
     "output_type": "stream",
     "text": [
      "70 "
     ]
    },
    {
     "name": "stdout",
     "output_type": "stream",
     "text": [
      "\n",
      "a\n",
      "a\n",
      "a\n",
      "a\n",
      "a\n",
      "a\n",
      "a\n",
      "a\n",
      "a\n",
      "a"
     ]
    },
    {
     "name": "stderr",
     "output_type": "stream",
     "text": [
      "80 "
     ]
    },
    {
     "name": "stdout",
     "output_type": "stream",
     "text": [
      "\n",
      "a\n",
      "a\n",
      "a\n",
      "a\n",
      "a\n",
      "a\n",
      "a\n",
      "a\n",
      "a\n",
      "a\n"
     ]
    },
    {
     "name": "stderr",
     "output_type": "stream",
     "text": [
      "90"
     ]
    }
   ],
   "source": [
    "#Example:\n",
    "import time\n",
    "\n",
    "all_urls=[\"a\"]*100\n",
    "for url in progress_bar(all_urls):\n",
    "    print \"a\"\n",
    "    time.sleep(0.1)\n",
    "    "
   ]
  },
  {
   "cell_type": "markdown",
   "metadata": {},
   "source": [
    "## Variant 2"
   ]
  },
  {
   "cell_type": "code",
   "execution_count": 5,
   "metadata": {
    "collapsed": true
   },
   "outputs": [],
   "source": [
    "#use incorporated progressbars\n",
    "import time\n",
    "def cool_progress_bar(seq,every=10):\n",
    "    from ipywidgets import IntProgress\n",
    "    from IPython.display import display\n",
    "    progress = IntProgress(min=0,max=len(seq), value=0)\n",
    "    display(progress)\n",
    "    \n",
    "    for i, item in enumerate(seq):\n",
    "        if i % every ==0:\n",
    "            progress.value=i\n",
    "        yield item"
   ]
  },
  {
   "cell_type": "code",
   "execution_count": 6,
   "metadata": {
    "collapsed": false,
    "scrolled": true
   },
   "outputs": [],
   "source": [
    "all_urls=[\"a\"]*1000\n",
    "for url in cool_progress_bar(all_urls, every=10):\n",
    "    #print url\n",
    "    time.sleep(0.01)"
   ]
  },
  {
   "cell_type": "markdown",
   "metadata": {},
   "source": [
    "For even more cooler stuff have a look at https://github.com/alexanderkuk/log-progress "
   ]
  },
  {
   "cell_type": "markdown",
   "metadata": {},
   "source": [
    "# Multithreading"
   ]
  },
  {
   "cell_type": "code",
   "execution_count": 7,
   "metadata": {
    "collapsed": false
   },
   "outputs": [],
   "source": [
    "def coolest_progress_bar(seq,every=10):\n",
    "    from ipywidgets import IntProgress, HTML, VBox\n",
    "    from IPython.display import display\n",
    "    progress = IntProgress(min=0,max=len(seq), value=0)\n",
    "    progress.bar_style = 'info'\n",
    "    label = HTML()\n",
    "    box = VBox(children=[label, progress])\n",
    "    display(box)\n",
    "    try:\n",
    "        for i, item in enumerate(seq,1):\n",
    "            if i== 1 or i % every == 0:\n",
    "                progress.value = i\n",
    "                label.value = '{index} / {size}'.format(index=i,size=len(seq))\n",
    "            yield item\n",
    "    except:\n",
    "        progress.bar_style = 'danger'\n",
    "        raise\n",
    "    else:\n",
    "        progress.bar_style = 'success'\n",
    "        progress.value = i\n",
    "        label.value = str(i)\n"
   ]
  },
  {
   "cell_type": "code",
   "execution_count": 12,
   "metadata": {
    "collapsed": false
   },
   "outputs": [
    {
     "name": "stdout",
     "output_type": "stream",
     "text": [
      "Starting job # 0 in a separate thread.\n",
      "Starting job # 2 in a separate thread.\n"
     ]
    },
    {
     "data": {
      "text/plain": [
       "<BackgroundJob #2: <function do_smth at 0x00000000044AD978>>"
      ]
     },
     "execution_count": 12,
     "metadata": {},
     "output_type": "execute_result"
    }
   ],
   "source": [
    "from IPython.lib import backgroundjobs as bg\n",
    "\n",
    "def do_smth(values):\n",
    "    for url in values:\n",
    "        time.sleep(0.1)\n",
    "\n",
    "all_urls=[\"a\"]*100\n",
    "jobs=bg.BackgroundJobManager()\n",
    "jobs.new(do_smth,coolest_progress_bar(all_urls, every=1))#name_of_function, parameter_of_function\n",
    "jobs.new(do_smth,coolest_progress_bar(all_urls, every=1))"
   ]
  },
  {
   "cell_type": "code",
   "execution_count": 10,
   "metadata": {
    "collapsed": false
   },
   "outputs": [
    {
     "name": "stdout",
     "output_type": "stream",
     "text": [
      "Running jobs:\n",
      "0 : <function do_smth at 0x00000000044ADE48>\n",
      "2 : <function do_smth at 0x00000000044ADE48>\n",
      "\n"
     ]
    }
   ],
   "source": [
    "jobs.status()"
   ]
  },
  {
   "cell_type": "markdown",
   "metadata": {},
   "source": [
    "# how to kill?"
   ]
  },
  {
   "cell_type": "code",
   "execution_count": 11,
   "metadata": {
    "collapsed": true
   },
   "outputs": [],
   "source": [
    "def kill_thread(thread):\n",
    "    import ctypes\n",
    "    id = thread.ident\n",
    "    code = ctypes.pythonapi.PyThreadState_SetAsyncExc(ctypes.c_long(id),ctypes.py_object(SystemError))\n",
    "    if code == 0:\n",
    "        raise ValueError('invalid thread id')\n",
    "    elif code != 1:\n",
    "        ctypes.pythonapi.PyThreadState_SetAsyncExc(ctypes.c_long(id),ctypes.c_long(0))\n",
    "        raise SystemError('PyThreadState_SetAsyncExc failed')"
   ]
  },
  {
   "cell_type": "code",
   "execution_count": 13,
   "metadata": {
    "collapsed": false
   },
   "outputs": [],
   "source": [
    "kill_thread(jobs.all[2])"
   ]
  },
  {
   "cell_type": "code",
   "execution_count": 14,
   "metadata": {
    "collapsed": false
   },
   "outputs": [],
   "source": [
    "for thread in jobs.running:\n",
    "    kill_thread(thread)"
   ]
  },
  {
   "cell_type": "markdown",
   "metadata": {},
   "source": [
    "# Chunks"
   ]
  },
  {
   "cell_type": "code",
   "execution_count": 15,
   "metadata": {
    "collapsed": false
   },
   "outputs": [
    {
     "name": "stdout",
     "output_type": "stream",
     "text": [
      "Starting job # 0 in a separate thread.\n",
      "Starting job # 2 in a separate thread.\n",
      "Starting job # 3 in a separate thread.\n"
     ]
    }
   ],
   "source": [
    "chunks=[all_urls[:33],all_urls[34:66],all_urls[67:]]\n",
    "\n",
    "jobs=bg.BackgroundJobManager()\n",
    "for chunk in chunks:\n",
    "    jobs.new(do_smth,coolest_progress_bar(all_urls, every=1))"
   ]
  },
  {
   "cell_type": "code",
   "execution_count": 12,
   "metadata": {
    "collapsed": false
   },
   "outputs": [
    {
     "name": "stdout",
     "output_type": "stream",
     "text": [
      "Starting job # 4 in a separate thread.\n",
      "Starting job # 5 in a separate thread.\n",
      "Starting job # 6 in a separate thread.\n",
      "Starting job # 7 in a separate thread.\n"
     ]
    }
   ],
   "source": [
    "def get_chunks(seq,number_of_chunks):\n",
    "    from itertools import repeat\n",
    "    \n",
    "    number_of_chunks=min(number_of_chunks,len(seq))\n",
    "    chunks=[[] for i in repeat(None, number_of_chunks)]\n",
    "    for i, item in enumerate(seq):\n",
    "        chunks[i % number_of_chunks].append(item) \n",
    "    return chunks\n",
    "\n",
    "for chunk in get_chunks(all_urls,4):\n",
    "    jobs.new(do_smth,coolest_progress_bar(all_urls, every=1))"
   ]
  },
  {
   "cell_type": "code",
   "execution_count": 1,
   "metadata": {
    "collapsed": false
   },
   "outputs": [
    {
     "name": "stdout",
     "output_type": "stream",
     "text": [
      "100000 loops, best of 3: 3.17 µs per loop\n",
      "100000 loops, best of 3: 2.73 µs per loop\n",
      "The slowest run took 8.95 times longer than the fastest. This could mean that an intermediate result is being cached.\n",
      "100000 loops, best of 3: 5.74 µs per loop\n"
     ]
    }
   ],
   "source": [
    "from itertools import repeat\n",
    "import numpy \n",
    "\n",
    "\n",
    "n=4\n",
    "%timeit d = [[] for i in repeat(None, n)]\n",
    "%timeit d = [[] for x in range(n)]\n",
    "%timeit d = numpy.empty((n, 0)).tolist()"
   ]
  },
  {
   "cell_type": "markdown",
   "metadata": {},
   "source": [
    "# But the global interpreter lock, or GIL!!!"
   ]
  },
  {
   "cell_type": "markdown",
   "metadata": {},
   "source": [
    "# Another example of multithreading"
   ]
  },
  {
   "cell_type": "code",
   "execution_count": 2,
   "metadata": {
    "collapsed": true
   },
   "outputs": [],
   "source": [
    "from IPython.display import display\n",
    "from ipywidgets import IntProgress\n",
    "\n",
    "import threading\n",
    "\n",
    "class App(object):\n",
    "    def __init__(self, nloops=2000):\n",
    "        self.nloops = nloops\n",
    "        self.pb = IntProgress(description='Thread loops', min=0, max=self.nloops)\n",
    "\n",
    "    def start(self):\n",
    "        display(self.pb)\n",
    "        while self.pb.value < self.nloops:\n",
    "            self.pb.value += 1 \n",
    "        self.pb.color = 'red'\n",
    "\n",
    "app = App(nloops=20000)\n",
    "\n",
    "t = threading.Thread(target=app.start)\n",
    "\n",
    "t.start()\n",
    "#t.join()"
   ]
  },
  {
   "cell_type": "code",
   "execution_count": null,
   "metadata": {
    "collapsed": true
   },
   "outputs": [],
   "source": []
  },
  {
   "cell_type": "code",
   "execution_count": null,
   "metadata": {
    "collapsed": true
   },
   "outputs": [],
   "source": []
  }
 ],
 "metadata": {
  "kernelspec": {
   "display_name": "Python 2",
   "language": "python",
   "name": "python2"
  },
  "language_info": {
   "codemirror_mode": {
    "name": "ipython",
    "version": 2
   },
   "file_extension": ".py",
   "mimetype": "text/x-python",
   "name": "python",
   "nbconvert_exporter": "python",
   "pygments_lexer": "ipython2",
   "version": "2.7.11"
  }
 },
 "nbformat": 4,
 "nbformat_minor": 0
}
