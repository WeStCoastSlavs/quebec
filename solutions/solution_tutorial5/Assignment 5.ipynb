{
 "cells": [
  {
   "cell_type": "markdown",
   "metadata": {
    "collapsed": true
   },
   "source": [
    "@Olga Zagovora, zagovora@uni-koblenz.de"
   ]
  },
  {
   "cell_type": "markdown",
   "metadata": {},
   "source": [
    "# Exercise 2"
   ]
  },
  {
   "cell_type": "code",
   "execution_count": 2,
   "metadata": {
    "collapsed": false
   },
   "outputs": [],
   "source": [
    "# -*- coding: utf-8 -*-\n",
    "\"\"\"\n",
    "Created on Mon Nov 21 23:42:35 2016\n",
    "\n",
    "@author: koroksengupta, olgazagvora\n",
    "\"\"\"\n",
    "\n",
    "import urllib2, urlparse\n",
    "import re\n",
    "import os\n",
    "\n",
    "def htmlextractor(url,save=False):\n",
    "    if url in visited:\n",
    "        return\n",
    "\n",
    "    global _webpage_count\n",
    "    global _link_count\n",
    "    visited.add(url)       \n",
    "    try:\n",
    "        response = urllib2.urlopen(url)\n",
    "    except urllib2.HTTPError:\n",
    "        #print 'HTTP Error',url\n",
    "        return\n",
    "    if response.getcode() == 200:\n",
    "        _webpage_count +=1\n",
    "        html = response.read()\n",
    "        links= set(re.findall('href=\"?\\'?([^\"\\'>]*)', html))\n",
    "        _link_count += len(links)\n",
    "        #%timeit [l for l in links if '//141.26.208.82/' in l]\n",
    "        #%timeit filter(lambda x: '//141.26.208.82/' in x, links)\n",
    "        #%timeit [l for l in links if '../'==l[:3]]\n",
    "        \n",
    "        internal_link = [l for l in links if '../'==l[:3]]\n",
    "        #internal_link.extend([l for l in links if (('//141.26.208.82/' in l) | ('/'==l[0]))])\n",
    "        external_link=set(links)-set(internal_link)\n",
    "        #print len(internal_link),len(external_link)\n",
    "        int_counter.append(len(internal_link))\n",
    "        ext_counter.append(len(external_link))\n",
    "        \n",
    "        \n",
    "        #slow solution\n",
    "        if save:\n",
    "            if \"http://141.26.208.82\" in url:\n",
    "                path_url=url.replace(\"http://141.26.208.82\",my_folder)\n",
    "            else:\n",
    "                path_url=os.path.normpath(my_folder+url)\n",
    "            directory=os.path.dirname(path_url)\n",
    "            if not os.path.exists(directory):\n",
    "                os.makedirs(directory)\n",
    "            with open(path_url,\"wb\") as outfile: #we have utf-8 encoding\n",
    "                outfile.write(html)\n",
    "\n",
    "        queue.extend(map(lambda e: urlparse.urljoin(url, e), internal_link))"
   ]
  },
  {
   "cell_type": "code",
   "execution_count": 5,
   "metadata": {
    "collapsed": false,
    "scrolled": true
   },
   "outputs": [
    {
     "name": "stdout",
     "output_type": "stream",
     "text": [
      "Pages: 1 links: 626\n"
     ]
    }
   ],
   "source": [
    "int_counter=[]\n",
    "ext_counter=[]\n",
    "\n",
    "links=[]\n",
    "visited = set()\n",
    "queue = []\n",
    "\n",
    "_webpage_count= 0\n",
    "_link_count = 0\n",
    "\n",
    "\n",
    "my_folder=\"D:/Uni/WS2016-2017/HiWi Job Intro to Web Science/Assignments/5/wiki2\"\n",
    "url = 'http://141.26.208.82/articles/g/e/r/Germany.html'\n",
    "queue.append(url)\n",
    "i=1\n",
    "while len(queue)>0:\n",
    "    url = queue.pop(0)\n",
    "    htmlextractor(url)\n",
    "    \n",
    "    #test\n",
    "    if i>0:\n",
    "        break\n",
    "        \n",
    "    if i % 10000==0:\n",
    "        print \"Pages:\",_webpage_count, \"links:\",_link_count\n",
    "    i+=1   "
   ]
  },
  {
   "cell_type": "markdown",
   "metadata": {},
   "source": [
    "## Experiments with timeit"
   ]
  },
  {
   "cell_type": "code",
   "execution_count": 6,
   "metadata": {
    "collapsed": false
   },
   "outputs": [
    {
     "name": "stdout",
     "output_type": "stream",
     "text": [
      "The slowest run took 8.09 times longer than the fastest. This could mean that an intermediate result is being cached.\n",
      "1000000 loops, best of 3: 381 ns per loop\n",
      "The slowest run took 4.13 times longer than the fastest. This could mean that an intermediate result is being cached.\n",
      "1000000 loops, best of 3: 1.49 µs per loop\n"
     ]
    }
   ],
   "source": [
    "%timeit [l for l in links if '//141.26.208.82/' in l]\n",
    "\n",
    "%timeit filter(lambda x: '//141.26.208.82/' in x, links)\n"
   ]
  },
  {
   "cell_type": "code",
   "execution_count": 7,
   "metadata": {
    "collapsed": false
   },
   "outputs": [
    {
     "name": "stdout",
     "output_type": "stream",
     "text": [
      "The slowest run took 5.55 times longer than the fastest. This could mean that an intermediate result is being cached.\n",
      "1000000 loops, best of 3: 925 ns per loop\n"
     ]
    }
   ],
   "source": [
    "\n",
    "def check_fun(x):\n",
    "    for l in links:\n",
    "        if x in l:\n",
    "            list2.append(l)\n",
    "\n",
    "list2=[]            \n",
    "            \n",
    "%timeit check_fun('//141.26.208.82/')"
   ]
  },
  {
   "cell_type": "markdown",
   "metadata": {},
   "source": [
    "### save data"
   ]
  },
  {
   "cell_type": "code",
   "execution_count": null,
   "metadata": {
    "collapsed": true
   },
   "outputs": [],
   "source": [
    "\n",
    "import json\n",
    "\n",
    "pages_links=[_webpage_count,_link_count]\n",
    "\n",
    "with open(\"internal_links.json\",\"w+\") as f:\n",
    "    json.dump(int_counter,f)\n",
    "with open(\"external_links.json\",\"w+\") as f:\n",
    "    json.dump(ext_counter,f)\n",
    "with open(\"pages_links.json\",\"w+\") as f:\n",
    "    json.dump(pages_links,f)"
   ]
  },
  {
   "cell_type": "markdown",
   "metadata": {},
   "source": [
    "# Exercise 3"
   ]
  },
  {
   "cell_type": "code",
   "execution_count": 22,
   "metadata": {
    "collapsed": false
   },
   "outputs": [],
   "source": [
    "#load all numbers\n",
    "import json\n",
    "with open(\"internal_links.json\") as f:\n",
    "    int_counter=json.load(f)\n",
    "with open(\"external_links.json\") as f:\n",
    "    ext_counter=json.load(f)\n",
    "with open(\"pages_links.json\") as f:\n",
    "    pages_links=json.load(f) \n",
    "\n"
   ]
  },
  {
   "cell_type": "code",
   "execution_count": 23,
   "metadata": {
    "collapsed": false
   },
   "outputs": [
    {
     "name": "stdout",
     "output_type": "stream",
     "text": [
      "Populating the interactive namespace from numpy and matplotlib\n",
      "Median: 62.0\n",
      "Mean: 77.0662258834\n",
      "Number of pages: 80918 Number of links: 5752080\n"
     ]
    },
    {
     "name": "stderr",
     "output_type": "stream",
     "text": [
      "WARNING: pylab import has clobbered these variables: ['f']\n",
      "`%matplotlib` prevents importing * from pylab and numpy\n"
     ]
    }
   ],
   "source": [
    "%pylab inline\n",
    "import numpy as np\n",
    "import matplotlib.pyplot as plt\n",
    "\n",
    "\n",
    "all_links=[x+y for x,y in zip(int_counter,ext_counter)]\n",
    "print \"Median:\",np.median(all_links)\n",
    "print \"Mean:\",np.mean(all_links)\n",
    "print \"Number of pages:\",pages_links[0],\"Number of links:\",pages_links[1]"
   ]
  },
  {
   "cell_type": "markdown",
   "metadata": {},
   "source": [
    "## What is median mean and mode?\n",
    "By Cmglee (Own work) [CC BY-SA 3.0 (http://creativecommons.org/licenses/by-sa/3.0) or GFDL (http://www.gnu.org/copyleft/fdl.html)], via Wikimedia Commons"
   ]
  },
  {
   "cell_type": "markdown",
   "metadata": {},
   "source": [
    "<img src=\"Comparison_mean_median_mode.svg.png\">"
   ]
  },
  {
   "cell_type": "code",
   "execution_count": 24,
   "metadata": {
    "collapsed": false
   },
   "outputs": [
    {
     "data": {
      "image/png": "[encoded data removed]",
      "text/plain": [
       "<matplotlib.figure.Figure at 0x7e00cc0>"
      ]
     },
     "metadata": {},
     "output_type": "display_data"
    }
   ],
   "source": [
    "plt.hist(all_links,bins=range(0, 155, 5))\n",
    "plt.plot([np.mean(all_links)]*len(range(1,5000)),range(1,5000),\"b\",label=\"mean\")\n",
    "plt.plot([np.median(all_links)]*len(range(1,5000)),range(1,5000),\"g\",label=\"median\")\n",
    "plt.ylabel(\"number of pages with x links\")\n",
    "plt.xlabel(\"number of links\")\n",
    "plt.title(\"Links Histogram\")\n",
    "plt.xlim(0,150)\n",
    "plt.legend()\n",
    "plt.show()"
   ]
  },
  {
   "cell_type": "code",
   "execution_count": 25,
   "metadata": {
    "collapsed": false
   },
   "outputs": [
    {
     "data": {
      "image/png": "[encoded data removed]",
      "text/plain": [
       "<matplotlib.figure.Figure at 0x7ee12b0>"
      ]
     },
     "metadata": {},
     "output_type": "display_data"
    }
   ],
   "source": [
    "plt.scatter(int_counter,ext_counter)\n",
    "plt.title(\"Internal and external links\")\n",
    "plt.xlabel(\"number of internal links\")\n",
    "plt.ylabel(\"number of external links\")\n",
    "plt.xlim(0,400)\n",
    "plt.ylim(0,200)\n",
    "plt.show()"
   ]
  },
  {
   "cell_type": "markdown",
   "metadata": {},
   "source": [
    "# Example of multithreading -> next week"
   ]
  },
  {
   "cell_type": "code",
   "execution_count": 248,
   "metadata": {
    "collapsed": true
   },
   "outputs": [],
   "source": [
    "from IPython.display import display\n",
    "from ipywidgets import IntProgress\n",
    "\n",
    "import threading\n",
    "\n",
    "class App(object):\n",
    "    def __init__(self, nloops=2000):\n",
    "        self.nloops = nloops\n",
    "        self.pb = IntProgress(description='Thread loops', min=0, max=self.nloops)\n",
    "\n",
    "    def start(self):\n",
    "        display(self.pb)\n",
    "        while self.pb.value < self.nloops:\n",
    "            self.pb.value += 1 \n",
    "        self.pb.color = 'red'\n",
    "\n",
    "app = App(nloops=20000)\n",
    "\n",
    "t = threading.Thread(target=app.start)\n",
    "\n",
    "t.start()\n",
    "#t.join()"
   ]
  },
  {
   "cell_type": "code",
   "execution_count": null,
   "metadata": {
    "collapsed": true
   },
   "outputs": [],
   "source": []
  }
 ],
 "metadata": {
  "kernelspec": {
   "display_name": "Python 2",
   "language": "python",
   "name": "python2"
  },
  "language_info": {
   "codemirror_mode": {
    "name": "ipython",
    "version": 2
   },
   "file_extension": ".py",
   "mimetype": "text/x-python",
   "name": "python",
   "nbconvert_exporter": "python",
   "pygments_lexer": "ipython2",
   "version": "2.7.11"
  }
 },
 "nbformat": 4,
 "nbformat_minor": 0
}
